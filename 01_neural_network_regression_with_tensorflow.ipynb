{
  "cells": [
    {
      "cell_type": "markdown",
      "metadata": {
        "id": "2r0VYRyR98vd"
      },
      "source": [
        "# Introduction to Regresssion with Neural Networks in TensorFlow\n",
        "\n",
        "There are many definitions for a regressioin problem but in our case, we're going to simplify it: predicting a numerical variable based on some other combination of variables, even shorter... predicting a number"
      ]
    },
    {
      "cell_type": "code",
      "execution_count": 1,
      "metadata": {
        "colab": {
          "base_uri": "https://localhost:8080/",
          "height": 36
        },
        "id": "Gqk1BktdP_PK",
        "outputId": "5ec8e519-4c22-4344-88f3-362c9de00019"
      },
      "outputs": [
        {
          "data": {
            "application/vnd.google.colaboratory.intrinsic+json": {
              "type": "string"
            },
            "text/plain": [
              "'2.9.2'"
            ]
          },
          "execution_count": 1,
          "metadata": {},
          "output_type": "execute_result"
        }
      ],
      "source": [
        "# Import tensorflow\n",
        "import tensorflow as tf\n",
        "\n",
        "tf.__version__"
      ]
    },
    {
      "cell_type": "markdown",
      "metadata": {
        "id": "4WViCKwsQL-7"
      },
      "source": [
        "Creating a data to view and fit"
      ]
    },
    {
      "cell_type": "code",
      "execution_count": 2,
      "metadata": {
        "colab": {
          "base_uri": "https://localhost:8080/",
          "height": 286
        },
        "id": "nEQTkt-hQ8pD",
        "outputId": "a65da41f-5d78-47b1-b52f-cb000ea0daf6"
      },
      "outputs": [
        {
          "data": {
            "text/plain": [
              "<matplotlib.collections.PathCollection at 0x7f8b929588b0>"
            ]
          },
          "execution_count": 2,
          "metadata": {},
          "output_type": "execute_result"
        },
        {
          "data": {
            "image/png": "[encoded data removed]",
            "text/plain": [
              "<Figure size 432x288 with 1 Axes>"
            ]
          },
          "metadata": {
            "needs_background": "light"
          },
          "output_type": "display_data"
        }
      ],
      "source": [
        "import numpy as np\n",
        "import matplotlib.pyplot as plt\n",
        "\n",
        "# Create features\n",
        "X = np.array([-7.0, -4.0, -1.0, 2.0, 5.0, 8.0, 11.0, 14.0])\n",
        "\n",
        "# Create labels\n",
        "y = np.array([3.0, 6.0, 9.0, 12.0, 15.0, 18.0, 21.0, 24.0])\n",
        "\n",
        "#Visualize it\n",
        "plt.scatter(X, y)"
      ]
    },
    {
      "cell_type": "markdown",
      "metadata": {
        "id": "nYn43vJLRcY0"
      },
      "source": [
        "# Input and output shapes"
      ]
    },
    {
      "cell_type": "code",
      "execution_count": 3,
      "metadata": {
        "colab": {
          "base_uri": "https://localhost:8080/"
        },
        "id": "COhSfrAcSV9L",
        "outputId": "4f5bc40c-0334-485e-9b93-0f067b43e6f2"
      },
      "outputs": [
        {
          "data": {
            "text/plain": [
              "(<tf.Tensor: shape=(3,), dtype=string, numpy=array([b'bedroom', b'bathroom', b'garage'], dtype=object)>,\n",
              " <tf.Tensor: shape=(1,), dtype=int32, numpy=array([939700], dtype=int32)>)"
            ]
          },
          "execution_count": 3,
          "metadata": {},
          "output_type": "execute_result"
        }
      ],
      "source": [
        "# Create a demo tesnor for our housing price prediction problem\n",
        "house_info = tf.constant(['bedroom', 'bathroom', 'garage'])\n",
        "house_price = tf.constant([939700])\n",
        "house_info, house_price"
      ]
    },
    {
      "cell_type": "code",
      "execution_count": 4,
      "metadata": {
        "colab": {
          "base_uri": "https://localhost:8080/"
        },
        "id": "c6vvu3AbSsI2",
        "outputId": "ee3f8b48-7250-48c7-97e1-4f89e6438e35"
      },
      "outputs": [
        {
          "data": {
            "text/plain": [
              "((8,), (8,))"
            ]
          },
          "execution_count": 4,
          "metadata": {},
          "output_type": "execute_result"
        }
      ],
      "source": [
        "input_shape = X.shape\n",
        "output_shape = y.shape\n",
        "input_shape, output_shape"
      ]
    },
    {
      "cell_type": "code",
      "execution_count": 5,
      "metadata": {
        "colab": {
          "base_uri": "https://localhost:8080/"
        },
        "id": "I5vJdEKAUD7a",
        "outputId": "224751d6-4f2b-4c74-82b5-aee36e850b93"
      },
      "outputs": [
        {
          "data": {
            "text/plain": [
              "(<tf.Tensor: shape=(8,), dtype=float64, numpy=array([-7., -4., -1.,  2.,  5.,  8., 11., 14.])>,\n",
              " <tf.Tensor: shape=(8,), dtype=float64, numpy=array([ 3.,  6.,  9., 12., 15., 18., 21., 24.])>)"
            ]
          },
          "execution_count": 5,
          "metadata": {},
          "output_type": "execute_result"
        }
      ],
      "source": [
        "# Turn out NumPy arrays into tensors\n",
        "x = tf.constant(X)\n",
        "y = tf.constant(y)\n",
        "x, y"
      ]
    },
    {
      "cell_type": "code",
      "execution_count": 6,
      "metadata": {
        "colab": {
          "base_uri": "https://localhost:8080/"
        },
        "id": "o_vNV2FtVTuk",
        "outputId": "dbf93326-cead-4502-9547-05cb0aeb7c8f"
      },
      "outputs": [
        {
          "data": {
            "text/plain": [
              "(TensorShape([]), TensorShape([]))"
            ]
          },
          "execution_count": 6,
          "metadata": {},
          "output_type": "execute_result"
        }
      ],
      "source": [
        "input_shape = x[0].shape\n",
        "output_shape = y[0].shape\n",
        "input_shape, output_shape"
      ]
    },
    {
      "cell_type": "code",
      "execution_count": 7,
      "metadata": {
        "colab": {
          "base_uri": "https://localhost:8080/",
          "height": 286
        },
        "id": "XLn-WZTEVdl0",
        "outputId": "f869ecc8-33fa-40eb-ff94-bcc3df96d429"
      },
      "outputs": [
        {
          "data": {
            "text/plain": [
              "<matplotlib.collections.PathCollection at 0x7f8b8012e220>"
            ]
          },
          "execution_count": 7,
          "metadata": {},
          "output_type": "execute_result"
        },
        {
          "data": {
            "image/png": "[encoded data removed]",
            "text/plain": [
              "<Figure size 432x288 with 1 Axes>"
            ]
          },
          "metadata": {
            "needs_background": "light"
          },
          "output_type": "display_data"
        }
      ],
      "source": [
        "plt.scatter(x, y)"
      ]
    },
    {
      "cell_type": "markdown",
      "metadata": {
        "id": "KKmSzhZNVi5H"
      },
      "source": [
        "## Seteps in modelling with Tensor Flow\n",
        "1. Creating a model - define the input and output layers, as well as the hidden layers of a dep learning model\n",
        "2. Comiling a model - define the loss function (in other words, the function which tells our model how wrong it is ) and the optimizer (tells our model how to impore the patterns its learning) and evaluatinon metrics (what we can use to interpret the performance of out model).\n",
        "3. fitting a model - letting the model try to find patterns between x and y (features and labels)."
      ]
    },
    {
      "cell_type": "code",
      "execution_count": 8,
      "metadata": {
        "colab": {
          "base_uri": "https://localhost:8080/"
        },
        "id": "fJVtmC5iVnHV",
        "outputId": "724b7eee-d19f-4793-9069-14d3de86170f"
      },
      "outputs": [
        {
          "name": "stdout",
          "output_type": "stream",
          "text": [
            "Epoch 1/5\n",
            "1/1 [==============================] - 2s 2s/step - loss: 11.5048 - mae: 11.5048\n",
            "Epoch 2/5\n",
            "1/1 [==============================] - 0s 7ms/step - loss: 11.3723 - mae: 11.3723\n",
            "Epoch 3/5\n",
            "1/1 [==============================] - 0s 9ms/step - loss: 11.2398 - mae: 11.2398\n",
            "Epoch 4/5\n",
            "1/1 [==============================] - 0s 6ms/step - loss: 11.1073 - mae: 11.1073\n",
            "Epoch 5/5\n",
            "1/1 [==============================] - 0s 7ms/step - loss: 10.9748 - mae: 10.9748\n"
          ]
        },
        {
          "data": {
            "text/plain": [
              "<keras.callbacks.History at 0x7f8b2c655040>"
            ]
          },
          "execution_count": 8,
          "metadata": {},
          "output_type": "execute_result"
        }
      ],
      "source": [
        "tf.random.set_seed(42)\n",
        "\n",
        "# 1. Create a model using the Sequential API\n",
        "model = tf.keras.Sequential([\n",
        "    tf.keras.layers.Dense(1)\n",
        "])\n",
        "\n",
        "# 2. Compile the model\n",
        "model.compile(loss=tf.keras.losses.mae,\n",
        "              optimizer=tf.keras.optimizers.SGD(),\n",
        "              metrics=[\"mae\"]\n",
        "              )\n",
        "\n",
        "# 3. Fit the model\n",
        "model.fit(tf.expand_dims(x, axis=-1), y, epochs=5)\n"
      ]
    },
    {
      "cell_type": "code",
      "execution_count": 9,
      "metadata": {
        "colab": {
          "base_uri": "https://localhost:8080/"
        },
        "id": "jH4gMTiVc9tK",
        "outputId": "fe5488fb-92c7-4a02-b069-10d918dffd83"
      },
      "outputs": [
        {
          "data": {
            "text/plain": [
              "(<tf.Tensor: shape=(8,), dtype=float64, numpy=array([-7., -4., -1.,  2.,  5.,  8., 11., 14.])>,\n",
              " <tf.Tensor: shape=(8,), dtype=float64, numpy=array([ 3.,  6.,  9., 12., 15., 18., 21., 24.])>)"
            ]
          },
          "execution_count": 9,
          "metadata": {},
          "output_type": "execute_result"
        }
      ],
      "source": [
        "# Check out x and y\n",
        "x, y"
      ]
    },
    {
      "cell_type": "code",
      "execution_count": 10,
      "metadata": {
        "colab": {
          "base_uri": "https://localhost:8080/"
        },
        "id": "sInL7F0FtuqA",
        "outputId": "399b2b29-9b90-4e73-e5ab-86ca5c69ced9"
      },
      "outputs": [
        {
          "name": "stdout",
          "output_type": "stream",
          "text": [
            "1/1 [==============================] - 0s 72ms/step\n"
          ]
        },
        {
          "data": {
            "text/plain": [
              "array([[12.716021]], dtype=float32)"
            ]
          },
          "execution_count": 10,
          "metadata": {},
          "output_type": "execute_result"
        }
      ],
      "source": [
        "# Try and make a prediction \n",
        "y_pred = model.predict([17.0])\n",
        "y_pred"
      ]
    },
    {
      "cell_type": "markdown",
      "metadata": {
        "id": "J1fWX3Set0zS"
      },
      "source": [
        "# Improving our model\n",
        "1. Creating a model - increase the number of hidden unitts, within each of hiden layers, change the activatioin function of each layer\n",
        "2. Compiling a model  - optimization function or perhaps the learning rate of the optimization function\n",
        "3. Fiting a model - more epochs or on more data\n",
        "\n",
        "we can imporve our model, by altering the steps we took to create a model"
      ]
    },
    {
      "cell_type": "code",
      "execution_count": 11,
      "metadata": {
        "colab": {
          "base_uri": "https://localhost:8080/"
        },
        "id": "KO9HQKkevmCX",
        "outputId": "1c16b82c-a3a1-4a0a-846b-14e93ce0ef54"
      },
      "outputs": [
        {
          "name": "stdout",
          "output_type": "stream",
          "text": [
            "Epoch 1/100\n",
            "1/1 [==============================] - 0s 363ms/step - loss: 11.2219 - mae: 11.2219\n",
            "Epoch 2/100\n",
            "1/1 [==============================] - 0s 7ms/step - loss: 11.0894 - mae: 11.0894\n",
            "Epoch 3/100\n",
            "1/1 [==============================] - 0s 7ms/step - loss: 10.9569 - mae: 10.9569\n",
            "Epoch 4/100\n",
            "1/1 [==============================] - 0s 7ms/step - loss: 10.8244 - mae: 10.8244\n",
            "Epoch 5/100\n",
            "1/1 [==============================] - 0s 7ms/step - loss: 10.6919 - mae: 10.6919\n",
            "Epoch 6/100\n",
            "1/1 [==============================] - 0s 8ms/step - loss: 10.5594 - mae: 10.5594\n",
            "Epoch 7/100\n",
            "1/1 [==============================] - 0s 8ms/step - loss: 10.4269 - mae: 10.4269\n",
            "Epoch 8/100\n",
            "1/1 [==============================] - 0s 8ms/step - loss: 10.2944 - mae: 10.2944\n",
            "Epoch 9/100\n",
            "1/1 [==============================] - 0s 7ms/step - loss: 10.1619 - mae: 10.1619\n",
            "Epoch 10/100\n",
            "1/1 [==============================] - 0s 8ms/step - loss: 10.0294 - mae: 10.0294\n",
            "Epoch 11/100\n",
            "1/1 [==============================] - 0s 7ms/step - loss: 9.8969 - mae: 9.8969\n",
            "Epoch 12/100\n",
            "1/1 [==============================] - 0s 8ms/step - loss: 9.7644 - mae: 9.7644\n",
            "Epoch 13/100\n",
            "1/1 [==============================] - 0s 7ms/step - loss: 9.6319 - mae: 9.6319\n",
            "Epoch 14/100\n",
            "1/1 [==============================] - 0s 7ms/step - loss: 9.4994 - mae: 9.4994\n",
            "Epoch 15/100\n",
            "1/1 [==============================] - 0s 7ms/step - loss: 9.3669 - mae: 9.3669\n",
            "Epoch 16/100\n",
            "1/1 [==============================] - 0s 8ms/step - loss: 9.2344 - mae: 9.2344\n",
            "Epoch 17/100\n",
            "1/1 [==============================] - 0s 7ms/step - loss: 9.1019 - mae: 9.1019\n",
            "Epoch 18/100\n",
            "1/1 [==============================] - 0s 6ms/step - loss: 8.9694 - mae: 8.9694\n",
            "Epoch 19/100\n",
            "1/1 [==============================] - 0s 10ms/step - loss: 8.8369 - mae: 8.8369\n",
            "Epoch 20/100\n",
            "1/1 [==============================] - 0s 9ms/step - loss: 8.7044 - mae: 8.7044\n",
            "Epoch 21/100\n",
            "1/1 [==============================] - 0s 7ms/step - loss: 8.5719 - mae: 8.5719\n",
            "Epoch 22/100\n",
            "1/1 [==============================] - 0s 8ms/step - loss: 8.4394 - mae: 8.4394\n",
            "Epoch 23/100\n",
            "1/1 [==============================] - 0s 19ms/step - loss: 8.3069 - mae: 8.3069\n",
            "Epoch 24/100\n",
            "1/1 [==============================] - 0s 6ms/step - loss: 8.1744 - mae: 8.1744\n",
            "Epoch 25/100\n",
            "1/1 [==============================] - 0s 8ms/step - loss: 8.0419 - mae: 8.0419\n",
            "Epoch 26/100\n",
            "1/1 [==============================] - 0s 9ms/step - loss: 7.9094 - mae: 7.9094\n",
            "Epoch 27/100\n",
            "1/1 [==============================] - 0s 7ms/step - loss: 7.7769 - mae: 7.7769\n",
            "Epoch 28/100\n",
            "1/1 [==============================] - 0s 6ms/step - loss: 7.6444 - mae: 7.6444\n",
            "Epoch 29/100\n",
            "1/1 [==============================] - 0s 7ms/step - loss: 7.5119 - mae: 7.5119\n",
            "Epoch 30/100\n",
            "1/1 [==============================] - 0s 7ms/step - loss: 7.3794 - mae: 7.3794\n",
            "Epoch 31/100\n",
            "1/1 [==============================] - 0s 8ms/step - loss: 7.2750 - mae: 7.2750\n",
            "Epoch 32/100\n",
            "1/1 [==============================] - 0s 8ms/step - loss: 7.2694 - mae: 7.2694\n",
            "Epoch 33/100\n",
            "1/1 [==============================] - 0s 9ms/step - loss: 7.2638 - mae: 7.2638\n",
            "Epoch 34/100\n",
            "1/1 [==============================] - 0s 6ms/step - loss: 7.2581 - mae: 7.2581\n",
            "Epoch 35/100\n",
            "1/1 [==============================] - 0s 7ms/step - loss: 7.2525 - mae: 7.2525\n",
            "Epoch 36/100\n",
            "1/1 [==============================] - 0s 8ms/step - loss: 7.2469 - mae: 7.2469\n",
            "Epoch 37/100\n",
            "1/1 [==============================] - 0s 9ms/step - loss: 7.2413 - mae: 7.2413\n",
            "Epoch 38/100\n",
            "1/1 [==============================] - 0s 8ms/step - loss: 7.2356 - mae: 7.2356\n",
            "Epoch 39/100\n",
            "1/1 [==============================] - 0s 8ms/step - loss: 7.2300 - mae: 7.2300\n",
            "Epoch 40/100\n",
            "1/1 [==============================] - 0s 17ms/step - loss: 7.2244 - mae: 7.2244\n",
            "Epoch 41/100\n",
            "1/1 [==============================] - 0s 8ms/step - loss: 7.2188 - mae: 7.2188\n",
            "Epoch 42/100\n",
            "1/1 [==============================] - 0s 7ms/step - loss: 7.2131 - mae: 7.2131\n",
            "Epoch 43/100\n",
            "1/1 [==============================] - 0s 9ms/step - loss: 7.2075 - mae: 7.2075\n",
            "Epoch 44/100\n",
            "1/1 [==============================] - 0s 8ms/step - loss: 7.2019 - mae: 7.2019\n",
            "Epoch 45/100\n",
            "1/1 [==============================] - 0s 7ms/step - loss: 7.1962 - mae: 7.1962\n",
            "Epoch 46/100\n",
            "1/1 [==============================] - 0s 6ms/step - loss: 7.1906 - mae: 7.1906\n",
            "Epoch 47/100\n",
            "1/1 [==============================] - 0s 8ms/step - loss: 7.1850 - mae: 7.1850\n",
            "Epoch 48/100\n",
            "1/1 [==============================] - 0s 7ms/step - loss: 7.1794 - mae: 7.1794\n",
            "Epoch 49/100\n",
            "1/1 [==============================] - 0s 7ms/step - loss: 7.1737 - mae: 7.1737\n",
            "Epoch 50/100\n",
            "1/1 [==============================] - 0s 7ms/step - loss: 7.1681 - mae: 7.1681\n",
            "Epoch 51/100\n",
            "1/1 [==============================] - 0s 7ms/step - loss: 7.1625 - mae: 7.1625\n",
            "Epoch 52/100\n",
            "1/1 [==============================] - 0s 7ms/step - loss: 7.1569 - mae: 7.1569\n",
            "Epoch 53/100\n",
            "1/1 [==============================] - 0s 7ms/step - loss: 7.1512 - mae: 7.1512\n",
            "Epoch 54/100\n",
            "1/1 [==============================] - 0s 8ms/step - loss: 7.1456 - mae: 7.1456\n",
            "Epoch 55/100\n",
            "1/1 [==============================] - 0s 8ms/step - loss: 7.1400 - mae: 7.1400\n",
            "Epoch 56/100\n",
            "1/1 [==============================] - 0s 8ms/step - loss: 7.1344 - mae: 7.1344\n",
            "Epoch 57/100\n",
            "1/1 [==============================] - 0s 11ms/step - loss: 7.1287 - mae: 7.1287\n",
            "Epoch 58/100\n",
            "1/1 [==============================] - 0s 10ms/step - loss: 7.1231 - mae: 7.1231\n",
            "Epoch 59/100\n",
            "1/1 [==============================] - 0s 8ms/step - loss: 7.1175 - mae: 7.1175\n",
            "Epoch 60/100\n",
            "1/1 [==============================] - 0s 7ms/step - loss: 7.1119 - mae: 7.1119\n",
            "Epoch 61/100\n",
            "1/1 [==============================] - 0s 7ms/step - loss: 7.1062 - mae: 7.1062\n",
            "Epoch 62/100\n",
            "1/1 [==============================] - 0s 9ms/step - loss: 7.1006 - mae: 7.1006\n",
            "Epoch 63/100\n",
            "1/1 [==============================] - 0s 8ms/step - loss: 7.0950 - mae: 7.0950\n",
            "Epoch 64/100\n",
            "1/1 [==============================] - 0s 9ms/step - loss: 7.0894 - mae: 7.0894\n",
            "Epoch 65/100\n",
            "1/1 [==============================] - 0s 10ms/step - loss: 7.0838 - mae: 7.0838\n",
            "Epoch 66/100\n",
            "1/1 [==============================] - 0s 8ms/step - loss: 7.0781 - mae: 7.0781\n",
            "Epoch 67/100\n",
            "1/1 [==============================] - 0s 14ms/step - loss: 7.0725 - mae: 7.0725\n",
            "Epoch 68/100\n",
            "1/1 [==============================] - 0s 10ms/step - loss: 7.0669 - mae: 7.0669\n",
            "Epoch 69/100\n",
            "1/1 [==============================] - 0s 9ms/step - loss: 7.0613 - mae: 7.0613\n",
            "Epoch 70/100\n",
            "1/1 [==============================] - 0s 7ms/step - loss: 7.0556 - mae: 7.0556\n",
            "Epoch 71/100\n",
            "1/1 [==============================] - 0s 8ms/step - loss: 7.0500 - mae: 7.0500\n",
            "Epoch 72/100\n",
            "1/1 [==============================] - 0s 10ms/step - loss: 7.0444 - mae: 7.0444\n",
            "Epoch 73/100\n",
            "1/1 [==============================] - 0s 8ms/step - loss: 7.0388 - mae: 7.0388\n",
            "Epoch 74/100\n",
            "1/1 [==============================] - 0s 7ms/step - loss: 7.0331 - mae: 7.0331\n",
            "Epoch 75/100\n",
            "1/1 [==============================] - 0s 9ms/step - loss: 7.0275 - mae: 7.0275\n",
            "Epoch 76/100\n",
            "1/1 [==============================] - 0s 7ms/step - loss: 7.0219 - mae: 7.0219\n",
            "Epoch 77/100\n",
            "1/1 [==============================] - 0s 10ms/step - loss: 7.0163 - mae: 7.0163\n",
            "Epoch 78/100\n",
            "1/1 [==============================] - 0s 7ms/step - loss: 7.0106 - mae: 7.0106\n",
            "Epoch 79/100\n",
            "1/1 [==============================] - 0s 9ms/step - loss: 7.0050 - mae: 7.0050\n",
            "Epoch 80/100\n",
            "1/1 [==============================] - 0s 9ms/step - loss: 6.9994 - mae: 6.9994\n",
            "Epoch 81/100\n",
            "1/1 [==============================] - 0s 7ms/step - loss: 6.9938 - mae: 6.9938\n",
            "Epoch 82/100\n",
            "1/1 [==============================] - 0s 7ms/step - loss: 6.9881 - mae: 6.9881\n",
            "Epoch 83/100\n",
            "1/1 [==============================] - 0s 7ms/step - loss: 6.9825 - mae: 6.9825\n",
            "Epoch 84/100\n",
            "1/1 [==============================] - 0s 8ms/step - loss: 6.9769 - mae: 6.9769\n",
            "Epoch 85/100\n",
            "1/1 [==============================] - 0s 7ms/step - loss: 6.9713 - mae: 6.9713\n",
            "Epoch 86/100\n",
            "1/1 [==============================] - 0s 8ms/step - loss: 6.9656 - mae: 6.9656\n",
            "Epoch 87/100\n",
            "1/1 [==============================] - 0s 7ms/step - loss: 6.9600 - mae: 6.9600\n",
            "Epoch 88/100\n",
            "1/1 [==============================] - 0s 7ms/step - loss: 6.9544 - mae: 6.9544\n",
            "Epoch 89/100\n",
            "1/1 [==============================] - 0s 8ms/step - loss: 6.9488 - mae: 6.9488\n",
            "Epoch 90/100\n",
            "1/1 [==============================] - 0s 7ms/step - loss: 6.9431 - mae: 6.9431\n",
            "Epoch 91/100\n",
            "1/1 [==============================] - 0s 7ms/step - loss: 6.9375 - mae: 6.9375\n",
            "Epoch 92/100\n",
            "1/1 [==============================] - 0s 7ms/step - loss: 6.9319 - mae: 6.9319\n",
            "Epoch 93/100\n",
            "1/1 [==============================] - 0s 9ms/step - loss: 6.9262 - mae: 6.9262\n",
            "Epoch 94/100\n",
            "1/1 [==============================] - 0s 6ms/step - loss: 6.9206 - mae: 6.9206\n",
            "Epoch 95/100\n",
            "1/1 [==============================] - 0s 8ms/step - loss: 6.9150 - mae: 6.9150\n",
            "Epoch 96/100\n",
            "1/1 [==============================] - 0s 8ms/step - loss: 6.9094 - mae: 6.9094\n",
            "Epoch 97/100\n",
            "1/1 [==============================] - 0s 7ms/step - loss: 6.9038 - mae: 6.9038\n",
            "Epoch 98/100\n",
            "1/1 [==============================] - 0s 7ms/step - loss: 6.8981 - mae: 6.8981\n",
            "Epoch 99/100\n",
            "1/1 [==============================] - 0s 13ms/step - loss: 6.8925 - mae: 6.8925\n",
            "Epoch 100/100\n",
            "1/1 [==============================] - 0s 8ms/step - loss: 6.8869 - mae: 6.8869\n"
          ]
        },
        {
          "data": {
            "text/plain": [
              "<keras.callbacks.History at 0x7f8b2c5f1c40>"
            ]
          },
          "execution_count": 11,
          "metadata": {},
          "output_type": "execute_result"
        }
      ],
      "source": [
        "# Lets rebuild our model\n",
        "\n",
        "# 1. Create a model\n",
        "model = tf.keras.Sequential(\n",
        "    [\n",
        "        tf.keras.layers.Dense(1)\n",
        "    ]\n",
        ")\n",
        "\n",
        "# 2. Compile our model\n",
        "model.compile(\n",
        "    optimizer=\"SGD\",\n",
        "    loss=\"mae\",\n",
        "    metrics=[\"mae\"]\n",
        ")\n",
        "\n",
        "# 3. Fiting a modell\n",
        "model.fit(tf.expand_dims(x, axis=-1), y, epochs=100)"
      ]
    },
    {
      "cell_type": "code",
      "execution_count": 12,
      "metadata": {
        "colab": {
          "base_uri": "https://localhost:8080/"
        },
        "id": "FOxvx7ti1l0Y",
        "outputId": "64396d0a-60d0-48b1-cfa5-b2eebc749521"
      },
      "outputs": [
        {
          "data": {
            "text/plain": [
              "(<tf.Tensor: shape=(8,), dtype=float64, numpy=array([-7., -4., -1.,  2.,  5.,  8., 11., 14.])>,\n",
              " <tf.Tensor: shape=(8,), dtype=float64, numpy=array([ 3.,  6.,  9., 12., 15., 18., 21., 24.])>)"
            ]
          },
          "execution_count": 12,
          "metadata": {},
          "output_type": "execute_result"
        }
      ],
      "source": [
        "x, y"
      ]
    },
    {
      "cell_type": "code",
      "execution_count": 13,
      "metadata": {
        "colab": {
          "base_uri": "https://localhost:8080/"
        },
        "id": "vuWr_jF-0DMO",
        "outputId": "b4e50226-eecb-4436-ebe4-aec606045175"
      },
      "outputs": [
        {
          "name": "stdout",
          "output_type": "stream",
          "text": [
            "1/1 [==============================] - 0s 42ms/step\n"
          ]
        },
        {
          "data": {
            "text/plain": [
              "array([[29.739855]], dtype=float32)"
            ]
          },
          "execution_count": 13,
          "metadata": {},
          "output_type": "execute_result"
        }
      ],
      "source": [
        "y_pred = model.predict([17.0])\n",
        "y_pred"
      ]
    },
    {
      "cell_type": "markdown",
      "metadata": {
        "id": "EVvLejBF0XgE"
      },
      "source": [
        "## Trying out by myself"
      ]
    },
    {
      "cell_type": "code",
      "execution_count": 14,
      "metadata": {
        "colab": {
          "base_uri": "https://localhost:8080/"
        },
        "id": "PC1RuhqG2Gf7",
        "outputId": "237418a7-ad22-4ada-97f3-52d897071540"
      },
      "outputs": [
        {
          "name": "stdout",
          "output_type": "stream",
          "text": [
            "Epoch 1/150\n"
          ]
        },
        {
          "name": "stderr",
          "output_type": "stream",
          "text": [
            "/usr/local/lib/python3.8/dist-packages/keras/optimizers/optimizer_v2/adam.py:110: UserWarning: The `lr` argument is deprecated, use `learning_rate` instead.\n",
            "  super(Adam, self).__init__(name, **kwargs)\n"
          ]
        },
        {
          "name": "stdout",
          "output_type": "stream",
          "text": [
            "1/1 [==============================] - 0s 394ms/step - loss: 12.9513 - mae: 12.9513\n",
            "Epoch 2/150\n",
            "1/1 [==============================] - 0s 8ms/step - loss: 12.5285 - mae: 12.5285\n",
            "Epoch 3/150\n",
            "1/1 [==============================] - 0s 8ms/step - loss: 12.1098 - mae: 12.1098\n",
            "Epoch 4/150\n",
            "1/1 [==============================] - 0s 10ms/step - loss: 11.6979 - mae: 11.6979\n",
            "Epoch 5/150\n",
            "1/1 [==============================] - 0s 7ms/step - loss: 11.2893 - mae: 11.2893\n",
            "Epoch 6/150\n",
            "1/1 [==============================] - 0s 9ms/step - loss: 10.8901 - mae: 10.8901\n",
            "Epoch 7/150\n",
            "1/1 [==============================] - 0s 8ms/step - loss: 10.5068 - mae: 10.5068\n",
            "Epoch 8/150\n",
            "1/1 [==============================] - 0s 8ms/step - loss: 10.1209 - mae: 10.1209\n",
            "Epoch 9/150\n",
            "1/1 [==============================] - 0s 8ms/step - loss: 9.7311 - mae: 9.7311\n",
            "Epoch 10/150\n",
            "1/1 [==============================] - 0s 8ms/step - loss: 9.3167 - mae: 9.3167\n",
            "Epoch 11/150\n",
            "1/1 [==============================] - 0s 7ms/step - loss: 8.8796 - mae: 8.8796\n",
            "Epoch 12/150\n",
            "1/1 [==============================] - 0s 8ms/step - loss: 8.4478 - mae: 8.4478\n",
            "Epoch 13/150\n",
            "1/1 [==============================] - 0s 8ms/step - loss: 8.0553 - mae: 8.0553\n",
            "Epoch 14/150\n",
            "1/1 [==============================] - 0s 6ms/step - loss: 7.6417 - mae: 7.6417\n",
            "Epoch 15/150\n",
            "1/1 [==============================] - 0s 7ms/step - loss: 7.2036 - mae: 7.2036\n",
            "Epoch 16/150\n",
            "1/1 [==============================] - 0s 8ms/step - loss: 6.7337 - mae: 6.7337\n",
            "Epoch 17/150\n",
            "1/1 [==============================] - 0s 9ms/step - loss: 6.2390 - mae: 6.2390\n",
            "Epoch 18/150\n",
            "1/1 [==============================] - 0s 9ms/step - loss: 5.7123 - mae: 5.7123\n",
            "Epoch 19/150\n",
            "1/1 [==============================] - 0s 9ms/step - loss: 5.1504 - mae: 5.1504\n",
            "Epoch 20/150\n",
            "1/1 [==============================] - 0s 9ms/step - loss: 4.5514 - mae: 4.5514\n",
            "Epoch 21/150\n",
            "1/1 [==============================] - 0s 10ms/step - loss: 4.1225 - mae: 4.1225\n",
            "Epoch 22/150\n",
            "1/1 [==============================] - 0s 7ms/step - loss: 3.9247 - mae: 3.9247\n",
            "Epoch 23/150\n",
            "1/1 [==============================] - 0s 7ms/step - loss: 4.0670 - mae: 4.0670\n",
            "Epoch 24/150\n",
            "1/1 [==============================] - 0s 6ms/step - loss: 4.1968 - mae: 4.1968\n",
            "Epoch 25/150\n",
            "1/1 [==============================] - 0s 7ms/step - loss: 4.3344 - mae: 4.3344\n",
            "Epoch 26/150\n",
            "1/1 [==============================] - 0s 7ms/step - loss: 4.5501 - mae: 4.5501\n",
            "Epoch 27/150\n",
            "1/1 [==============================] - 0s 7ms/step - loss: 4.6800 - mae: 4.6800\n",
            "Epoch 28/150\n",
            "1/1 [==============================] - 0s 9ms/step - loss: 4.7330 - mae: 4.7330\n",
            "Epoch 29/150\n",
            "1/1 [==============================] - 0s 7ms/step - loss: 4.7179 - mae: 4.7179\n",
            "Epoch 30/150\n",
            "1/1 [==============================] - 0s 7ms/step - loss: 4.6453 - mae: 4.6453\n",
            "Epoch 31/150\n",
            "1/1 [==============================] - 0s 8ms/step - loss: 4.5235 - mae: 4.5235\n",
            "Epoch 32/150\n",
            "1/1 [==============================] - 0s 7ms/step - loss: 4.3622 - mae: 4.3622\n",
            "Epoch 33/150\n",
            "1/1 [==============================] - 0s 7ms/step - loss: 4.2044 - mae: 4.2044\n",
            "Epoch 34/150\n",
            "1/1 [==============================] - 0s 8ms/step - loss: 4.1277 - mae: 4.1277\n",
            "Epoch 35/150\n",
            "1/1 [==============================] - 0s 8ms/step - loss: 4.0525 - mae: 4.0525\n",
            "Epoch 36/150\n",
            "1/1 [==============================] - 0s 9ms/step - loss: 3.9784 - mae: 3.9784\n",
            "Epoch 37/150\n",
            "1/1 [==============================] - 0s 6ms/step - loss: 3.9052 - mae: 3.9052\n",
            "Epoch 38/150\n",
            "1/1 [==============================] - 0s 6ms/step - loss: 3.8333 - mae: 3.8333\n",
            "Epoch 39/150\n",
            "1/1 [==============================] - 0s 8ms/step - loss: 3.8401 - mae: 3.8401\n",
            "Epoch 40/150\n",
            "1/1 [==============================] - 0s 8ms/step - loss: 3.8941 - mae: 3.8941\n",
            "Epoch 41/150\n",
            "1/1 [==============================] - 0s 7ms/step - loss: 3.9317 - mae: 3.9317\n",
            "Epoch 42/150\n",
            "1/1 [==============================] - 0s 7ms/step - loss: 3.9546 - mae: 3.9546\n",
            "Epoch 43/150\n",
            "1/1 [==============================] - 0s 7ms/step - loss: 3.9649 - mae: 3.9649\n",
            "Epoch 44/150\n",
            "1/1 [==============================] - 0s 7ms/step - loss: 3.9633 - mae: 3.9633\n",
            "Epoch 45/150\n",
            "1/1 [==============================] - 0s 7ms/step - loss: 3.9511 - mae: 3.9511\n",
            "Epoch 46/150\n",
            "1/1 [==============================] - 0s 8ms/step - loss: 3.9295 - mae: 3.9295\n",
            "Epoch 47/150\n",
            "1/1 [==============================] - 0s 7ms/step - loss: 3.8990 - mae: 3.8990\n",
            "Epoch 48/150\n",
            "1/1 [==============================] - 0s 6ms/step - loss: 3.8589 - mae: 3.8589\n",
            "Epoch 49/150\n",
            "1/1 [==============================] - 0s 9ms/step - loss: 3.8109 - mae: 3.8109\n",
            "Epoch 50/150\n",
            "1/1 [==============================] - 0s 10ms/step - loss: 3.7558 - mae: 3.7558\n",
            "Epoch 51/150\n",
            "1/1 [==============================] - 0s 7ms/step - loss: 3.6929 - mae: 3.6929\n",
            "Epoch 52/150\n",
            "1/1 [==============================] - 0s 6ms/step - loss: 3.7065 - mae: 3.7065\n",
            "Epoch 53/150\n",
            "1/1 [==============================] - 0s 8ms/step - loss: 3.7302 - mae: 3.7302\n",
            "Epoch 54/150\n",
            "1/1 [==============================] - 0s 7ms/step - loss: 3.7500 - mae: 3.7500\n",
            "Epoch 55/150\n",
            "1/1 [==============================] - 0s 7ms/step - loss: 3.7535 - mae: 3.7535\n",
            "Epoch 56/150\n",
            "1/1 [==============================] - 0s 11ms/step - loss: 3.7540 - mae: 3.7540\n",
            "Epoch 57/150\n",
            "1/1 [==============================] - 0s 7ms/step - loss: 3.7465 - mae: 3.7465\n",
            "Epoch 58/150\n",
            "1/1 [==============================] - 0s 7ms/step - loss: 3.7322 - mae: 3.7322\n",
            "Epoch 59/150\n",
            "1/1 [==============================] - 0s 7ms/step - loss: 3.7112 - mae: 3.7112\n",
            "Epoch 60/150\n",
            "1/1 [==============================] - 0s 8ms/step - loss: 3.6848 - mae: 3.6848\n",
            "Epoch 61/150\n",
            "1/1 [==============================] - 0s 8ms/step - loss: 3.6529 - mae: 3.6529\n",
            "Epoch 62/150\n",
            "1/1 [==============================] - 0s 8ms/step - loss: 3.6281 - mae: 3.6281\n",
            "Epoch 63/150\n",
            "1/1 [==============================] - 0s 7ms/step - loss: 3.5796 - mae: 3.5796\n",
            "Epoch 64/150\n",
            "1/1 [==============================] - 0s 6ms/step - loss: 3.6102 - mae: 3.6102\n",
            "Epoch 65/150\n",
            "1/1 [==============================] - 0s 6ms/step - loss: 3.6314 - mae: 3.6314\n",
            "Epoch 66/150\n",
            "1/1 [==============================] - 0s 8ms/step - loss: 3.6358 - mae: 3.6358\n",
            "Epoch 67/150\n",
            "1/1 [==============================] - 0s 8ms/step - loss: 3.6249 - mae: 3.6249\n",
            "Epoch 68/150\n",
            "1/1 [==============================] - 0s 7ms/step - loss: 3.5999 - mae: 3.5999\n",
            "Epoch 69/150\n",
            "1/1 [==============================] - 0s 9ms/step - loss: 3.5608 - mae: 3.5608\n",
            "Epoch 70/150\n",
            "1/1 [==============================] - 0s 8ms/step - loss: 3.5100 - mae: 3.5100\n",
            "Epoch 71/150\n",
            "1/1 [==============================] - 0s 9ms/step - loss: 3.5159 - mae: 3.5159\n",
            "Epoch 72/150\n",
            "1/1 [==============================] - 0s 7ms/step - loss: 3.5175 - mae: 3.5175\n",
            "Epoch 73/150\n",
            "1/1 [==============================] - 0s 6ms/step - loss: 3.5070 - mae: 3.5070\n",
            "Epoch 74/150\n",
            "1/1 [==============================] - 0s 9ms/step - loss: 3.4920 - mae: 3.4920\n",
            "Epoch 75/150\n",
            "1/1 [==============================] - 0s 6ms/step - loss: 3.4704 - mae: 3.4704\n",
            "Epoch 76/150\n",
            "1/1 [==============================] - 0s 9ms/step - loss: 3.4534 - mae: 3.4534\n",
            "Epoch 77/150\n",
            "1/1 [==============================] - 0s 8ms/step - loss: 3.4483 - mae: 3.4483\n",
            "Epoch 78/150\n",
            "1/1 [==============================] - 0s 9ms/step - loss: 3.4268 - mae: 3.4268\n",
            "Epoch 79/150\n",
            "1/1 [==============================] - 0s 9ms/step - loss: 3.4194 - mae: 3.4194\n",
            "Epoch 80/150\n",
            "1/1 [==============================] - 0s 8ms/step - loss: 3.4120 - mae: 3.4120\n",
            "Epoch 81/150\n",
            "1/1 [==============================] - 0s 9ms/step - loss: 3.3956 - mae: 3.3956\n",
            "Epoch 82/150\n",
            "1/1 [==============================] - 0s 8ms/step - loss: 3.3757 - mae: 3.3757\n",
            "Epoch 83/150\n",
            "1/1 [==============================] - 0s 9ms/step - loss: 3.3477 - mae: 3.3477\n",
            "Epoch 84/150\n",
            "1/1 [==============================] - 0s 8ms/step - loss: 3.3362 - mae: 3.3362\n",
            "Epoch 85/150\n",
            "1/1 [==============================] - 0s 8ms/step - loss: 3.3275 - mae: 3.3275\n",
            "Epoch 86/150\n",
            "1/1 [==============================] - 0s 10ms/step - loss: 3.3051 - mae: 3.3051\n",
            "Epoch 87/150\n",
            "1/1 [==============================] - 0s 7ms/step - loss: 3.2856 - mae: 3.2856\n",
            "Epoch 88/150\n",
            "1/1 [==============================] - 0s 8ms/step - loss: 3.2694 - mae: 3.2694\n",
            "Epoch 89/150\n",
            "1/1 [==============================] - 0s 19ms/step - loss: 3.2465 - mae: 3.2465\n",
            "Epoch 90/150\n",
            "1/1 [==============================] - 0s 8ms/step - loss: 3.2267 - mae: 3.2267\n",
            "Epoch 91/150\n",
            "1/1 [==============================] - 0s 7ms/step - loss: 3.2103 - mae: 3.2103\n",
            "Epoch 92/150\n",
            "1/1 [==============================] - 0s 8ms/step - loss: 3.1834 - mae: 3.1834\n",
            "Epoch 93/150\n",
            "1/1 [==============================] - 0s 8ms/step - loss: 3.1620 - mae: 3.1620\n",
            "Epoch 94/150\n",
            "1/1 [==============================] - 0s 7ms/step - loss: 3.1473 - mae: 3.1473\n",
            "Epoch 95/150\n",
            "1/1 [==============================] - 0s 9ms/step - loss: 3.1263 - mae: 3.1263\n",
            "Epoch 96/150\n",
            "1/1 [==============================] - 0s 11ms/step - loss: 3.1041 - mae: 3.1041\n",
            "Epoch 97/150\n",
            "1/1 [==============================] - 0s 10ms/step - loss: 3.0863 - mae: 3.0863\n",
            "Epoch 98/150\n",
            "1/1 [==============================] - 0s 9ms/step - loss: 3.0641 - mae: 3.0641\n",
            "Epoch 99/150\n",
            "1/1 [==============================] - 0s 7ms/step - loss: 3.0412 - mae: 3.0412\n",
            "Epoch 100/150\n",
            "1/1 [==============================] - 0s 7ms/step - loss: 3.0252 - mae: 3.0252\n",
            "Epoch 101/150\n",
            "1/1 [==============================] - 0s 8ms/step - loss: 2.9976 - mae: 2.9976\n",
            "Epoch 102/150\n",
            "1/1 [==============================] - 0s 7ms/step - loss: 2.9596 - mae: 2.9596\n",
            "Epoch 103/150\n",
            "1/1 [==============================] - 0s 7ms/step - loss: 2.9629 - mae: 2.9629\n",
            "Epoch 104/150\n",
            "1/1 [==============================] - 0s 7ms/step - loss: 2.9354 - mae: 2.9354\n",
            "Epoch 105/150\n",
            "1/1 [==============================] - 0s 7ms/step - loss: 2.8779 - mae: 2.8779\n",
            "Epoch 106/150\n",
            "1/1 [==============================] - 0s 8ms/step - loss: 2.8590 - mae: 2.8590\n",
            "Epoch 107/150\n",
            "1/1 [==============================] - 0s 6ms/step - loss: 2.8406 - mae: 2.8406\n",
            "Epoch 108/150\n",
            "1/1 [==============================] - 0s 7ms/step - loss: 2.8252 - mae: 2.8252\n",
            "Epoch 109/150\n",
            "1/1 [==============================] - 0s 9ms/step - loss: 2.7753 - mae: 2.7753\n",
            "Epoch 110/150\n",
            "1/1 [==============================] - 0s 8ms/step - loss: 2.7281 - mae: 2.7281\n",
            "Epoch 111/150\n",
            "1/1 [==============================] - 0s 7ms/step - loss: 2.6679 - mae: 2.6679\n",
            "Epoch 112/150\n",
            "1/1 [==============================] - 0s 9ms/step - loss: 2.6428 - mae: 2.6428\n",
            "Epoch 113/150\n",
            "1/1 [==============================] - 0s 7ms/step - loss: 2.6052 - mae: 2.6052\n",
            "Epoch 114/150\n",
            "1/1 [==============================] - 0s 7ms/step - loss: 2.5228 - mae: 2.5228\n",
            "Epoch 115/150\n",
            "1/1 [==============================] - 0s 7ms/step - loss: 2.4479 - mae: 2.4479\n",
            "Epoch 116/150\n",
            "1/1 [==============================] - 0s 9ms/step - loss: 2.4003 - mae: 2.4003\n",
            "Epoch 117/150\n",
            "1/1 [==============================] - 0s 6ms/step - loss: 2.3272 - mae: 2.3272\n",
            "Epoch 118/150\n",
            "1/1 [==============================] - 0s 6ms/step - loss: 2.2283 - mae: 2.2283\n",
            "Epoch 119/150\n",
            "1/1 [==============================] - 0s 6ms/step - loss: 2.1000 - mae: 2.1000\n",
            "Epoch 120/150\n",
            "1/1 [==============================] - 0s 9ms/step - loss: 2.0172 - mae: 2.0172\n",
            "Epoch 121/150\n",
            "1/1 [==============================] - 0s 6ms/step - loss: 1.9335 - mae: 1.9335\n",
            "Epoch 122/150\n",
            "1/1 [==============================] - 0s 7ms/step - loss: 1.8949 - mae: 1.8949\n",
            "Epoch 123/150\n",
            "1/1 [==============================] - 0s 6ms/step - loss: 1.7888 - mae: 1.7888\n",
            "Epoch 124/150\n",
            "1/1 [==============================] - 0s 10ms/step - loss: 1.7254 - mae: 1.7254\n",
            "Epoch 125/150\n",
            "1/1 [==============================] - 0s 6ms/step - loss: 1.6648 - mae: 1.6648\n",
            "Epoch 126/150\n",
            "1/1 [==============================] - 0s 6ms/step - loss: 1.5770 - mae: 1.5770\n",
            "Epoch 127/150\n",
            "1/1 [==============================] - 0s 6ms/step - loss: 1.4650 - mae: 1.4650\n",
            "Epoch 128/150\n",
            "1/1 [==============================] - 0s 9ms/step - loss: 1.3237 - mae: 1.3237\n",
            "Epoch 129/150\n",
            "1/1 [==============================] - 0s 6ms/step - loss: 1.1765 - mae: 1.1765\n",
            "Epoch 130/150\n",
            "1/1 [==============================] - 0s 6ms/step - loss: 1.1146 - mae: 1.1146\n",
            "Epoch 131/150\n",
            "1/1 [==============================] - 0s 9ms/step - loss: 0.9913 - mae: 0.9913\n",
            "Epoch 132/150\n",
            "1/1 [==============================] - 0s 6ms/step - loss: 0.8157 - mae: 0.8157\n",
            "Epoch 133/150\n",
            "1/1 [==============================] - 0s 6ms/step - loss: 0.7402 - mae: 0.7402\n",
            "Epoch 134/150\n",
            "1/1 [==============================] - 0s 7ms/step - loss: 0.6239 - mae: 0.6239\n",
            "Epoch 135/150\n",
            "1/1 [==============================] - 0s 8ms/step - loss: 0.5655 - mae: 0.5655\n",
            "Epoch 136/150\n",
            "1/1 [==============================] - 0s 8ms/step - loss: 0.5604 - mae: 0.5604\n",
            "Epoch 137/150\n",
            "1/1 [==============================] - 0s 8ms/step - loss: 0.5044 - mae: 0.5044\n",
            "Epoch 138/150\n",
            "1/1 [==============================] - 0s 6ms/step - loss: 0.5781 - mae: 0.5781\n",
            "Epoch 139/150\n",
            "1/1 [==============================] - 0s 8ms/step - loss: 0.4655 - mae: 0.4655\n",
            "Epoch 140/150\n",
            "1/1 [==============================] - 0s 7ms/step - loss: 0.5845 - mae: 0.5845\n",
            "Epoch 141/150\n",
            "1/1 [==============================] - 0s 8ms/step - loss: 0.4718 - mae: 0.4718\n",
            "Epoch 142/150\n",
            "1/1 [==============================] - 0s 7ms/step - loss: 0.5514 - mae: 0.5514\n",
            "Epoch 143/150\n",
            "1/1 [==============================] - 0s 9ms/step - loss: 0.5515 - mae: 0.5515\n",
            "Epoch 144/150\n",
            "1/1 [==============================] - 0s 6ms/step - loss: 0.3830 - mae: 0.3830\n",
            "Epoch 145/150\n",
            "1/1 [==============================] - 0s 7ms/step - loss: 0.5253 - mae: 0.5253\n",
            "Epoch 146/150\n",
            "1/1 [==============================] - 0s 7ms/step - loss: 0.3029 - mae: 0.3029\n",
            "Epoch 147/150\n",
            "1/1 [==============================] - 0s 7ms/step - loss: 0.6890 - mae: 0.6890\n",
            "Epoch 148/150\n",
            "1/1 [==============================] - 0s 7ms/step - loss: 0.7716 - mae: 0.7716\n",
            "Epoch 149/150\n",
            "1/1 [==============================] - 0s 7ms/step - loss: 0.3880 - mae: 0.3880\n",
            "Epoch 150/150\n",
            "1/1 [==============================] - 0s 7ms/step - loss: 0.6524 - mae: 0.6524\n"
          ]
        },
        {
          "data": {
            "text/plain": [
              "<keras.callbacks.History at 0x7f8b2c3b1610>"
            ]
          },
          "execution_count": 14,
          "metadata": {},
          "output_type": "execute_result"
        }
      ],
      "source": [
        "try_model = tf.keras.Sequential([\n",
        "    tf.keras.layers.Dense(100, activation=\"relu\"),\n",
        "    tf.keras.layers.Dense(100, activation=\"relu\"),\n",
        "    tf.keras.layers.Dense(100, activation=\"relu\"),\n",
        "    tf.keras.layers.Dense(1)\n",
        "])\n",
        "\n",
        "try_model.compile(\n",
        "    optimizer=tf.keras.optimizers.Adam(lr=0.001),\n",
        "    loss=\"mae\",\n",
        "    metrics=[\"mae\"]\n",
        ")\n",
        "\n",
        "try_model.fit(tf.expand_dims(x, axis=-1), y, epochs=150)"
      ]
    },
    {
      "cell_type": "code",
      "execution_count": 15,
      "metadata": {
        "colab": {
          "base_uri": "https://localhost:8080/"
        },
        "id": "r05fIJn226D4",
        "outputId": "4c05ab8f-833a-4096-e0aa-4adf8a742fbf"
      },
      "outputs": [
        {
          "data": {
            "text/plain": [
              "(<tf.Tensor: shape=(8,), dtype=float64, numpy=array([-7., -4., -1.,  2.,  5.,  8., 11., 14.])>,\n",
              " <tf.Tensor: shape=(8,), dtype=float64, numpy=array([ 3.,  6.,  9., 12., 15., 18., 21., 24.])>)"
            ]
          },
          "execution_count": 15,
          "metadata": {},
          "output_type": "execute_result"
        }
      ],
      "source": [
        "x, y"
      ]
    },
    {
      "cell_type": "code",
      "execution_count": 16,
      "metadata": {
        "colab": {
          "base_uri": "https://localhost:8080/"
        },
        "id": "345Pi8RL3KEX",
        "outputId": "f3542385-e580-4068-8df3-d41858679b37"
      },
      "outputs": [
        {
          "name": "stdout",
          "output_type": "stream",
          "text": [
            "1/1 [==============================] - 0s 59ms/step\n"
          ]
        },
        {
          "data": {
            "text/plain": [
              "array([[26.466322]], dtype=float32)"
            ]
          },
          "execution_count": 16,
          "metadata": {},
          "output_type": "execute_result"
        }
      ],
      "source": [
        "try_model.predict([17.0])"
      ]
    },
    {
      "cell_type": "markdown",
      "metadata": {
        "id": "TGVvb7JD3Onh"
      },
      "source": [
        "## Leta try from daniel point of view"
      ]
    },
    {
      "cell_type": "code",
      "execution_count": 17,
      "metadata": {
        "colab": {
          "base_uri": "https://localhost:8080/"
        },
        "id": "eV193SPr4s4z",
        "outputId": "b3c0839b-e14b-4562-e1b7-d9694d5da351"
      },
      "outputs": [
        {
          "name": "stdout",
          "output_type": "stream",
          "text": [
            "Epoch 1/100\n",
            "1/1 [==============================] - 0s 291ms/step - loss: 13.4562 - mae: 13.4562\n",
            "Epoch 2/100\n",
            "1/1 [==============================] - 0s 9ms/step - loss: 9.7552 - mae: 9.7552\n",
            "Epoch 3/100\n",
            "1/1 [==============================] - 0s 9ms/step - loss: 6.4155 - mae: 6.4155\n",
            "Epoch 4/100\n",
            "1/1 [==============================] - 0s 7ms/step - loss: 5.3552 - mae: 5.3552\n",
            "Epoch 5/100\n",
            "1/1 [==============================] - 0s 8ms/step - loss: 4.3834 - mae: 4.3834\n",
            "Epoch 6/100\n",
            "1/1 [==============================] - 0s 8ms/step - loss: 5.0557 - mae: 5.0557\n",
            "Epoch 7/100\n",
            "1/1 [==============================] - 0s 8ms/step - loss: 2.5948 - mae: 2.5948\n",
            "Epoch 8/100\n",
            "1/1 [==============================] - 0s 9ms/step - loss: 3.6068 - mae: 3.6068\n",
            "Epoch 9/100\n",
            "1/1 [==============================] - 0s 6ms/step - loss: 3.5253 - mae: 3.5253\n",
            "Epoch 10/100\n",
            "1/1 [==============================] - 0s 7ms/step - loss: 1.7240 - mae: 1.7240\n",
            "Epoch 11/100\n",
            "1/1 [==============================] - 0s 7ms/step - loss: 1.9208 - mae: 1.9208\n",
            "Epoch 12/100\n",
            "1/1 [==============================] - 0s 6ms/step - loss: 2.0176 - mae: 2.0176\n",
            "Epoch 13/100\n",
            "1/1 [==============================] - 0s 8ms/step - loss: 1.7280 - mae: 1.7280\n",
            "Epoch 14/100\n",
            "1/1 [==============================] - 0s 6ms/step - loss: 0.4360 - mae: 0.4360\n",
            "Epoch 15/100\n",
            "1/1 [==============================] - 0s 8ms/step - loss: 0.8566 - mae: 0.8566\n",
            "Epoch 16/100\n",
            "1/1 [==============================] - 0s 7ms/step - loss: 1.3515 - mae: 1.3515\n",
            "Epoch 17/100\n",
            "1/1 [==============================] - 0s 7ms/step - loss: 0.4223 - mae: 0.4223\n",
            "Epoch 18/100\n",
            "1/1 [==============================] - 0s 7ms/step - loss: 2.4328 - mae: 2.4328\n",
            "Epoch 19/100\n",
            "1/1 [==============================] - 0s 8ms/step - loss: 2.7950 - mae: 2.7950\n",
            "Epoch 20/100\n",
            "1/1 [==============================] - 0s 7ms/step - loss: 1.0133 - mae: 1.0133\n",
            "Epoch 21/100\n",
            "1/1 [==============================] - 0s 8ms/step - loss: 3.1075 - mae: 3.1075\n",
            "Epoch 22/100\n",
            "1/1 [==============================] - 0s 9ms/step - loss: 4.0245 - mae: 4.0245\n",
            "Epoch 23/100\n",
            "1/1 [==============================] - 0s 8ms/step - loss: 3.4153 - mae: 3.4153\n",
            "Epoch 24/100\n",
            "1/1 [==============================] - 0s 6ms/step - loss: 1.7131 - mae: 1.7131\n",
            "Epoch 25/100\n",
            "1/1 [==============================] - 0s 7ms/step - loss: 1.9036 - mae: 1.9036\n",
            "Epoch 26/100\n",
            "1/1 [==============================] - 0s 9ms/step - loss: 2.9321 - mae: 2.9321\n",
            "Epoch 27/100\n",
            "1/1 [==============================] - 0s 7ms/step - loss: 1.8170 - mae: 1.8170\n",
            "Epoch 28/100\n",
            "1/1 [==============================] - 0s 7ms/step - loss: 1.2144 - mae: 1.2144\n",
            "Epoch 29/100\n",
            "1/1 [==============================] - 0s 7ms/step - loss: 2.0861 - mae: 2.0861\n",
            "Epoch 30/100\n",
            "1/1 [==============================] - 0s 7ms/step - loss: 1.2243 - mae: 1.2243\n",
            "Epoch 31/100\n",
            "1/1 [==============================] - 0s 8ms/step - loss: 1.1182 - mae: 1.1182\n",
            "Epoch 32/100\n",
            "1/1 [==============================] - 0s 13ms/step - loss: 1.4838 - mae: 1.4838\n",
            "Epoch 33/100\n",
            "1/1 [==============================] - 0s 10ms/step - loss: 0.4411 - mae: 0.4411\n",
            "Epoch 34/100\n",
            "1/1 [==============================] - 0s 8ms/step - loss: 1.6987 - mae: 1.6987\n",
            "Epoch 35/100\n",
            "1/1 [==============================] - 0s 7ms/step - loss: 1.8604 - mae: 1.8604\n",
            "Epoch 36/100\n",
            "1/1 [==============================] - 0s 9ms/step - loss: 0.8002 - mae: 0.8002\n",
            "Epoch 37/100\n",
            "1/1 [==============================] - 0s 8ms/step - loss: 1.7086 - mae: 1.7086\n",
            "Epoch 38/100\n",
            "1/1 [==============================] - 0s 8ms/step - loss: 2.3959 - mae: 2.3959\n",
            "Epoch 39/100\n",
            "1/1 [==============================] - 0s 8ms/step - loss: 1.5129 - mae: 1.5129\n",
            "Epoch 40/100\n",
            "1/1 [==============================] - 0s 8ms/step - loss: 0.6203 - mae: 0.6203\n",
            "Epoch 41/100\n",
            "1/1 [==============================] - 0s 7ms/step - loss: 1.2493 - mae: 1.2493\n",
            "Epoch 42/100\n",
            "1/1 [==============================] - 0s 8ms/step - loss: 0.7628 - mae: 0.7628\n",
            "Epoch 43/100\n",
            "1/1 [==============================] - 0s 13ms/step - loss: 0.8404 - mae: 0.8404\n",
            "Epoch 44/100\n",
            "1/1 [==============================] - 0s 9ms/step - loss: 1.0442 - mae: 1.0442\n",
            "Epoch 45/100\n",
            "1/1 [==============================] - 0s 8ms/step - loss: 0.2091 - mae: 0.2091\n",
            "Epoch 46/100\n",
            "1/1 [==============================] - 0s 7ms/step - loss: 0.5358 - mae: 0.5358\n",
            "Epoch 47/100\n",
            "1/1 [==============================] - 0s 8ms/step - loss: 0.3157 - mae: 0.3157\n",
            "Epoch 48/100\n",
            "1/1 [==============================] - 0s 7ms/step - loss: 0.0859 - mae: 0.0859\n",
            "Epoch 49/100\n",
            "1/1 [==============================] - 0s 9ms/step - loss: 0.7678 - mae: 0.7678\n",
            "Epoch 50/100\n",
            "1/1 [==============================] - 0s 8ms/step - loss: 0.3338 - mae: 0.3338\n",
            "Epoch 51/100\n",
            "1/1 [==============================] - 0s 7ms/step - loss: 1.1658 - mae: 1.1658\n",
            "Epoch 52/100\n",
            "1/1 [==============================] - 0s 7ms/step - loss: 1.3670 - mae: 1.3670\n",
            "Epoch 53/100\n",
            "1/1 [==============================] - 0s 7ms/step - loss: 0.5668 - mae: 0.5668\n",
            "Epoch 54/100\n",
            "1/1 [==============================] - 0s 7ms/step - loss: 1.4091 - mae: 1.4091\n",
            "Epoch 55/100\n",
            "1/1 [==============================] - 0s 9ms/step - loss: 1.8290 - mae: 1.8290\n",
            "Epoch 56/100\n",
            "1/1 [==============================] - 0s 7ms/step - loss: 1.1206 - mae: 1.1206\n",
            "Epoch 57/100\n",
            "1/1 [==============================] - 0s 7ms/step - loss: 0.9942 - mae: 0.9942\n",
            "Epoch 58/100\n",
            "1/1 [==============================] - 0s 7ms/step - loss: 1.3812 - mae: 1.3812\n",
            "Epoch 59/100\n",
            "1/1 [==============================] - 0s 7ms/step - loss: 1.0332 - mae: 1.0332\n",
            "Epoch 60/100\n",
            "1/1 [==============================] - 0s 7ms/step - loss: 0.7534 - mae: 0.7534\n",
            "Epoch 61/100\n",
            "1/1 [==============================] - 0s 6ms/step - loss: 0.9510 - mae: 0.9510\n",
            "Epoch 62/100\n",
            "1/1 [==============================] - 0s 7ms/step - loss: 0.1314 - mae: 0.1314\n",
            "Epoch 63/100\n",
            "1/1 [==============================] - 0s 6ms/step - loss: 1.4359 - mae: 1.4359\n",
            "Epoch 64/100\n",
            "1/1 [==============================] - 0s 7ms/step - loss: 1.7929 - mae: 1.7929\n",
            "Epoch 65/100\n",
            "1/1 [==============================] - 0s 8ms/step - loss: 1.1834 - mae: 1.1834\n",
            "Epoch 66/100\n",
            "1/1 [==============================] - 0s 9ms/step - loss: 0.3981 - mae: 0.3981\n",
            "Epoch 67/100\n",
            "1/1 [==============================] - 0s 7ms/step - loss: 0.7789 - mae: 0.7789\n",
            "Epoch 68/100\n",
            "1/1 [==============================] - 0s 7ms/step - loss: 0.1232 - mae: 0.1232\n",
            "Epoch 69/100\n",
            "1/1 [==============================] - 0s 9ms/step - loss: 1.3830 - mae: 1.3830\n",
            "Epoch 70/100\n",
            "1/1 [==============================] - 0s 7ms/step - loss: 1.7733 - mae: 1.7733\n",
            "Epoch 71/100\n",
            "1/1 [==============================] - 0s 7ms/step - loss: 1.3173 - mae: 1.3173\n",
            "Epoch 72/100\n",
            "1/1 [==============================] - 0s 9ms/step - loss: 0.3996 - mae: 0.3996\n",
            "Epoch 73/100\n",
            "1/1 [==============================] - 0s 10ms/step - loss: 0.4141 - mae: 0.4141\n",
            "Epoch 74/100\n",
            "1/1 [==============================] - 0s 10ms/step - loss: 0.7601 - mae: 0.7601\n",
            "Epoch 75/100\n",
            "1/1 [==============================] - 0s 7ms/step - loss: 0.6460 - mae: 0.6460\n",
            "Epoch 76/100\n",
            "1/1 [==============================] - 0s 7ms/step - loss: 0.8740 - mae: 0.8740\n",
            "Epoch 77/100\n",
            "1/1 [==============================] - 0s 7ms/step - loss: 0.8708 - mae: 0.8708\n",
            "Epoch 78/100\n",
            "1/1 [==============================] - 0s 7ms/step - loss: 0.3109 - mae: 0.3109\n",
            "Epoch 79/100\n",
            "1/1 [==============================] - 0s 7ms/step - loss: 0.4909 - mae: 0.4909\n",
            "Epoch 80/100\n",
            "1/1 [==============================] - 0s 10ms/step - loss: 0.2211 - mae: 0.2211\n",
            "Epoch 81/100\n",
            "1/1 [==============================] - 0s 8ms/step - loss: 0.3237 - mae: 0.3237\n",
            "Epoch 82/100\n",
            "1/1 [==============================] - 0s 6ms/step - loss: 0.3845 - mae: 0.3845\n",
            "Epoch 83/100\n",
            "1/1 [==============================] - 0s 9ms/step - loss: 0.1593 - mae: 0.1593\n",
            "Epoch 84/100\n",
            "1/1 [==============================] - 0s 8ms/step - loss: 0.3305 - mae: 0.3305\n",
            "Epoch 85/100\n",
            "1/1 [==============================] - 0s 7ms/step - loss: 0.4004 - mae: 0.4004\n",
            "Epoch 86/100\n",
            "1/1 [==============================] - 0s 7ms/step - loss: 0.2254 - mae: 0.2254\n",
            "Epoch 87/100\n",
            "1/1 [==============================] - 0s 8ms/step - loss: 0.1785 - mae: 0.1785\n",
            "Epoch 88/100\n",
            "1/1 [==============================] - 0s 10ms/step - loss: 0.6298 - mae: 0.6298\n",
            "Epoch 89/100\n",
            "1/1 [==============================] - 0s 7ms/step - loss: 0.2311 - mae: 0.2311\n",
            "Epoch 90/100\n",
            "1/1 [==============================] - 0s 9ms/step - loss: 1.1548 - mae: 1.1548\n",
            "Epoch 91/100\n",
            "1/1 [==============================] - 0s 8ms/step - loss: 1.3953 - mae: 1.3953\n",
            "Epoch 92/100\n",
            "1/1 [==============================] - 0s 8ms/step - loss: 0.6624 - mae: 0.6624\n",
            "Epoch 93/100\n",
            "1/1 [==============================] - 0s 6ms/step - loss: 1.0007 - mae: 1.0007\n",
            "Epoch 94/100\n",
            "1/1 [==============================] - 0s 8ms/step - loss: 1.4571 - mae: 1.4571\n",
            "Epoch 95/100\n",
            "1/1 [==============================] - 0s 8ms/step - loss: 0.7994 - mae: 0.7994\n",
            "Epoch 96/100\n",
            "1/1 [==============================] - 0s 8ms/step - loss: 0.7618 - mae: 0.7618\n",
            "Epoch 97/100\n",
            "1/1 [==============================] - 0s 12ms/step - loss: 1.2027 - mae: 1.2027\n",
            "Epoch 98/100\n",
            "1/1 [==============================] - 0s 11ms/step - loss: 0.7629 - mae: 0.7629\n",
            "Epoch 99/100\n",
            "1/1 [==============================] - 0s 7ms/step - loss: 0.7540 - mae: 0.7540\n",
            "Epoch 100/100\n",
            "1/1 [==============================] - 0s 7ms/step - loss: 0.8879 - mae: 0.8879\n"
          ]
        },
        {
          "data": {
            "text/plain": [
              "<keras.callbacks.History at 0x7f8b2c23df70>"
            ]
          },
          "execution_count": 17,
          "metadata": {},
          "output_type": "execute_result"
        }
      ],
      "source": [
        "model = tf.keras.Sequential([\n",
        "    # tf.keras.layers.Dense(100, activation=\"relu\"),\n",
        "    tf.keras.layers.Dense(100, activation=None),\n",
        "    tf.keras.layers.Dense(1)\n",
        "])\n",
        "\n",
        "model.compile(\n",
        "    loss=\"mae\",\n",
        "    optimizer=tf.keras.optimizers.Adam(lr=0.1),\n",
        "    metrics=['mae']\n",
        ")\n",
        "\n",
        "model.fit(tf.expand_dims(x, axis=-1), y, epochs=100)"
      ]
    },
    {
      "cell_type": "code",
      "execution_count": 18,
      "metadata": {
        "colab": {
          "base_uri": "https://localhost:8080/"
        },
        "id": "qXwlNN1U7EhM",
        "outputId": "b50c24cc-9d7f-43ff-90c3-4c4b7416367a"
      },
      "outputs": [
        {
          "data": {
            "text/plain": [
              "(<tf.Tensor: shape=(8, 1), dtype=float64, numpy=\n",
              " array([[-7.],\n",
              "        [-4.],\n",
              "        [-1.],\n",
              "        [ 2.],\n",
              "        [ 5.],\n",
              "        [ 8.],\n",
              "        [11.],\n",
              "        [14.]])>,\n",
              " <tf.Tensor: shape=(8,), dtype=float64, numpy=array([-7., -4., -1.,  2.,  5.,  8., 11., 14.])>,\n",
              " <tf.Tensor: shape=(8,), dtype=float64, numpy=array([ 3.,  6.,  9., 12., 15., 18., 21., 24.])>)"
            ]
          },
          "execution_count": 18,
          "metadata": {},
          "output_type": "execute_result"
        }
      ],
      "source": [
        "tf.expand_dims(x, axis=-1), x, y"
      ]
    },
    {
      "cell_type": "code",
      "execution_count": 19,
      "metadata": {
        "colab": {
          "base_uri": "https://localhost:8080/"
        },
        "id": "Ujk0AXti7Rs1",
        "outputId": "2168e83e-6f4c-47ec-f960-79230cb943a8"
      },
      "outputs": [
        {
          "name": "stdout",
          "output_type": "stream",
          "text": [
            "1/1 [==============================] - 0s 49ms/step\n"
          ]
        },
        {
          "data": {
            "text/plain": [
              "array([[26.669693]], dtype=float32)"
            ]
          },
          "execution_count": 19,
          "metadata": {},
          "output_type": "execute_result"
        }
      ],
      "source": [
        "model.predict([17.0])"
      ]
    },
    {
      "cell_type": "markdown",
      "metadata": {
        "id": "DqgS5FmyAUnD"
      },
      "source": [
        "#Evaluting a Model\n",
        "\n",
        "In practice, atypical workflow you'll go through when building newural networks is:\n",
        "\n",
        "Build a model -> fit it -> evaluate it -> tweak a model -> fit it -> evaluate it -> tweak a model -> fit it ->evaluate it .....\n",
        "\n"
      ]
    },
    {
      "cell_type": "markdown",
      "metadata": {},
      "source": []
    },
    {
      "cell_type": "markdown",
      "metadata": {
        "id": "LtQTtsQOFZ7G"
      },
      "source": [
        "# When it comes to evaluation... you should visualize\n",
        "\n",
        "Its a good idea to visualize\n",
        "The data - what data are we working with? What dows it look like?"
      ]
    },
    {
      "cell_type": "code",
      "execution_count": 20,
      "metadata": {
        "colab": {
          "base_uri": "https://localhost:8080/"
        },
        "id": "zkB-ksuTGEe5",
        "outputId": "3780ac24-f5ed-4ed6-be21-084fe5b9de05"
      },
      "outputs": [
        {
          "data": {
            "text/plain": [
              "(<tf.Tensor: shape=(50,), dtype=int32, numpy=\n",
              " array([-100,  -96,  -92,  -88,  -84,  -80,  -76,  -72,  -68,  -64,  -60,\n",
              "         -56,  -52,  -48,  -44,  -40,  -36,  -32,  -28,  -24,  -20,  -16,\n",
              "         -12,   -8,   -4,    0,    4,    8,   12,   16,   20,   24,   28,\n",
              "          32,   36,   40,   44,   48,   52,   56,   60,   64,   68,   72,\n",
              "          76,   80,   84,   88,   92,   96], dtype=int32)>,\n",
              " <tf.Tensor: shape=(50,), dtype=int32, numpy=\n",
              " array([-90, -86, -82, -78, -74, -70, -66, -62, -58, -54, -50, -46, -42,\n",
              "        -38, -34, -30, -26, -22, -18, -14, -10,  -6,  -2,   2,   6,  10,\n",
              "         14,  18,  22,  26,  30,  34,  38,  42,  46,  50,  54,  58,  62,\n",
              "         66,  70,  74,  78,  82,  86,  90,  94,  98, 102, 106], dtype=int32)>)"
            ]
          },
          "execution_count": 20,
          "metadata": {},
          "output_type": "execute_result"
        }
      ],
      "source": [
        "# Make a bigger dataset\n",
        "X = tf.range(-100, 100, 4)\n",
        "\n",
        "# Make label for the dataset\n",
        "Y = X + 10\n",
        "\n",
        "X, Y"
      ]
    },
    {
      "cell_type": "code",
      "execution_count": 21,
      "metadata": {
        "colab": {
          "base_uri": "https://localhost:8080/",
          "height": 282
        },
        "id": "HXIzmG1zqaGa",
        "outputId": "41f533f1-286e-4c03-e125-74d850d13ee2"
      },
      "outputs": [
        {
          "data": {
            "text/plain": [
              "<matplotlib.collections.PathCollection at 0x7f8b2c1939d0>"
            ]
          },
          "execution_count": 21,
          "metadata": {},
          "output_type": "execute_result"
        },
        {
          "data": {
            "image/png": "[encoded data removed]",
            "text/plain": [
              "<Figure size 432x288 with 1 Axes>"
            ]
          },
          "metadata": {
            "needs_background": "light"
          },
          "output_type": "display_data"
        }
      ],
      "source": [
        "#Lets visualize the data\n",
        "plt.scatter(X, Y)"
      ]
    },
    {
      "cell_type": "code",
      "execution_count": 22,
      "metadata": {
        "colab": {
          "base_uri": "https://localhost:8080/"
        },
        "id": "OZ8hvc98rh3I",
        "outputId": "faeb6c3d-35d9-4b55-a736-52a4ebe31935"
      },
      "outputs": [
        {
          "data": {
            "text/plain": [
              "(<tf.Tensor: shape=(50,), dtype=int32, numpy=\n",
              " array([-100,  -96,  -92,  -88,  -84,  -80,  -76,  -72,  -68,  -64,  -60,\n",
              "         -56,  -52,  -48,  -44,  -40,  -36,  -32,  -28,  -24,  -20,  -16,\n",
              "         -12,   -8,   -4,    0,    4,    8,   12,   16,   20,   24,   28,\n",
              "          32,   36,   40,   44,   48,   52,   56,   60,   64,   68,   72,\n",
              "          76,   80,   84,   88,   92,   96], dtype=int32)>,\n",
              " <tf.Tensor: shape=(20,), dtype=int32, numpy=\n",
              " array([-90, -86, -82, -78, -74, -70, -66, -62, -58, -54, -50, -46, -42,\n",
              "        -38, -34, -30, -26, -22, -18, -14], dtype=int32)>)"
            ]
          },
          "execution_count": 22,
          "metadata": {},
          "output_type": "execute_result"
        }
      ],
      "source": [
        "X[:80], Y[:20]"
      ]
    },
    {
      "cell_type": "markdown",
      "metadata": {
        "id": "t1Tq4-aysI02"
      },
      "source": [
        "## The 3 set \n",
        "\n",
        "1. Training set - 70-80% of total data you have available.\n",
        "2. Validation set - 10-15% data\n",
        "3. Test set - 10-15% of tatal data available"
      ]
    },
    {
      "cell_type": "code",
      "execution_count": 23,
      "metadata": {
        "colab": {
          "base_uri": "https://localhost:8080/"
        },
        "id": "bK6uF2X_s9J3",
        "outputId": "0af2068a-ac40-4f37-ebed-a0856ae082c0"
      },
      "outputs": [
        {
          "data": {
            "text/plain": [
              "(40, 10)"
            ]
          },
          "execution_count": 23,
          "metadata": {},
          "output_type": "execute_result"
        }
      ],
      "source": [
        "# Check the lenth of how many samples we have\n",
        "len(X)\n",
        "\n",
        "x_train = X[:int(abs(len(X)/100*80))]\n",
        "y_train = Y[:int(abs(len(Y)/100*80))]\n",
        "\n",
        "x_test = X[40:]\n",
        "y_test = Y[40:]\n",
        "\n",
        "len(x_train), len(x_test)"
      ]
    },
    {
      "cell_type": "markdown",
      "metadata": {
        "id": "ZvZJiGmxtcaT"
      },
      "source": [
        "### Visualing the data\n",
        "\n",
        "Now we've got our data in training and test sets... let's visualize it again!"
      ]
    },
    {
      "cell_type": "code",
      "execution_count": 24,
      "metadata": {
        "colab": {
          "base_uri": "https://localhost:8080/",
          "height": 428
        },
        "id": "_3XT-IxJu7qq",
        "outputId": "5b352d37-ea7a-4dfb-f20d-cfcced766fbb"
      },
      "outputs": [
        {
          "data": {
            "image/png": "[encoded data removed]",
            "text/plain": [
              "<Figure size 720x504 with 1 Axes>"
            ]
          },
          "metadata": {
            "needs_background": "light"
          },
          "output_type": "display_data"
        }
      ],
      "source": [
        "plt.figure(figsize=(10, 7))\n",
        "\n",
        "#Plot training data in blue\n",
        "plt.scatter(x_train, y_train, c='b', label='Training data')\n",
        "\n",
        "# Plot test data in green\n",
        "plt.scatter(x_test, y_test, c='g', label='Testing Data')\n",
        "plt.legend()\n",
        "\n",
        "plt.show()"
      ]
    },
    {
      "cell_type": "code",
      "execution_count": 25,
      "metadata": {
        "id": "MP61x0frvW5H"
      },
      "outputs": [],
      "source": [
        "# Lets have a look at how to build the neural network\n",
        "\n",
        "# 1. Create a model\n",
        "model = tf.keras.Sequential([\n",
        "    tf.keras.layers.Dense(1)\n",
        "])\n",
        "\n",
        "# 2. Compile the model\n",
        "model.compile(\n",
        "    loss=tf.keras.losses.mae,\n",
        "    optimizer=tf.keras.optimizers.SGD(),\n",
        "    metrics=['mae']\n",
        ")\n",
        "\n",
        "# 3. Fit the model\n",
        "# model.fit(x_train, y_train, epochs=100)\n",
        "\n"
      ]
    },
    {
      "cell_type": "markdown",
      "metadata": {
        "id": "lC7Tq51xxeXI"
      },
      "source": [
        "## Visualizing the model"
      ]
    },
    {
      "cell_type": "code",
      "execution_count": 26,
      "metadata": {
        "colab": {
          "base_uri": "https://localhost:8080/"
        },
        "id": "agjtfsa9xpIi",
        "outputId": "ccbb9fd6-b2e3-4562-b26b-919444bc659c"
      },
      "outputs": [
        {
          "data": {
            "text/plain": [
              "(<tf.Tensor: shape=(), dtype=int32, numpy=-100>,\n",
              " <tf.Tensor: shape=(), dtype=int32, numpy=-90>)"
            ]
          },
          "execution_count": 26,
          "metadata": {},
          "output_type": "execute_result"
        }
      ],
      "source": [
        "# model.summary() ## this model is not yet build\n",
        "\n",
        "# model.build()\n",
        "X[0], Y[0]"
      ]
    },
    {
      "cell_type": "code",
      "execution_count": 27,
      "metadata": {
        "id": "wN6d98ngxtCm"
      },
      "outputs": [],
      "source": [
        "# Lets create a model which automatically by defining the input_shape argument\n",
        "tf.random.set_seed(42)\n",
        "\n",
        "model = tf.keras.Sequential([\n",
        "    tf.keras.layers.Dense(100, input_shape=[1], name='input_layer'),\n",
        "    tf.keras.layers.Dense(100, activation=None, name='hiddin_layer'),\n",
        "    tf.keras.layers.Dense(1, name='output_layer')\n",
        "], name='model_1')\n",
        "\n",
        "model.compile(\n",
        "    loss=tf.keras.losses.mae,\n",
        "    optimizer=tf.keras.optimizers.Adam(lr=0.1),\n",
        "    metrics=['mae']\n",
        ")\n"
      ]
    },
    {
      "cell_type": "code",
      "execution_count": 28,
      "metadata": {
        "colab": {
          "base_uri": "https://localhost:8080/"
        },
        "id": "XvqfBHHJzCPJ",
        "outputId": "020461bf-1663-4de3-dff5-4db4b57db050"
      },
      "outputs": [
        {
          "name": "stdout",
          "output_type": "stream",
          "text": [
            "Model: \"model_1\"\n",
            "_________________________________________________________________\n",
            " Layer (type)                Output Shape              Param #   \n",
            "=================================================================\n",
            " input_layer (Dense)         (None, 100)               200       \n",
            "                                                                 \n",
            " hiddin_layer (Dense)        (None, 100)               10100     \n",
            "                                                                 \n",
            " output_layer (Dense)        (None, 1)                 101       \n",
            "                                                                 \n",
            "=================================================================\n",
            "Total params: 10,401\n",
            "Trainable params: 10,401\n",
            "Non-trainable params: 0\n",
            "_________________________________________________________________\n"
          ]
        }
      ],
      "source": [
        "model.summary()"
      ]
    },
    {
      "cell_type": "markdown",
      "metadata": {
        "id": "SkfKOjzWzcNP"
      },
      "source": [
        "* Total params - total number of parameters in the model.\n",
        "* Trainable params - parameters (patterns) the model can update as it trains.\n",
        "* Non-trainable params - parameters aren't updated during training (this is typical whwn you bring in already learn patterns or parameters from other models during ** transfer learning **)."
      ]
    },
    {
      "cell_type": "code",
      "execution_count": 29,
      "metadata": {
        "colab": {
          "base_uri": "https://localhost:8080/"
        },
        "id": "4cPp_yTczJZw",
        "outputId": "811a247a-3233-419e-bee7-47e4cdd8cbc6"
      },
      "outputs": [
        {
          "data": {
            "text/plain": [
              "<keras.callbacks.History at 0x7f8b2c0f1af0>"
            ]
          },
          "execution_count": 29,
          "metadata": {},
          "output_type": "execute_result"
        }
      ],
      "source": [
        "model.fit(x_train, y_train, epochs=100, verbose=0)"
      ]
    },
    {
      "cell_type": "code",
      "execution_count": 30,
      "metadata": {
        "colab": {
          "base_uri": "https://localhost:8080/",
          "height": 422
        },
        "id": "vHgnKBH-1Wqz",
        "outputId": "61e8fa6f-956c-4054-ea31-229ab2bdeb5e"
      },
      "outputs": [
        {
          "data": {
            "image/png": "[encoded data removed]",
            "text/plain": [
              "<IPython.core.display.Image object>"
            ]
          },
          "execution_count": 30,
          "metadata": {},
          "output_type": "execute_result"
        }
      ],
      "source": [
        "from tensorflow.keras.utils import plot_model\n",
        "\n",
        "plot_model(model=model, show_shapes=True)"
      ]
    },
    {
      "cell_type": "markdown",
      "metadata": {
        "id": "AS0oXeAZ2bD4"
      },
      "source": [
        "## Visualizing  our model's prediction\n",
        "\n",
        "to visualize prediction, it's a good idea to plot them against the ground truth labels.\n",
        "\n",
        "Often youll see this in the form of y_test or y_true versus y_pred."
      ]
    },
    {
      "cell_type": "code",
      "execution_count": 31,
      "metadata": {
        "colab": {
          "base_uri": "https://localhost:8080/"
        },
        "id": "llvbThg35Q85",
        "outputId": "493cf249-60f8-49ad-b0cb-c08786458a87"
      },
      "outputs": [
        {
          "name": "stderr",
          "output_type": "stream",
          "text": [
            "WARNING:tensorflow:5 out of the last 5 calls to <function Model.make_predict_function.<locals>.predict_function at 0x7f8b177abc10> triggered tf.function retracing. Tracing is expensive and the excessive number of tracings could be due to (1) creating @tf.function repeatedly in a loop, (2) passing tensors with different shapes, (3) passing Python objects instead of tensors. For (1), please define your @tf.function outside of the loop. For (2), @tf.function has reduce_retracing=True option that can avoid unnecessary retracing. For (3), please refer to https://www.tensorflow.org/guide/function#controlling_retracing and https://www.tensorflow.org/api_docs/python/tf/function for  more details.\n"
          ]
        },
        {
          "name": "stdout",
          "output_type": "stream",
          "text": [
            "1/1 [==============================] - 0s 44ms/step\n"
          ]
        },
        {
          "data": {
            "text/plain": [
              "array([[ 68.780556],\n",
              "       [ 72.69517 ],\n",
              "       [ 76.609764],\n",
              "       [ 80.52437 ],\n",
              "       [ 84.438965],\n",
              "       [ 88.35357 ],\n",
              "       [ 92.268166],\n",
              "       [ 96.18278 ],\n",
              "       [100.097374],\n",
              "       [104.01197 ]], dtype=float32)"
            ]
          },
          "execution_count": 31,
          "metadata": {},
          "output_type": "execute_result"
        }
      ],
      "source": [
        "# Make some prediction\n",
        "y_pred = model.predict(x_test)\n",
        "y_pred"
      ]
    },
    {
      "cell_type": "code",
      "execution_count": 32,
      "metadata": {
        "colab": {
          "base_uri": "https://localhost:8080/"
        },
        "id": "ROMwI_pb6TE-",
        "outputId": "ca897c06-d9d6-42c0-c012-4b738becbb60"
      },
      "outputs": [
        {
          "data": {
            "text/plain": [
              "<tf.Tensor: shape=(10,), dtype=int32, numpy=array([ 70,  74,  78,  82,  86,  90,  94,  98, 102, 106], dtype=int32)>"
            ]
          },
          "execution_count": 32,
          "metadata": {},
          "output_type": "execute_result"
        }
      ],
      "source": [
        "y_test"
      ]
    },
    {
      "cell_type": "code",
      "execution_count": 33,
      "metadata": {
        "id": "h4QcwAND6bCK"
      },
      "outputs": [],
      "source": [
        "# Let's create a plotting function\n",
        "def plot_pred(train_data=x_train,\n",
        "              train_labels=y_train,\n",
        "              test_data=x_test,\n",
        "              test_labels=y_test,\n",
        "              predictions=y_pred):\n",
        "    \"\"\"\n",
        "    Plots training data, test data and compares prediction to ground truth\n",
        "    \"\"\"\n",
        "\n",
        "    plt.figure(figsize=(10, 7))\n",
        "    #Plot training data in blue\n",
        "    plt.scatter(train_data, train_labels, c=\"b\", label=\"Training data\")\n",
        "\n",
        "    # Plot training data in green\n",
        "    plt.scatter(test_data, test_labels, c='g', label=\"Testing data\")\n",
        "\n",
        "    # Plot model's prediction\n",
        "    plt.scatter(test_data, predictions, c='r', label=\"Predictions\")\n",
        "\n",
        "    plt.legend();\n",
        "    \n"
      ]
    },
    {
      "cell_type": "code",
      "execution_count": 34,
      "metadata": {
        "colab": {
          "base_uri": "https://localhost:8080/",
          "height": 428
        },
        "id": "HqiHLASj7_8W",
        "outputId": "ab598463-87ec-4035-a041-b5cc8bb91aef"
      },
      "outputs": [
        {
          "data": {
            "image/png": "[encoded data removed]",
            "text/plain": [
              "<Figure size 720x504 with 1 Axes>"
            ]
          },
          "metadata": {
            "needs_background": "light"
          },
          "output_type": "display_data"
        }
      ],
      "source": [
        "plot_pred()"
      ]
    },
    {
      "cell_type": "code",
      "execution_count": 35,
      "metadata": {
        "colab": {
          "base_uri": "https://localhost:8080/",
          "height": 428
        },
        "id": "yrzBknEX8BbZ",
        "outputId": "9cdbb6f1-fc8f-42db-93b8-c47a8413f6b1"
      },
      "outputs": [
        {
          "data": {
            "image/png": "[encoded data removed]",
            "text/plain": [
              "<Figure size 720x504 with 1 Axes>"
            ]
          },
          "metadata": {
            "needs_background": "light"
          },
          "output_type": "display_data"
        }
      ],
      "source": [
        "\n",
        "plot_pred(x_train, y_train, x_test, y_test, y_pred)"
      ]
    },
    {
      "cell_type": "markdown",
      "metadata": {
        "id": "q_HHp58Z8eI-"
      },
      "source": [
        "#E Evaluting our model's predictions with regression evaluation metrics\n",
        "\n",
        "mani matrics : 1. MAE - mean absolute error\\n\n",
        "               2. MSE - mean square error -> square the average error"
      ]
    },
    {
      "cell_type": "code",
      "execution_count": 36,
      "metadata": {
        "colab": {
          "base_uri": "https://localhost:8080/"
        },
        "id": "kELtV1I09Sx5",
        "outputId": "3b3ab103-9640-4151-f2db-a2d83058b726"
      },
      "outputs": [
        {
          "name": "stdout",
          "output_type": "stream",
          "text": [
            "1/1 [==============================] - 0s 125ms/step - loss: 1.6037 - mae: 1.6037\n"
          ]
        },
        {
          "data": {
            "text/plain": [
              "[1.6037323474884033, 1.6037323474884033]"
            ]
          },
          "execution_count": 36,
          "metadata": {},
          "output_type": "execute_result"
        }
      ],
      "source": [
        "## Regression evaluation\n",
        "model.evaluate(x_test, y_test)"
      ]
    },
    {
      "cell_type": "code",
      "execution_count": 37,
      "metadata": {
        "colab": {
          "base_uri": "https://localhost:8080/"
        },
        "id": "HEt2BNFT-_Z4",
        "outputId": "9588cfee-70ce-4a66-f0d4-d4dbb5a7f93d"
      },
      "outputs": [
        {
          "data": {
            "text/plain": [
              "array([1.2194443, 1.3048325, 1.3902359, 1.4756317, 1.5610352, 1.646431 ,\n",
              "       1.7318344, 1.8172226, 1.902626 , 1.9880295], dtype=float32)"
            ]
          },
          "execution_count": 37,
          "metadata": {},
          "output_type": "execute_result"
        }
      ],
      "source": [
        "# Calcultate themean absolute error\n",
        "tf.metrics.mean_absolute_error(tf.reshape(y_test, shape=(10, 1)), tf.reshape(y_pred, shape=(10, 1))).numpy()"
      ]
    },
    {
      "cell_type": "code",
      "execution_count": 38,
      "metadata": {
        "colab": {
          "base_uri": "https://localhost:8080/"
        },
        "id": "AKU-edkfA7Nh",
        "outputId": "71a0d2d6-ee84-4417-bbeb-99aa1e9da8fb"
      },
      "outputs": [
        {
          "data": {
            "text/plain": [
              "<tf.Tensor: shape=(10,), dtype=float32, numpy=\n",
              "array([ 68.780556,  72.69517 ,  76.609764,  80.52437 ,  84.438965,\n",
              "        88.35357 ,  92.268166,  96.18278 , 100.097374, 104.01197 ],\n",
              "      dtype=float32)>"
            ]
          },
          "execution_count": 38,
          "metadata": {},
          "output_type": "execute_result"
        }
      ],
      "source": [
        "tf.squeeze(y_pred)"
      ]
    },
    {
      "cell_type": "code",
      "execution_count": 39,
      "metadata": {
        "colab": {
          "base_uri": "https://localhost:8080/"
        },
        "id": "0k2oRg6ZEXQJ",
        "outputId": "eeb9342e-0ccf-443c-f8d7-3e9f10603c55"
      },
      "outputs": [
        {
          "data": {
            "text/plain": [
              "<tf.Tensor: shape=(), dtype=float32, numpy=1.6037323>"
            ]
          },
          "execution_count": 39,
          "metadata": {},
          "output_type": "execute_result"
        }
      ],
      "source": [
        "tf.metrics.mean_absolute_error(y_test, tf.squeeze(y_pred))"
      ]
    },
    {
      "cell_type": "code",
      "execution_count": 40,
      "metadata": {
        "colab": {
          "base_uri": "https://localhost:8080/"
        },
        "id": "V4XvoJGwEgDP",
        "outputId": "f4d70d4a-39c7-4e70-95f0-4f17cc892d59"
      },
      "outputs": [
        {
          "data": {
            "text/plain": [
              "<tf.Tensor: shape=(), dtype=float32, numpy=2.6321237>"
            ]
          },
          "execution_count": 40,
          "metadata": {},
          "output_type": "execute_result"
        }
      ],
      "source": [
        "# Calcultaing the mean square error\n",
        "tf.keras.losses.mean_squared_error(y_test, tf.squeeze(y_pred))\n"
      ]
    },
    {
      "cell_type": "code",
      "execution_count": 41,
      "metadata": {
        "id": "uuCNjU1AFiaq"
      },
      "outputs": [],
      "source": [
        "tf.random.set_seed(42)\n",
        "\n",
        "model2 = tf.keras.Sequential([\n",
        "    tf.keras.layers.Dense(100, input_shape=[1], name='input_layer'),\n",
        "    tf.keras.layers.Dense(100, activation=None, name='hiddin_layer'),\n",
        "    tf.keras.layers.Dense(1, name='output_layer')\n",
        "], name='model_1')\n",
        "\n",
        "model2.compile(\n",
        "    loss=tf.keras.losses.mean_squared_error,\n",
        "    optimizer=tf.keras.optimizers.Adam(lr=0.1),\n",
        "    metrics=['mean_squared_error']\n",
        ")\n"
      ]
    },
    {
      "cell_type": "code",
      "execution_count": 42,
      "metadata": {
        "colab": {
          "base_uri": "https://localhost:8080/"
        },
        "id": "qTufFHkOGZPn",
        "outputId": "5d897777-6047-435f-9d29-1d44ff623b74"
      },
      "outputs": [
        {
          "name": "stdout",
          "output_type": "stream",
          "text": [
            "1/1 [==============================] - 0s 142ms/step - loss: 9194.5107 - mean_squared_error: 9194.5107\n"
          ]
        },
        {
          "name": "stderr",
          "output_type": "stream",
          "text": [
            "WARNING:tensorflow:6 out of the last 6 calls to <function Model.make_predict_function.<locals>.predict_function at 0x7f8b9588caf0> triggered tf.function retracing. Tracing is expensive and the excessive number of tracings could be due to (1) creating @tf.function repeatedly in a loop, (2) passing tensors with different shapes, (3) passing Python objects instead of tensors. For (1), please define your @tf.function outside of the loop. For (2), @tf.function has reduce_retracing=True option that can avoid unnecessary retracing. For (3), please refer to https://www.tensorflow.org/guide/function#controlling_retracing and https://www.tensorflow.org/api_docs/python/tf/function for  more details.\n"
          ]
        },
        {
          "name": "stdout",
          "output_type": "stream",
          "text": [
            "1/1 [==============================] - 0s 51ms/step\n"
          ]
        }
      ],
      "source": [
        "model2.evaluate(x_test, y_test)\n",
        "y_pred = model2.predict(x_test)"
      ]
    },
    {
      "cell_type": "code",
      "execution_count": 43,
      "metadata": {
        "colab": {
          "base_uri": "https://localhost:8080/"
        },
        "id": "poUFZEYoHaUg",
        "outputId": "e4417717-2365-4c4e-9161-8d4c6c4ff9c1"
      },
      "outputs": [
        {
          "data": {
            "text/plain": [
              "<tf.Tensor: shape=(), dtype=float32, numpy=9194.511>"
            ]
          },
          "execution_count": 43,
          "metadata": {},
          "output_type": "execute_result"
        }
      ],
      "source": [
        "tf.keras.losses.mean_squared_error(y_test, tf.squeeze(y_pred))"
      ]
    },
    {
      "cell_type": "code",
      "execution_count": 44,
      "metadata": {
        "colab": {
          "base_uri": "https://localhost:8080/"
        },
        "id": "UqgOMTJoHhbP",
        "outputId": "c0b78bba-491b-41e9-a1df-6de368822b94"
      },
      "outputs": [
        {
          "data": {
            "text/plain": [
              "<tf.Tensor: shape=(), dtype=float32, numpy=9194.511>"
            ]
          },
          "execution_count": 44,
          "metadata": {},
          "output_type": "execute_result"
        }
      ],
      "source": [
        "tf.metrics.mean_squared_error(y_test, tf.squeeze(y_pred))"
      ]
    },
    {
      "cell_type": "code",
      "execution_count": 45,
      "metadata": {
        "id": "6-mzyv70H8ym"
      },
      "outputs": [],
      "source": [
        "# Make some function to resue\n",
        "\n",
        "def mae(y_true, y_pred):\n",
        "    return tf.metrics.mean_absolute_error(y_true=y_true, y_pred=y_pred)\n",
        "\n",
        "def mse(y_true, y_pred):\n",
        "    return tf.metrics.mean_squared_error(y_true=y_true, y_pred=y_pred)\n"
      ]
    },
    {
      "cell_type": "markdown",
      "metadata": {
        "id": "D6F0GhGrJljQ"
      },
      "source": [
        "## tweak it"
      ]
    },
    {
      "cell_type": "code",
      "execution_count": 46,
      "metadata": {
        "colab": {
          "base_uri": "https://localhost:8080/"
        },
        "id": "aPoRjOEaK6c3",
        "outputId": "f7e406db-45f1-4a3f-807a-1e4418b06270"
      },
      "outputs": [
        {
          "data": {
            "text/plain": [
              "<keras.callbacks.History at 0x7f8b95801e50>"
            ]
          },
          "execution_count": 46,
          "metadata": {},
          "output_type": "execute_result"
        }
      ],
      "source": [
        "# Set random seed\n",
        "tf.random.set_seed(43)\n",
        "\n",
        "model_1 = tf.keras.Sequential([\n",
        "    tf.keras.layers.Dense(1)\n",
        "])\n",
        "\n",
        "model_1.compile(\n",
        "    loss=tf.keras.losses.mae,\n",
        "    optimizer=tf.keras.optimizers.SGD(),\n",
        "    metrics=['mae']\n",
        ")\n",
        "\n",
        "model_1.fit(tf.expand_dims(x_train, axis=-1), y_train, epochs=100, verbose=0)"
      ]
    },
    {
      "cell_type": "code",
      "execution_count": 47,
      "metadata": {
        "colab": {
          "base_uri": "https://localhost:8080/",
          "height": 0
        },
        "id": "0F4o-OUNM-S9",
        "outputId": "0f66733b-65d7-4bef-895c-66992815b655"
      },
      "outputs": [
        {
          "name": "stdout",
          "output_type": "stream",
          "text": [
            "1/1 [==============================] - 0s 42ms/step\n"
          ]
        },
        {
          "data": {
            "image/png": "[encoded data removed]",
            "text/plain": [
              "<Figure size 720x504 with 1 Axes>"
            ]
          },
          "metadata": {
            "needs_background": "light"
          },
          "output_type": "display_data"
        }
      ],
      "source": [
        "y_pred_1 = model_1.predict(x_test)\n",
        "plot_pred(predictions=y_pred_1)"
      ]
    },
    {
      "cell_type": "code",
      "execution_count": 48,
      "metadata": {
        "colab": {
          "base_uri": "https://localhost:8080/"
        },
        "id": "9z-rEemYPiYE",
        "outputId": "2841002b-2d01-416d-ce31-ce5e3eab47bc"
      },
      "outputs": [
        {
          "data": {
            "text/plain": [
              "(<tf.Tensor: shape=(), dtype=float32, numpy=3.9769294>,\n",
              " <tf.Tensor: shape=(), dtype=float32, numpy=16.30638>)"
            ]
          },
          "execution_count": 48,
          "metadata": {},
          "output_type": "execute_result"
        }
      ],
      "source": [
        "mae_1 = mae(y_test, tf.squeeze(y_pred_1))\n",
        "mse_1 = mse(y_test, tf.squeeze(y_pred_1))\n",
        "\n",
        "mae_1, mse_1"
      ]
    },
    {
      "cell_type": "code",
      "execution_count": 49,
      "metadata": {
        "colab": {
          "base_uri": "https://localhost:8080/"
        },
        "id": "pcPlJs4XP9NB",
        "outputId": "d8813bdb-d662-4344-d662-49465ba14ecb"
      },
      "outputs": [
        {
          "data": {
            "text/plain": [
              "<keras.callbacks.History at 0x7f8b957204f0>"
            ]
          },
          "execution_count": 49,
          "metadata": {},
          "output_type": "execute_result"
        }
      ],
      "source": [
        "## build model2\n",
        "tf.random.set_seed(42)\n",
        "\n",
        "\n",
        "model_2 = tf.keras.Sequential([\n",
        "    tf.keras.layers.Dense(10),\n",
        "    tf.keras.layers.Dense(1)\n",
        "])\n",
        "\n",
        "model_2.compile(\n",
        "    loss=tf.keras.losses.mae,\n",
        "    optimizer=tf.keras.optimizers.SGD(),\n",
        "    metrics=['mse']\n",
        ")\n",
        "\n",
        "model_2.fit(tf.expand_dims(x_train, axis=-1), y_train, epochs=100, verbose=0)"
      ]
    },
    {
      "cell_type": "code",
      "execution_count": 50,
      "metadata": {
        "colab": {
          "base_uri": "https://localhost:8080/",
          "height": 0
        },
        "id": "497lAjX6Shrj",
        "outputId": "f1ff8939-7c00-441c-940b-7a397371e92a"
      },
      "outputs": [
        {
          "name": "stdout",
          "output_type": "stream",
          "text": [
            "1/1 [==============================] - 0s 36ms/step\n"
          ]
        },
        {
          "data": {
            "image/png": "[encoded data removed]",
            "text/plain": [
              "<Figure size 720x504 with 1 Axes>"
            ]
          },
          "metadata": {
            "needs_background": "light"
          },
          "output_type": "display_data"
        }
      ],
      "source": [
        "y_pred_2 = model_2.predict(x_test)\n",
        "plot_pred(predictions=y_pred_2)"
      ]
    },
    {
      "cell_type": "code",
      "execution_count": 51,
      "metadata": {
        "colab": {
          "base_uri": "https://localhost:8080/"
        },
        "id": "nlMl9_AcS9f6",
        "outputId": "9780b755-77ee-4edf-b6d8-46211bb37ce9"
      },
      "outputs": [
        {
          "data": {
            "text/plain": [
              "(<tf.Tensor: shape=(), dtype=float32, numpy=3.1969466>,\n",
              " <tf.Tensor: shape=(), dtype=float32, numpy=16.30638>)"
            ]
          },
          "execution_count": 51,
          "metadata": {},
          "output_type": "execute_result"
        }
      ],
      "source": [
        "mae_2 = mae(y_test, tf.squeeze(y_pred_2))\n",
        "mse_2 = mse(y_test, tf.squeeze(y_pred_1))\n",
        "\n",
        "mae_2, mse_2"
      ]
    },
    {
      "cell_type": "code",
      "execution_count": 52,
      "metadata": {
        "colab": {
          "base_uri": "https://localhost:8080/"
        },
        "id": "G4mKR6QvWR91",
        "outputId": "444086cf-24f7-4933-b6c4-5d849eb1e7f3"
      },
      "outputs": [
        {
          "data": {
            "text/plain": [
              "(<tf.Tensor: shape=(40,), dtype=int32, numpy=\n",
              " array([-100,  -96,  -92,  -88,  -84,  -80,  -76,  -72,  -68,  -64,  -60,\n",
              "         -56,  -52,  -48,  -44,  -40,  -36,  -32,  -28,  -24,  -20,  -16,\n",
              "         -12,   -8,   -4,    0,    4,    8,   12,   16,   20,   24,   28,\n",
              "          32,   36,   40,   44,   48,   52,   56], dtype=int32)>,\n",
              " <tf.Tensor: shape=(40,), dtype=int32, numpy=\n",
              " array([-90, -86, -82, -78, -74, -70, -66, -62, -58, -54, -50, -46, -42,\n",
              "        -38, -34, -30, -26, -22, -18, -14, -10,  -6,  -2,   2,   6,  10,\n",
              "         14,  18,  22,  26,  30,  34,  38,  42,  46,  50,  54,  58,  62,\n",
              "         66], dtype=int32)>)"
            ]
          },
          "execution_count": 52,
          "metadata": {},
          "output_type": "execute_result"
        }
      ],
      "source": [
        "x_train, y_train"
      ]
    },
    {
      "cell_type": "code",
      "execution_count": 53,
      "metadata": {
        "colab": {
          "base_uri": "https://localhost:8080/"
        },
        "id": "X6U9aHyxTf-6",
        "outputId": "c451a2f8-9121-4fd6-9cfa-ea4d4f948777"
      },
      "outputs": [
        {
          "name": "stdout",
          "output_type": "stream",
          "text": [
            "1/1 [==============================] - 0s 45ms/step\n",
            "1/1 [==============================] - 0s 40ms/step\n"
          ]
        },
        {
          "data": {
            "text/plain": [
              "(array([[-112.95677]], dtype=float32), array([[-104.82652]], dtype=float32))"
            ]
          },
          "execution_count": 53,
          "metadata": {},
          "output_type": "execute_result"
        }
      ],
      "source": [
        "model_2.predict([-100]), model_1.predict([-100])"
      ]
    },
    {
      "cell_type": "markdown",
      "metadata": {
        "id": "HQYnMz7bWJn-"
      },
      "source": [
        "###  Lets Try Model 3"
      ]
    },
    {
      "cell_type": "code",
      "execution_count": 54,
      "metadata": {
        "colab": {
          "base_uri": "https://localhost:8080/"
        },
        "id": "MmYJ7etiYEEc",
        "outputId": "44bdf990-791e-42c2-dc8b-89afd1e3b12c"
      },
      "outputs": [
        {
          "data": {
            "text/plain": [
              "<keras.callbacks.History at 0x7f8b955e9640>"
            ]
          },
          "execution_count": 54,
          "metadata": {},
          "output_type": "execute_result"
        }
      ],
      "source": [
        "tf.random.set_seed(42)\n",
        "model_3 = tf.keras.Sequential([\n",
        "    tf.keras.layers.Dense(10),\n",
        "    tf.keras.layers.Dense(1)\n",
        "])\n",
        "\n",
        "model_3.compile(\n",
        "    loss=tf.keras.losses.mae,\n",
        "    optimizer=tf.keras.optimizers.SGD(),\n",
        "    metrics=[\"mse\"]\n",
        ")\n",
        "\n",
        "model_3.fit(tf.expand_dims(x_train, axis=-1), y_train, epochs=500, verbose=0)"
      ]
    },
    {
      "cell_type": "code",
      "execution_count": 55,
      "metadata": {
        "colab": {
          "base_uri": "https://localhost:8080/",
          "height": 0
        },
        "id": "s7t7tpY_Zmnr",
        "outputId": "ed3a7189-de2a-46cf-fec1-383a124de6ff"
      },
      "outputs": [
        {
          "name": "stdout",
          "output_type": "stream",
          "text": [
            "1/1 [==============================] - 0s 42ms/step\n"
          ]
        },
        {
          "data": {
            "image/png": "[encoded data removed]",
            "text/plain": [
              "<Figure size 720x504 with 1 Axes>"
            ]
          },
          "metadata": {
            "needs_background": "light"
          },
          "output_type": "display_data"
        }
      ],
      "source": [
        "\n",
        "y_pred_3 = model_3.predict(x_test)\n",
        "plot_pred(predictions=y_pred_3)"
      ]
    },
    {
      "cell_type": "code",
      "execution_count": 56,
      "metadata": {
        "id": "YNcaT3e2aUsF"
      },
      "outputs": [],
      "source": [
        "mse_3 = mse(y_test, tf.squeeze(y_pred))\n",
        "mae_3 = mae(y_test, tf.squeeze(y_pred))"
      ]
    },
    {
      "cell_type": "markdown",
      "metadata": {
        "id": "MJAaie_Bb4kG"
      },
      "source": [
        "## Comparing our models"
      ]
    },
    {
      "cell_type": "code",
      "execution_count": 57,
      "metadata": {
        "id": "kUUoJWxfccWT"
      },
      "outputs": [],
      "source": [
        "import pandas as pd\n",
        "\n",
        "model_results = [['Model_1', mae_1.numpy(), mse_1.numpy()], ['Model_2', mae_2.numpy(), mse_2.numpy()], ['Model_3', mae_3.numpy(), mse_3.numpy()]]\n",
        "\n",
        "all_results = pd.DataFrame(model_results, columns=[\"model\", 'mae', 'mse'])"
      ]
    },
    {
      "cell_type": "code",
      "execution_count": 58,
      "metadata": {
        "colab": {
          "base_uri": "https://localhost:8080/",
          "height": 0
        },
        "id": "90_XvnabPtF0",
        "outputId": "e7a7c452-aabd-4090-b6e6-1e7282651472"
      },
      "outputs": [
        {
          "data": {
            "text/html": [
              "\n",
              "  <div id=\"df-07043313-1717-4d74-a5c5-fc48b7a1823c\">\n",
              "    <div class=\"colab-df-container\">\n",
              "      <div>\n",
              "<style scoped>\n",
              "    .dataframe tbody tr th:only-of-type {\n",
              "        vertical-align: middle;\n",
              "    }\n",
              "\n",
              "    .dataframe tbody tr th {\n",
              "        vertical-align: top;\n",
              "    }\n",
              "\n",
              "    .dataframe thead th {\n",
              "        text-align: right;\n",
              "    }\n",
              "</style>\n",
              "<table border=\"1\" class=\"dataframe\">\n",
              "  <thead>\n",
              "    <tr style=\"text-align: right;\">\n",
              "      <th></th>\n",
              "      <th>model</th>\n",
              "      <th>mae</th>\n",
              "      <th>mse</th>\n",
              "    </tr>\n",
              "  </thead>\n",
              "  <tbody>\n",
              "    <tr>\n",
              "      <th>0</th>\n",
              "      <td>Model_1</td>\n",
              "      <td>3.976929</td>\n",
              "      <td>16.306379</td>\n",
              "    </tr>\n",
              "    <tr>\n",
              "      <th>1</th>\n",
              "      <td>Model_2</td>\n",
              "      <td>3.196947</td>\n",
              "      <td>16.306379</td>\n",
              "    </tr>\n",
              "    <tr>\n",
              "      <th>2</th>\n",
              "      <td>Model_3</td>\n",
              "      <td>95.065842</td>\n",
              "      <td>9194.510742</td>\n",
              "    </tr>\n",
              "  </tbody>\n",
              "</table>\n",
              "</div>\n",
              "      <button class=\"colab-df-convert\" onclick=\"convertToInteractive('df-07043313-1717-4d74-a5c5-fc48b7a1823c')\"\n",
              "              title=\"Convert this dataframe to an interactive table.\"\n",
              "              style=\"display:none;\">\n",
              "        \n",
              "  <svg xmlns=\"http://www.w3.org/2000/svg\" height=\"24px\"viewBox=\"0 0 24 24\"\n",
              "       width=\"24px\">\n",
              "    <path d=\"M0 0h24v24H0V0z\" fill=\"none\"/>\n",
              "    <path d=\"M18.56 5.44l.94 2.06.94-2.06 2.06-.94-2.06-.94-.94-2.06-.94 2.06-2.06.94zm-11 1L8.5 8.5l.94-2.06 2.06-.94-2.06-.94L8.5 2.5l-.94 2.06-2.06.94zm10 10l.94 2.06.94-2.06 2.06-.94-2.06-.94-.94-2.06-.94 2.06-2.06.94z\"/><path d=\"M17.41 7.96l-1.37-1.37c-.4-.4-.92-.59-1.43-.59-.52 0-1.04.2-1.43.59L10.3 9.45l-7.72 7.72c-.78.78-.78 2.05 0 2.83L4 21.41c.39.39.9.59 1.41.59.51 0 1.02-.2 1.41-.59l7.78-7.78 2.81-2.81c.8-.78.8-2.07 0-2.86zM5.41 20L4 18.59l7.72-7.72 1.47 1.35L5.41 20z\"/>\n",
              "  </svg>\n",
              "      </button>\n",
              "      \n",
              "  <style>\n",
              "    .colab-df-container {\n",
              "      display:flex;\n",
              "      flex-wrap:wrap;\n",
              "      gap: 12px;\n",
              "    }\n",
              "\n",
              "    .colab-df-convert {\n",
              "      background-color: #E8F0FE;\n",
              "      border: none;\n",
              "      border-radius: 50%;\n",
              "      cursor: pointer;\n",
              "      display: none;\n",
              "      fill: #1967D2;\n",
              "      height: 32px;\n",
              "      padding: 0 0 0 0;\n",
              "      width: 32px;\n",
              "    }\n",
              "\n",
              "    .colab-df-convert:hover {\n",
              "      background-color: #E2EBFA;\n",
              "      box-shadow: 0px 1px 2px rgba(60, 64, 67, 0.3), 0px 1px 3px 1px rgba(60, 64, 67, 0.15);\n",
              "      fill: #174EA6;\n",
              "    }\n",
              "\n",
              "    [theme=dark] .colab-df-convert {\n",
              "      background-color: #3B4455;\n",
              "      fill: #D2E3FC;\n",
              "    }\n",
              "\n",
              "    [theme=dark] .colab-df-convert:hover {\n",
              "      background-color: #434B5C;\n",
              "      box-shadow: 0px 1px 3px 1px rgba(0, 0, 0, 0.15);\n",
              "      filter: drop-shadow(0px 1px 2px rgba(0, 0, 0, 0.3));\n",
              "      fill: #FFFFFF;\n",
              "    }\n",
              "  </style>\n",
              "\n",
              "      <script>\n",
              "        const buttonEl =\n",
              "          document.querySelector('#df-07043313-1717-4d74-a5c5-fc48b7a1823c button.colab-df-convert');\n",
              "        buttonEl.style.display =\n",
              "          google.colab.kernel.accessAllowed ? 'block' : 'none';\n",
              "\n",
              "        async function convertToInteractive(key) {\n",
              "          const element = document.querySelector('#df-07043313-1717-4d74-a5c5-fc48b7a1823c');\n",
              "          const dataTable =\n",
              "            await google.colab.kernel.invokeFunction('convertToInteractive',\n",
              "                                                     [key], {});\n",
              "          if (!dataTable) return;\n",
              "\n",
              "          const docLinkHtml = 'Like what you see? Visit the ' +\n",
              "            '<a target=\"_blank\" href=https://colab.research.google.com/notebooks/data_table.ipynb>data table notebook</a>'\n",
              "            + ' to learn more about interactive tables.';\n",
              "          element.innerHTML = '';\n",
              "          dataTable['output_type'] = 'display_data';\n",
              "          await google.colab.output.renderOutput(dataTable, element);\n",
              "          const docLink = document.createElement('div');\n",
              "          docLink.innerHTML = docLinkHtml;\n",
              "          element.appendChild(docLink);\n",
              "        }\n",
              "      </script>\n",
              "    </div>\n",
              "  </div>\n",
              "  "
            ],
            "text/plain": [
              "     model        mae          mse\n",
              "0  Model_1   3.976929    16.306379\n",
              "1  Model_2   3.196947    16.306379\n",
              "2  Model_3  95.065842  9194.510742"
            ]
          },
          "execution_count": 58,
          "metadata": {},
          "output_type": "execute_result"
        }
      ],
      "source": [
        "all_results"
      ]
    },
    {
      "cell_type": "markdown",
      "metadata": {
        "id": "ki49TuQlQcAG"
      },
      "source": [
        "Looks lide model_2 performed the best"
      ]
    },
    {
      "cell_type": "code",
      "execution_count": 59,
      "metadata": {
        "colab": {
          "base_uri": "https://localhost:8080/"
        },
        "id": "WUhFBnB7Pv2b",
        "outputId": "c0ebd1fa-944d-43f6-b1d4-2769f2acf877"
      },
      "outputs": [
        {
          "name": "stdout",
          "output_type": "stream",
          "text": [
            "Model: \"sequential_6\"\n",
            "_________________________________________________________________\n",
            " Layer (type)                Output Shape              Param #   \n",
            "=================================================================\n",
            " dense_10 (Dense)            (None, 10)                20        \n",
            "                                                                 \n",
            " dense_11 (Dense)            (None, 1)                 11        \n",
            "                                                                 \n",
            "=================================================================\n",
            "Total params: 31\n",
            "Trainable params: 31\n",
            "Non-trainable params: 0\n",
            "_________________________________________________________________\n"
          ]
        }
      ],
      "source": [
        "model_2.summary()"
      ]
    },
    {
      "cell_type": "markdown",
      "metadata": {
        "id": "oQL4XHwHP_fR"
      },
      "source": [
        "ONe of your main goals should be to minimize the time between your experiments. The more experiments you do, the more things youll figure out which dont work and in turn get closer to figuing out what does work. Remember the machine learning preactioner's moto : \"experiment, experiment, experiment\"."
      ]
    },
    {
      "cell_type": "markdown",
      "metadata": {
        "id": "yKSPNO67Q-3D"
      },
      "source": [
        "# Tracking your experiments\n",
        "\n",
        "ONe really good habit in ML is to track the results of your experiments.\n",
        "\n",
        "Luckily, there are tools to help us!\n",
        "\n",
        "1. TensorBoard - componet the tensorFlow library\n",
        "2. Weights and Biases - tool for tracking all kinds of ml experiments \n"
      ]
    },
    {
      "cell_type": "markdown",
      "metadata": {
        "id": "DpE3_XxjRw3y"
      },
      "source": [
        "# Saving our models"
      ]
    },
    {
      "cell_type": "code",
      "execution_count": 64,
      "metadata": {
        "id": "bSV3gMzqTv5B"
      },
      "outputs": [],
      "source": [
        "#save model using save model format\n",
        "\n",
        "model_2.save(\"Saved_Model/model_1_saveFormat\")"
      ]
    },
    {
      "cell_type": "code",
      "execution_count": 65,
      "metadata": {
        "id": "YCnmHOYeUjCh"
      },
      "outputs": [],
      "source": [
        "model_2.save(\"Saved_Model/model_1_saveFormatHDF5.h5\")"
      ]
    },
    {
      "cell_type": "code",
      "execution_count": 66,
      "metadata": {
        "id": "IYkQ0MKWY18t"
      },
      "outputs": [],
      "source": [
        "#Loading in the save model\n",
        "import tensorflow as tf"
      ]
    },
    {
      "cell_type": "code",
      "execution_count": 67,
      "metadata": {
        "colab": {
          "base_uri": "https://localhost:8080/"
        },
        "id": "omxS7WGfY18t",
        "outputId": "fb580e2b-60df-4c58-e6e6-82561157c253"
      },
      "outputs": [
        {
          "name": "stdout",
          "output_type": "stream",
          "text": [
            "Model: \"sequential_6\"\n",
            "_________________________________________________________________\n",
            " Layer (type)                Output Shape              Param #   \n",
            "=================================================================\n",
            " dense_10 (Dense)            (None, 10)                20        \n",
            "                                                                 \n",
            " dense_11 (Dense)            (None, 1)                 11        \n",
            "                                                                 \n",
            "=================================================================\n",
            "Total params: 31\n",
            "Trainable params: 31\n",
            "Non-trainable params: 0\n",
            "_________________________________________________________________\n"
          ]
        }
      ],
      "source": [
        "load_saveModel_format = tf.keras.models.load_model('Saved_Model/model_1_saveFormat')\n",
        "load_saveModel_format.summary()"
      ]
    },
    {
      "cell_type": "code",
      "execution_count": 68,
      "metadata": {
        "colab": {
          "base_uri": "https://localhost:8080/"
        },
        "id": "fvSsFVjNY18v",
        "outputId": "b060fc1a-c69e-4607-8562-b458f1a65000"
      },
      "outputs": [
        {
          "name": "stdout",
          "output_type": "stream",
          "text": [
            "Model: \"sequential_6\"\n",
            "_________________________________________________________________\n",
            " Layer (type)                Output Shape              Param #   \n",
            "=================================================================\n",
            " dense_10 (Dense)            (None, 10)                20        \n",
            "                                                                 \n",
            " dense_11 (Dense)            (None, 1)                 11        \n",
            "                                                                 \n",
            "=================================================================\n",
            "Total params: 31\n",
            "Trainable params: 31\n",
            "Non-trainable params: 0\n",
            "_________________________________________________________________\n"
          ]
        }
      ],
      "source": [
        "load_saveModel_HDF5 = load_saveModel_HDF5 = tf.keras.models.load_model('Saved_Model/model_1_saveFormatHDF5.h5')\n",
        "load_saveModel_HDF5.summary()"
      ]
    },
    {
      "cell_type": "markdown",
      "metadata": {
        "id": "r5VDCnlbY18v"
      },
      "source": []
    },
    {
      "cell_type": "code",
      "execution_count": 69,
      "metadata": {
        "colab": {
          "base_uri": "https://localhost:8080/"
        },
        "id": "K2VYJs1fY18w",
        "outputId": "b3996e21-4929-4cd2-f4bc-02f7cf272612"
      },
      "outputs": [
        {
          "name": "stdout",
          "output_type": "stream",
          "text": [
            "1/1 [==============================] - 0s 22ms/step\n",
            "1/1 [==============================] - 0s 36ms/step\n"
          ]
        },
        {
          "data": {
            "text/plain": [
              "array([[ True],\n",
              "       [ True],\n",
              "       [ True],\n",
              "       [ True],\n",
              "       [ True],\n",
              "       [ True],\n",
              "       [ True],\n",
              "       [ True],\n",
              "       [ True],\n",
              "       [ True]])"
            ]
          },
          "execution_count": 69,
          "metadata": {},
          "output_type": "execute_result"
        }
      ],
      "source": [
        "model_2_preds = model_2.predict(x_test)\n",
        "loaded_model = load_saveModel_format.predict(x_test)\n",
        "\n",
        "model_2_preds == loaded_model"
      ]
    },
    {
      "cell_type": "code",
      "execution_count": 70,
      "metadata": {
        "colab": {
          "base_uri": "https://localhost:8080/"
        },
        "id": "nj6P4l0EY18w",
        "outputId": "d0a495ca-c175-4a50-d1ea-ca2ebd085671"
      },
      "outputs": [
        {
          "name": "stdout",
          "output_type": "stream",
          "text": [
            "1/1 [==============================] - 0s 36ms/step\n"
          ]
        },
        {
          "data": {
            "text/plain": [
              "array([[ True],\n",
              "       [ True],\n",
              "       [ True],\n",
              "       [ True],\n",
              "       [ True],\n",
              "       [ True],\n",
              "       [ True],\n",
              "       [ True],\n",
              "       [ True],\n",
              "       [ True]])"
            ]
          },
          "execution_count": 70,
          "metadata": {},
          "output_type": "execute_result"
        }
      ],
      "source": [
        "loaded_h5model = load_saveModel_HDF5.predict(x_test)\n",
        "\n",
        "\n",
        "model_2_preds == loaded_h5model"
      ]
    },
    {
      "cell_type": "code",
      "execution_count": 71,
      "metadata": {
        "id": "nTVEW4szY18w"
      },
      "outputs": [],
      "source": [
        "## Download a model from Google Colab"
      ]
    },
    {
      "cell_type": "code",
      "execution_count": 72,
      "metadata": {
        "id": "cBTaRMJAY18x"
      },
      "outputs": [],
      "source": [
        "# A larger example\n",
        "import pandas as pd\n",
        "import matplotlib.pyplot as plt"
      ]
    },
    {
      "cell_type": "code",
      "execution_count": 73,
      "metadata": {
        "colab": {
          "base_uri": "https://localhost:8080/",
          "height": 424
        },
        "id": "zXfl4nw8Y18x",
        "outputId": "8e675988-9f6a-4b9c-d362-a2e082d5fad6"
      },
      "outputs": [
        {
          "data": {
            "text/html": [
              "\n",
              "  <div id=\"df-008105d4-1142-405c-8d63-b3db188b049a\">\n",
              "    <div class=\"colab-df-container\">\n",
              "      <div>\n",
              "<style scoped>\n",
              "    .dataframe tbody tr th:only-of-type {\n",
              "        vertical-align: middle;\n",
              "    }\n",
              "\n",
              "    .dataframe tbody tr th {\n",
              "        vertical-align: top;\n",
              "    }\n",
              "\n",
              "    .dataframe thead th {\n",
              "        text-align: right;\n",
              "    }\n",
              "</style>\n",
              "<table border=\"1\" class=\"dataframe\">\n",
              "  <thead>\n",
              "    <tr style=\"text-align: right;\">\n",
              "      <th></th>\n",
              "      <th>age</th>\n",
              "      <th>sex</th>\n",
              "      <th>bmi</th>\n",
              "      <th>children</th>\n",
              "      <th>smoker</th>\n",
              "      <th>region</th>\n",
              "      <th>charges</th>\n",
              "    </tr>\n",
              "  </thead>\n",
              "  <tbody>\n",
              "    <tr>\n",
              "      <th>0</th>\n",
              "      <td>19</td>\n",
              "      <td>female</td>\n",
              "      <td>27.900</td>\n",
              "      <td>0</td>\n",
              "      <td>yes</td>\n",
              "      <td>southwest</td>\n",
              "      <td>16884.92400</td>\n",
              "    </tr>\n",
              "    <tr>\n",
              "      <th>1</th>\n",
              "      <td>18</td>\n",
              "      <td>male</td>\n",
              "      <td>33.770</td>\n",
              "      <td>1</td>\n",
              "      <td>no</td>\n",
              "      <td>southeast</td>\n",
              "      <td>1725.55230</td>\n",
              "    </tr>\n",
              "    <tr>\n",
              "      <th>2</th>\n",
              "      <td>28</td>\n",
              "      <td>male</td>\n",
              "      <td>33.000</td>\n",
              "      <td>3</td>\n",
              "      <td>no</td>\n",
              "      <td>southeast</td>\n",
              "      <td>4449.46200</td>\n",
              "    </tr>\n",
              "    <tr>\n",
              "      <th>3</th>\n",
              "      <td>33</td>\n",
              "      <td>male</td>\n",
              "      <td>22.705</td>\n",
              "      <td>0</td>\n",
              "      <td>no</td>\n",
              "      <td>northwest</td>\n",
              "      <td>21984.47061</td>\n",
              "    </tr>\n",
              "    <tr>\n",
              "      <th>4</th>\n",
              "      <td>32</td>\n",
              "      <td>male</td>\n",
              "      <td>28.880</td>\n",
              "      <td>0</td>\n",
              "      <td>no</td>\n",
              "      <td>northwest</td>\n",
              "      <td>3866.85520</td>\n",
              "    </tr>\n",
              "    <tr>\n",
              "      <th>...</th>\n",
              "      <td>...</td>\n",
              "      <td>...</td>\n",
              "      <td>...</td>\n",
              "      <td>...</td>\n",
              "      <td>...</td>\n",
              "      <td>...</td>\n",
              "      <td>...</td>\n",
              "    </tr>\n",
              "    <tr>\n",
              "      <th>1333</th>\n",
              "      <td>50</td>\n",
              "      <td>male</td>\n",
              "      <td>30.970</td>\n",
              "      <td>3</td>\n",
              "      <td>no</td>\n",
              "      <td>northwest</td>\n",
              "      <td>10600.54830</td>\n",
              "    </tr>\n",
              "    <tr>\n",
              "      <th>1334</th>\n",
              "      <td>18</td>\n",
              "      <td>female</td>\n",
              "      <td>31.920</td>\n",
              "      <td>0</td>\n",
              "      <td>no</td>\n",
              "      <td>northeast</td>\n",
              "      <td>2205.98080</td>\n",
              "    </tr>\n",
              "    <tr>\n",
              "      <th>1335</th>\n",
              "      <td>18</td>\n",
              "      <td>female</td>\n",
              "      <td>36.850</td>\n",
              "      <td>0</td>\n",
              "      <td>no</td>\n",
              "      <td>southeast</td>\n",
              "      <td>1629.83350</td>\n",
              "    </tr>\n",
              "    <tr>\n",
              "      <th>1336</th>\n",
              "      <td>21</td>\n",
              "      <td>female</td>\n",
              "      <td>25.800</td>\n",
              "      <td>0</td>\n",
              "      <td>no</td>\n",
              "      <td>southwest</td>\n",
              "      <td>2007.94500</td>\n",
              "    </tr>\n",
              "    <tr>\n",
              "      <th>1337</th>\n",
              "      <td>61</td>\n",
              "      <td>female</td>\n",
              "      <td>29.070</td>\n",
              "      <td>0</td>\n",
              "      <td>yes</td>\n",
              "      <td>northwest</td>\n",
              "      <td>29141.36030</td>\n",
              "    </tr>\n",
              "  </tbody>\n",
              "</table>\n",
              "<p>1338 rows × 7 columns</p>\n",
              "</div>\n",
              "      <button class=\"colab-df-convert\" onclick=\"convertToInteractive('df-008105d4-1142-405c-8d63-b3db188b049a')\"\n",
              "              title=\"Convert this dataframe to an interactive table.\"\n",
              "              style=\"display:none;\">\n",
              "        \n",
              "  <svg xmlns=\"http://www.w3.org/2000/svg\" height=\"24px\"viewBox=\"0 0 24 24\"\n",
              "       width=\"24px\">\n",
              "    <path d=\"M0 0h24v24H0V0z\" fill=\"none\"/>\n",
              "    <path d=\"M18.56 5.44l.94 2.06.94-2.06 2.06-.94-2.06-.94-.94-2.06-.94 2.06-2.06.94zm-11 1L8.5 8.5l.94-2.06 2.06-.94-2.06-.94L8.5 2.5l-.94 2.06-2.06.94zm10 10l.94 2.06.94-2.06 2.06-.94-2.06-.94-.94-2.06-.94 2.06-2.06.94z\"/><path d=\"M17.41 7.96l-1.37-1.37c-.4-.4-.92-.59-1.43-.59-.52 0-1.04.2-1.43.59L10.3 9.45l-7.72 7.72c-.78.78-.78 2.05 0 2.83L4 21.41c.39.39.9.59 1.41.59.51 0 1.02-.2 1.41-.59l7.78-7.78 2.81-2.81c.8-.78.8-2.07 0-2.86zM5.41 20L4 18.59l7.72-7.72 1.47 1.35L5.41 20z\"/>\n",
              "  </svg>\n",
              "      </button>\n",
              "      \n",
              "  <style>\n",
              "    .colab-df-container {\n",
              "      display:flex;\n",
              "      flex-wrap:wrap;\n",
              "      gap: 12px;\n",
              "    }\n",
              "\n",
              "    .colab-df-convert {\n",
              "      background-color: #E8F0FE;\n",
              "      border: none;\n",
              "      border-radius: 50%;\n",
              "      cursor: pointer;\n",
              "      display: none;\n",
              "      fill: #1967D2;\n",
              "      height: 32px;\n",
              "      padding: 0 0 0 0;\n",
              "      width: 32px;\n",
              "    }\n",
              "\n",
              "    .colab-df-convert:hover {\n",
              "      background-color: #E2EBFA;\n",
              "      box-shadow: 0px 1px 2px rgba(60, 64, 67, 0.3), 0px 1px 3px 1px rgba(60, 64, 67, 0.15);\n",
              "      fill: #174EA6;\n",
              "    }\n",
              "\n",
              "    [theme=dark] .colab-df-convert {\n",
              "      background-color: #3B4455;\n",
              "      fill: #D2E3FC;\n",
              "    }\n",
              "\n",
              "    [theme=dark] .colab-df-convert:hover {\n",
              "      background-color: #434B5C;\n",
              "      box-shadow: 0px 1px 3px 1px rgba(0, 0, 0, 0.15);\n",
              "      filter: drop-shadow(0px 1px 2px rgba(0, 0, 0, 0.3));\n",
              "      fill: #FFFFFF;\n",
              "    }\n",
              "  </style>\n",
              "\n",
              "      <script>\n",
              "        const buttonEl =\n",
              "          document.querySelector('#df-008105d4-1142-405c-8d63-b3db188b049a button.colab-df-convert');\n",
              "        buttonEl.style.display =\n",
              "          google.colab.kernel.accessAllowed ? 'block' : 'none';\n",
              "\n",
              "        async function convertToInteractive(key) {\n",
              "          const element = document.querySelector('#df-008105d4-1142-405c-8d63-b3db188b049a');\n",
              "          const dataTable =\n",
              "            await google.colab.kernel.invokeFunction('convertToInteractive',\n",
              "                                                     [key], {});\n",
              "          if (!dataTable) return;\n",
              "\n",
              "          const docLinkHtml = 'Like what you see? Visit the ' +\n",
              "            '<a target=\"_blank\" href=https://colab.research.google.com/notebooks/data_table.ipynb>data table notebook</a>'\n",
              "            + ' to learn more about interactive tables.';\n",
              "          element.innerHTML = '';\n",
              "          dataTable['output_type'] = 'display_data';\n",
              "          await google.colab.output.renderOutput(dataTable, element);\n",
              "          const docLink = document.createElement('div');\n",
              "          docLink.innerHTML = docLinkHtml;\n",
              "          element.appendChild(docLink);\n",
              "        }\n",
              "      </script>\n",
              "    </div>\n",
              "  </div>\n",
              "  "
            ],
            "text/plain": [
              "      age     sex     bmi  children smoker     region      charges\n",
              "0      19  female  27.900         0    yes  southwest  16884.92400\n",
              "1      18    male  33.770         1     no  southeast   1725.55230\n",
              "2      28    male  33.000         3     no  southeast   4449.46200\n",
              "3      33    male  22.705         0     no  northwest  21984.47061\n",
              "4      32    male  28.880         0     no  northwest   3866.85520\n",
              "...   ...     ...     ...       ...    ...        ...          ...\n",
              "1333   50    male  30.970         3     no  northwest  10600.54830\n",
              "1334   18  female  31.920         0     no  northeast   2205.98080\n",
              "1335   18  female  36.850         0     no  southeast   1629.83350\n",
              "1336   21  female  25.800         0     no  southwest   2007.94500\n",
              "1337   61  female  29.070         0    yes  northwest  29141.36030\n",
              "\n",
              "[1338 rows x 7 columns]"
            ]
          },
          "execution_count": 73,
          "metadata": {},
          "output_type": "execute_result"
        }
      ],
      "source": [
        "insurance = pd.read_csv('https://raw.githubusercontent.com/stedy/Machine-Learning-with-R-datasets/master/insurance.csv')\n",
        "insurance"
      ]
    },
    {
      "cell_type": "code",
      "execution_count": 74,
      "metadata": {
        "colab": {
          "base_uri": "https://localhost:8080/"
        },
        "id": "le8wpT9EY18x",
        "outputId": "b8f9162b-8e5b-4ef5-869a-ab0803a6822e"
      },
      "outputs": [
        {
          "data": {
            "text/plain": [
              "(dtype('O'), dtype('int64'))"
            ]
          },
          "execution_count": 74,
          "metadata": {},
          "output_type": "execute_result"
        }
      ],
      "source": [
        "# model = tf.keras.Seq....\n",
        "insurance['sex'].dtype, insurance['age'].dtype"
      ]
    },
    {
      "cell_type": "code",
      "execution_count": 75,
      "metadata": {
        "colab": {
          "base_uri": "https://localhost:8080/",
          "height": 206
        },
        "id": "_QPFDn8hY18y",
        "outputId": "c32a5a75-ece9-452d-cce8-9ae93963186b"
      },
      "outputs": [
        {
          "data": {
            "text/html": [
              "\n",
              "  <div id=\"df-5cfc6783-1815-4455-a6f4-1992a62065a5\">\n",
              "    <div class=\"colab-df-container\">\n",
              "      <div>\n",
              "<style scoped>\n",
              "    .dataframe tbody tr th:only-of-type {\n",
              "        vertical-align: middle;\n",
              "    }\n",
              "\n",
              "    .dataframe tbody tr th {\n",
              "        vertical-align: top;\n",
              "    }\n",
              "\n",
              "    .dataframe thead th {\n",
              "        text-align: right;\n",
              "    }\n",
              "</style>\n",
              "<table border=\"1\" class=\"dataframe\">\n",
              "  <thead>\n",
              "    <tr style=\"text-align: right;\">\n",
              "      <th></th>\n",
              "      <th>age</th>\n",
              "      <th>sex</th>\n",
              "      <th>bmi</th>\n",
              "      <th>children</th>\n",
              "      <th>smoker</th>\n",
              "      <th>region</th>\n",
              "      <th>charges</th>\n",
              "    </tr>\n",
              "  </thead>\n",
              "  <tbody>\n",
              "    <tr>\n",
              "      <th>0</th>\n",
              "      <td>19</td>\n",
              "      <td>female</td>\n",
              "      <td>27.900</td>\n",
              "      <td>0</td>\n",
              "      <td>yes</td>\n",
              "      <td>southwest</td>\n",
              "      <td>16884.92400</td>\n",
              "    </tr>\n",
              "    <tr>\n",
              "      <th>1</th>\n",
              "      <td>18</td>\n",
              "      <td>male</td>\n",
              "      <td>33.770</td>\n",
              "      <td>1</td>\n",
              "      <td>no</td>\n",
              "      <td>southeast</td>\n",
              "      <td>1725.55230</td>\n",
              "    </tr>\n",
              "    <tr>\n",
              "      <th>2</th>\n",
              "      <td>28</td>\n",
              "      <td>male</td>\n",
              "      <td>33.000</td>\n",
              "      <td>3</td>\n",
              "      <td>no</td>\n",
              "      <td>southeast</td>\n",
              "      <td>4449.46200</td>\n",
              "    </tr>\n",
              "    <tr>\n",
              "      <th>3</th>\n",
              "      <td>33</td>\n",
              "      <td>male</td>\n",
              "      <td>22.705</td>\n",
              "      <td>0</td>\n",
              "      <td>no</td>\n",
              "      <td>northwest</td>\n",
              "      <td>21984.47061</td>\n",
              "    </tr>\n",
              "    <tr>\n",
              "      <th>4</th>\n",
              "      <td>32</td>\n",
              "      <td>male</td>\n",
              "      <td>28.880</td>\n",
              "      <td>0</td>\n",
              "      <td>no</td>\n",
              "      <td>northwest</td>\n",
              "      <td>3866.85520</td>\n",
              "    </tr>\n",
              "  </tbody>\n",
              "</table>\n",
              "</div>\n",
              "      <button class=\"colab-df-convert\" onclick=\"convertToInteractive('df-5cfc6783-1815-4455-a6f4-1992a62065a5')\"\n",
              "              title=\"Convert this dataframe to an interactive table.\"\n",
              "              style=\"display:none;\">\n",
              "        \n",
              "  <svg xmlns=\"http://www.w3.org/2000/svg\" height=\"24px\"viewBox=\"0 0 24 24\"\n",
              "       width=\"24px\">\n",
              "    <path d=\"M0 0h24v24H0V0z\" fill=\"none\"/>\n",
              "    <path d=\"M18.56 5.44l.94 2.06.94-2.06 2.06-.94-2.06-.94-.94-2.06-.94 2.06-2.06.94zm-11 1L8.5 8.5l.94-2.06 2.06-.94-2.06-.94L8.5 2.5l-.94 2.06-2.06.94zm10 10l.94 2.06.94-2.06 2.06-.94-2.06-.94-.94-2.06-.94 2.06-2.06.94z\"/><path d=\"M17.41 7.96l-1.37-1.37c-.4-.4-.92-.59-1.43-.59-.52 0-1.04.2-1.43.59L10.3 9.45l-7.72 7.72c-.78.78-.78 2.05 0 2.83L4 21.41c.39.39.9.59 1.41.59.51 0 1.02-.2 1.41-.59l7.78-7.78 2.81-2.81c.8-.78.8-2.07 0-2.86zM5.41 20L4 18.59l7.72-7.72 1.47 1.35L5.41 20z\"/>\n",
              "  </svg>\n",
              "      </button>\n",
              "      \n",
              "  <style>\n",
              "    .colab-df-container {\n",
              "      display:flex;\n",
              "      flex-wrap:wrap;\n",
              "      gap: 12px;\n",
              "    }\n",
              "\n",
              "    .colab-df-convert {\n",
              "      background-color: #E8F0FE;\n",
              "      border: none;\n",
              "      border-radius: 50%;\n",
              "      cursor: pointer;\n",
              "      display: none;\n",
              "      fill: #1967D2;\n",
              "      height: 32px;\n",
              "      padding: 0 0 0 0;\n",
              "      width: 32px;\n",
              "    }\n",
              "\n",
              "    .colab-df-convert:hover {\n",
              "      background-color: #E2EBFA;\n",
              "      box-shadow: 0px 1px 2px rgba(60, 64, 67, 0.3), 0px 1px 3px 1px rgba(60, 64, 67, 0.15);\n",
              "      fill: #174EA6;\n",
              "    }\n",
              "\n",
              "    [theme=dark] .colab-df-convert {\n",
              "      background-color: #3B4455;\n",
              "      fill: #D2E3FC;\n",
              "    }\n",
              "\n",
              "    [theme=dark] .colab-df-convert:hover {\n",
              "      background-color: #434B5C;\n",
              "      box-shadow: 0px 1px 3px 1px rgba(0, 0, 0, 0.15);\n",
              "      filter: drop-shadow(0px 1px 2px rgba(0, 0, 0, 0.3));\n",
              "      fill: #FFFFFF;\n",
              "    }\n",
              "  </style>\n",
              "\n",
              "      <script>\n",
              "        const buttonEl =\n",
              "          document.querySelector('#df-5cfc6783-1815-4455-a6f4-1992a62065a5 button.colab-df-convert');\n",
              "        buttonEl.style.display =\n",
              "          google.colab.kernel.accessAllowed ? 'block' : 'none';\n",
              "\n",
              "        async function convertToInteractive(key) {\n",
              "          const element = document.querySelector('#df-5cfc6783-1815-4455-a6f4-1992a62065a5');\n",
              "          const dataTable =\n",
              "            await google.colab.kernel.invokeFunction('convertToInteractive',\n",
              "                                                     [key], {});\n",
              "          if (!dataTable) return;\n",
              "\n",
              "          const docLinkHtml = 'Like what you see? Visit the ' +\n",
              "            '<a target=\"_blank\" href=https://colab.research.google.com/notebooks/data_table.ipynb>data table notebook</a>'\n",
              "            + ' to learn more about interactive tables.';\n",
              "          element.innerHTML = '';\n",
              "          dataTable['output_type'] = 'display_data';\n",
              "          await google.colab.output.renderOutput(dataTable, element);\n",
              "          const docLink = document.createElement('div');\n",
              "          docLink.innerHTML = docLinkHtml;\n",
              "          element.appendChild(docLink);\n",
              "        }\n",
              "      </script>\n",
              "    </div>\n",
              "  </div>\n",
              "  "
            ],
            "text/plain": [
              "   age     sex     bmi  children smoker     region      charges\n",
              "0   19  female  27.900         0    yes  southwest  16884.92400\n",
              "1   18    male  33.770         1     no  southeast   1725.55230\n",
              "2   28    male  33.000         3     no  southeast   4449.46200\n",
              "3   33    male  22.705         0     no  northwest  21984.47061\n",
              "4   32    male  28.880         0     no  northwest   3866.85520"
            ]
          },
          "execution_count": 75,
          "metadata": {},
          "output_type": "execute_result"
        }
      ],
      "source": [
        "insurance_temp = insurance\n",
        "insurance_temp.head()"
      ]
    },
    {
      "cell_type": "code",
      "execution_count": 76,
      "metadata": {
        "colab": {
          "base_uri": "https://localhost:8080/",
          "height": 206
        },
        "id": "raVVztcEY18y",
        "outputId": "b5b8e988-0232-440b-f392-a303996d96a9"
      },
      "outputs": [
        {
          "data": {
            "text/html": [
              "\n",
              "  <div id=\"df-803b70a0-8f1e-4f65-93a8-74c1a09bef16\">\n",
              "    <div class=\"colab-df-container\">\n",
              "      <div>\n",
              "<style scoped>\n",
              "    .dataframe tbody tr th:only-of-type {\n",
              "        vertical-align: middle;\n",
              "    }\n",
              "\n",
              "    .dataframe tbody tr th {\n",
              "        vertical-align: top;\n",
              "    }\n",
              "\n",
              "    .dataframe thead th {\n",
              "        text-align: right;\n",
              "    }\n",
              "</style>\n",
              "<table border=\"1\" class=\"dataframe\">\n",
              "  <thead>\n",
              "    <tr style=\"text-align: right;\">\n",
              "      <th></th>\n",
              "      <th>age</th>\n",
              "      <th>bmi</th>\n",
              "      <th>children</th>\n",
              "      <th>charges</th>\n",
              "      <th>sex_female</th>\n",
              "      <th>sex_male</th>\n",
              "      <th>smoker_no</th>\n",
              "      <th>smoker_yes</th>\n",
              "      <th>region_northeast</th>\n",
              "      <th>region_northwest</th>\n",
              "      <th>region_southeast</th>\n",
              "      <th>region_southwest</th>\n",
              "    </tr>\n",
              "  </thead>\n",
              "  <tbody>\n",
              "    <tr>\n",
              "      <th>0</th>\n",
              "      <td>19</td>\n",
              "      <td>27.900</td>\n",
              "      <td>0</td>\n",
              "      <td>16884.92400</td>\n",
              "      <td>1</td>\n",
              "      <td>0</td>\n",
              "      <td>0</td>\n",
              "      <td>1</td>\n",
              "      <td>0</td>\n",
              "      <td>0</td>\n",
              "      <td>0</td>\n",
              "      <td>1</td>\n",
              "    </tr>\n",
              "    <tr>\n",
              "      <th>1</th>\n",
              "      <td>18</td>\n",
              "      <td>33.770</td>\n",
              "      <td>1</td>\n",
              "      <td>1725.55230</td>\n",
              "      <td>0</td>\n",
              "      <td>1</td>\n",
              "      <td>1</td>\n",
              "      <td>0</td>\n",
              "      <td>0</td>\n",
              "      <td>0</td>\n",
              "      <td>1</td>\n",
              "      <td>0</td>\n",
              "    </tr>\n",
              "    <tr>\n",
              "      <th>2</th>\n",
              "      <td>28</td>\n",
              "      <td>33.000</td>\n",
              "      <td>3</td>\n",
              "      <td>4449.46200</td>\n",
              "      <td>0</td>\n",
              "      <td>1</td>\n",
              "      <td>1</td>\n",
              "      <td>0</td>\n",
              "      <td>0</td>\n",
              "      <td>0</td>\n",
              "      <td>1</td>\n",
              "      <td>0</td>\n",
              "    </tr>\n",
              "    <tr>\n",
              "      <th>3</th>\n",
              "      <td>33</td>\n",
              "      <td>22.705</td>\n",
              "      <td>0</td>\n",
              "      <td>21984.47061</td>\n",
              "      <td>0</td>\n",
              "      <td>1</td>\n",
              "      <td>1</td>\n",
              "      <td>0</td>\n",
              "      <td>0</td>\n",
              "      <td>1</td>\n",
              "      <td>0</td>\n",
              "      <td>0</td>\n",
              "    </tr>\n",
              "    <tr>\n",
              "      <th>4</th>\n",
              "      <td>32</td>\n",
              "      <td>28.880</td>\n",
              "      <td>0</td>\n",
              "      <td>3866.85520</td>\n",
              "      <td>0</td>\n",
              "      <td>1</td>\n",
              "      <td>1</td>\n",
              "      <td>0</td>\n",
              "      <td>0</td>\n",
              "      <td>1</td>\n",
              "      <td>0</td>\n",
              "      <td>0</td>\n",
              "    </tr>\n",
              "  </tbody>\n",
              "</table>\n",
              "</div>\n",
              "      <button class=\"colab-df-convert\" onclick=\"convertToInteractive('df-803b70a0-8f1e-4f65-93a8-74c1a09bef16')\"\n",
              "              title=\"Convert this dataframe to an interactive table.\"\n",
              "              style=\"display:none;\">\n",
              "        \n",
              "  <svg xmlns=\"http://www.w3.org/2000/svg\" height=\"24px\"viewBox=\"0 0 24 24\"\n",
              "       width=\"24px\">\n",
              "    <path d=\"M0 0h24v24H0V0z\" fill=\"none\"/>\n",
              "    <path d=\"M18.56 5.44l.94 2.06.94-2.06 2.06-.94-2.06-.94-.94-2.06-.94 2.06-2.06.94zm-11 1L8.5 8.5l.94-2.06 2.06-.94-2.06-.94L8.5 2.5l-.94 2.06-2.06.94zm10 10l.94 2.06.94-2.06 2.06-.94-2.06-.94-.94-2.06-.94 2.06-2.06.94z\"/><path d=\"M17.41 7.96l-1.37-1.37c-.4-.4-.92-.59-1.43-.59-.52 0-1.04.2-1.43.59L10.3 9.45l-7.72 7.72c-.78.78-.78 2.05 0 2.83L4 21.41c.39.39.9.59 1.41.59.51 0 1.02-.2 1.41-.59l7.78-7.78 2.81-2.81c.8-.78.8-2.07 0-2.86zM5.41 20L4 18.59l7.72-7.72 1.47 1.35L5.41 20z\"/>\n",
              "  </svg>\n",
              "      </button>\n",
              "      \n",
              "  <style>\n",
              "    .colab-df-container {\n",
              "      display:flex;\n",
              "      flex-wrap:wrap;\n",
              "      gap: 12px;\n",
              "    }\n",
              "\n",
              "    .colab-df-convert {\n",
              "      background-color: #E8F0FE;\n",
              "      border: none;\n",
              "      border-radius: 50%;\n",
              "      cursor: pointer;\n",
              "      display: none;\n",
              "      fill: #1967D2;\n",
              "      height: 32px;\n",
              "      padding: 0 0 0 0;\n",
              "      width: 32px;\n",
              "    }\n",
              "\n",
              "    .colab-df-convert:hover {\n",
              "      background-color: #E2EBFA;\n",
              "      box-shadow: 0px 1px 2px rgba(60, 64, 67, 0.3), 0px 1px 3px 1px rgba(60, 64, 67, 0.15);\n",
              "      fill: #174EA6;\n",
              "    }\n",
              "\n",
              "    [theme=dark] .colab-df-convert {\n",
              "      background-color: #3B4455;\n",
              "      fill: #D2E3FC;\n",
              "    }\n",
              "\n",
              "    [theme=dark] .colab-df-convert:hover {\n",
              "      background-color: #434B5C;\n",
              "      box-shadow: 0px 1px 3px 1px rgba(0, 0, 0, 0.15);\n",
              "      filter: drop-shadow(0px 1px 2px rgba(0, 0, 0, 0.3));\n",
              "      fill: #FFFFFF;\n",
              "    }\n",
              "  </style>\n",
              "\n",
              "      <script>\n",
              "        const buttonEl =\n",
              "          document.querySelector('#df-803b70a0-8f1e-4f65-93a8-74c1a09bef16 button.colab-df-convert');\n",
              "        buttonEl.style.display =\n",
              "          google.colab.kernel.accessAllowed ? 'block' : 'none';\n",
              "\n",
              "        async function convertToInteractive(key) {\n",
              "          const element = document.querySelector('#df-803b70a0-8f1e-4f65-93a8-74c1a09bef16');\n",
              "          const dataTable =\n",
              "            await google.colab.kernel.invokeFunction('convertToInteractive',\n",
              "                                                     [key], {});\n",
              "          if (!dataTable) return;\n",
              "\n",
              "          const docLinkHtml = 'Like what you see? Visit the ' +\n",
              "            '<a target=\"_blank\" href=https://colab.research.google.com/notebooks/data_table.ipynb>data table notebook</a>'\n",
              "            + ' to learn more about interactive tables.';\n",
              "          element.innerHTML = '';\n",
              "          dataTable['output_type'] = 'display_data';\n",
              "          await google.colab.output.renderOutput(dataTable, element);\n",
              "          const docLink = document.createElement('div');\n",
              "          docLink.innerHTML = docLinkHtml;\n",
              "          element.appendChild(docLink);\n",
              "        }\n",
              "      </script>\n",
              "    </div>\n",
              "  </div>\n",
              "  "
            ],
            "text/plain": [
              "   age     bmi  children      charges  sex_female  sex_male  smoker_no  \\\n",
              "0   19  27.900         0  16884.92400           1         0          0   \n",
              "1   18  33.770         1   1725.55230           0         1          1   \n",
              "2   28  33.000         3   4449.46200           0         1          1   \n",
              "3   33  22.705         0  21984.47061           0         1          1   \n",
              "4   32  28.880         0   3866.85520           0         1          1   \n",
              "\n",
              "   smoker_yes  region_northeast  region_northwest  region_southeast  \\\n",
              "0           1                 0                 0                 0   \n",
              "1           0                 0                 0                 1   \n",
              "2           0                 0                 0                 1   \n",
              "3           0                 0                 1                 0   \n",
              "4           0                 0                 1                 0   \n",
              "\n",
              "   region_southwest  \n",
              "0                 1  \n",
              "1                 0  \n",
              "2                 0  \n",
              "3                 0  \n",
              "4                 0  "
            ]
          },
          "execution_count": 76,
          "metadata": {},
          "output_type": "execute_result"
        }
      ],
      "source": [
        "insurance_one_hot = pd.get_dummies(insurance)\n",
        "insurance_one_hot.head()"
      ]
    },
    {
      "cell_type": "code",
      "execution_count": 76,
      "metadata": {
        "id": "V6-yujwKY18z"
      },
      "outputs": [],
      "source": []
    },
    {
      "cell_type": "code",
      "execution_count": 77,
      "metadata": {
        "id": "wGXiu733Y18z"
      },
      "outputs": [],
      "source": [
        "# Create x and y values (featrues and labels)\n",
        "# Create trainin and test sets\n",
        "# Building a neural network"
      ]
    },
    {
      "cell_type": "code",
      "execution_count": 78,
      "metadata": {
        "colab": {
          "base_uri": "https://localhost:8080/"
        },
        "id": "HzwkVuWgY180",
        "outputId": "e0dda0c9-67bc-44ad-b9a1-671547eba99f"
      },
      "outputs": [
        {
          "data": {
            "text/plain": [
              "(      age     bmi  children      charges  sex_female  sex_male  smoker_no  \\\n",
              " 0      19  27.900         0  16884.92400           1         0          0   \n",
              " 1      18  33.770         1   1725.55230           0         1          1   \n",
              " 2      28  33.000         3   4449.46200           0         1          1   \n",
              " 3      33  22.705         0  21984.47061           0         1          1   \n",
              " 4      32  28.880         0   3866.85520           0         1          1   \n",
              " ...   ...     ...       ...          ...         ...       ...        ...   \n",
              " 1333   50  30.970         3  10600.54830           0         1          1   \n",
              " 1334   18  31.920         0   2205.98080           1         0          1   \n",
              " 1335   18  36.850         0   1629.83350           1         0          1   \n",
              " 1336   21  25.800         0   2007.94500           1         0          1   \n",
              " 1337   61  29.070         0  29141.36030           1         0          0   \n",
              " \n",
              "       smoker_yes  region_northeast  region_northwest  region_southeast  \\\n",
              " 0              1                 0                 0                 0   \n",
              " 1              0                 0                 0                 1   \n",
              " 2              0                 0                 0                 1   \n",
              " 3              0                 0                 1                 0   \n",
              " 4              0                 0                 1                 0   \n",
              " ...          ...               ...               ...               ...   \n",
              " 1333           0                 0                 1                 0   \n",
              " 1334           0                 1                 0                 0   \n",
              " 1335           0                 0                 0                 1   \n",
              " 1336           0                 0                 0                 0   \n",
              " 1337           1                 0                 1                 0   \n",
              " \n",
              "       region_southwest  \n",
              " 0                    1  \n",
              " 1                    0  \n",
              " 2                    0  \n",
              " 3                    0  \n",
              " 4                    0  \n",
              " ...                ...  \n",
              " 1333                 0  \n",
              " 1334                 0  \n",
              " 1335                 0  \n",
              " 1336                 1  \n",
              " 1337                 0  \n",
              " \n",
              " [1338 rows x 12 columns], 0       16884.92400\n",
              " 1        1725.55230\n",
              " 2        4449.46200\n",
              " 3       21984.47061\n",
              " 4        3866.85520\n",
              "            ...     \n",
              " 1333    10600.54830\n",
              " 1334     2205.98080\n",
              " 1335     1629.83350\n",
              " 1336     2007.94500\n",
              " 1337    29141.36030\n",
              " Name: charges, Length: 1338, dtype: float64)"
            ]
          },
          "execution_count": 78,
          "metadata": {},
          "output_type": "execute_result"
        }
      ],
      "source": [
        "y = insurance_one_hot['charges']\n",
        "# y = tf.constant(y)\n",
        "insurance_one_hot.drop('charges', axis=1)\n",
        "x = insurance_one_hot\n",
        "# x = tf.constant(x)\n",
        "x, y"
      ]
    },
    {
      "cell_type": "code",
      "execution_count": 79,
      "metadata": {
        "id": "G6atpVAPY181"
      },
      "outputs": [],
      "source": [
        "from sklearn.model_selection import train_test_split"
      ]
    },
    {
      "cell_type": "code",
      "execution_count": 86,
      "metadata": {
        "colab": {
          "base_uri": "https://localhost:8080/"
        },
        "id": "jZH6b-wSY181",
        "outputId": "276ac4fc-4970-4041-b813-fc91a910e0a3"
      },
      "outputs": [
        {
          "data": {
            "text/plain": [
              "(1070, 1070)"
            ]
          },
          "execution_count": 86,
          "metadata": {},
          "output_type": "execute_result"
        }
      ],
      "source": [
        "X_train, X_test, y_train, y_test = train_test_split(x, y, test_size=0.20, random_state=42)\n",
        "len(X_train), len(y_train)"
      ]
    },
    {
      "cell_type": "code",
      "execution_count": 127,
      "metadata": {
        "colab": {
          "base_uri": "https://localhost:8080/"
        },
        "id": "1x29__IQY182",
        "outputId": "a63b79cb-f041-42c4-aafa-21844a6bf0e1"
      },
      "outputs": [
        {
          "data": {
            "text/plain": [
              "<keras.callbacks.History at 0x7f8b04159d30>"
            ]
          },
          "execution_count": 127,
          "metadata": {},
          "output_type": "execute_result"
        }
      ],
      "source": [
        "tf.random.set_seed(42)\n",
        "\n",
        "insurance_model = tf.keras.Sequential([\n",
        "    tf.keras.layers.Dense(10),\n",
        "    # tf.keras.layers.Dense(10, activation=None),\n",
        "    tf.keras.layers.Dense(1)\n",
        "])\n",
        "\n",
        "insurance_model.compile(\n",
        "    loss=tf.keras.losses.mae,\n",
        "    optimizer=tf.keras.optimizers.Adam(learning_rate=0.1),\n",
        "    metrics=['mae']\n",
        ")\n",
        "\n",
        "insurance_model.fit(X_train, y_train, epochs=300, verbose=0)"
      ]
    },
    {
      "cell_type": "code",
      "execution_count": 128,
      "metadata": {
        "colab": {
          "base_uri": "https://localhost:8080/"
        },
        "id": "18qvKwtTfmi6",
        "outputId": "e1a2e09d-acad-4e59-d8c1-dc00aebe4263"
      },
      "outputs": [
        {
          "name": "stdout",
          "output_type": "stream",
          "text": [
            "9/9 [==============================] - 0s 2ms/step - loss: 874.2817 - mae: 874.2817\n"
          ]
        },
        {
          "data": {
            "text/plain": [
              "[874.2816772460938, 874.2816772460938]"
            ]
          },
          "execution_count": 128,
          "metadata": {},
          "output_type": "execute_result"
        }
      ],
      "source": [
        "insurance_model.evaluate(X_test, y_test)"
      ]
    },
    {
      "cell_type": "code",
      "execution_count": 98,
      "metadata": {
        "colab": {
          "base_uri": "https://localhost:8080/"
        },
        "id": "u1RFxZE8Y182",
        "outputId": "b416c80f-973c-4e42-b1e5-606bd423cc4d"
      },
      "outputs": [
        {
          "name": "stdout",
          "output_type": "stream",
          "text": [
            "9/9 [==============================] - 0s 2ms/step\n"
          ]
        }
      ],
      "source": [
        "insurance_predict = insurance_model.predict(X_test)"
      ]
    },
    {
      "cell_type": "code",
      "execution_count": 99,
      "metadata": {
        "id": "8cvQwkvUc1vn"
      },
      "outputs": [],
      "source": [
        "def plot_pred(train_data=X_train,\n",
        "              train_labels=y_train,\n",
        "              test_data=X_test,\n",
        "              test_labels=y_test,\n",
        "              predictions=y_pred):\n",
        "    \"\"\"\n",
        "    Plots training data, test data and compares prediction to ground truth\n",
        "    \"\"\"\n",
        "\n",
        "    plt.figure(figsize=(10, 7))\n",
        "    #Plot training data in blue\n",
        "    plt.scatter(train_data, train_labels, c=\"b\", label=\"Training data\")\n",
        "\n",
        "    # Plot training data in green\n",
        "    plt.scatter(test_data, test_labels, c='g', label=\"Testing data\")\n",
        "\n",
        "    # Plot model's prediction\n",
        "    plt.scatter(test_data, predictions, c='r', label=\"Predictions\")\n",
        "\n",
        "    plt.legend();\n",
        "    "
      ]
    },
    {
      "cell_type": "code",
      "execution_count": 119,
      "metadata": {
        "colab": {
          "base_uri": "https://localhost:8080/"
        },
        "id": "9wCoP8HPY182",
        "outputId": "eb8bb2a6-e6e2-4a71-e2b1-d710136e4665"
      },
      "outputs": [
        {
          "data": {
            "text/plain": [
              "<keras.callbacks.History at 0x7f8b172ee5b0>"
            ]
          },
          "execution_count": 119,
          "metadata": {},
          "output_type": "execute_result"
        }
      ],
      "source": [
        "tf.random.set_seed(42)\n",
        "\n",
        "insurance_model_2 = tf.keras.Sequential([\n",
        "    tf.keras.layers.Dense(100),\n",
        "    tf.keras.layers.Dense(10),\n",
        "    tf.keras.layers.Dense(1)\n",
        "])\n",
        "\n",
        "insurance_model_2.compile(loss=tf.keras.losses.mae,\n",
        "                          optimizer=tf.keras.optimizers.SGD(),\n",
        "                          metrics=['mae'])\n",
        "\n",
        "insurance_model_2.fit(X_train, y_train, epochs=100, verbose=0)"
      ]
    },
    {
      "cell_type": "code",
      "execution_count": 121,
      "metadata": {
        "colab": {
          "base_uri": "https://localhost:8080/"
        },
        "id": "iKe6f_1acWJQ",
        "outputId": "a40954dd-d6cd-4e5a-f940-899b60cc4185"
      },
      "outputs": [
        {
          "name": "stdout",
          "output_type": "stream",
          "text": [
            "9/9 [==============================] - 0s 2ms/step - loss: nan - mae: nan\n"
          ]
        },
        {
          "data": {
            "text/plain": [
              "[nan, nan]"
            ]
          },
          "execution_count": 121,
          "metadata": {},
          "output_type": "execute_result"
        }
      ],
      "source": [
        "insurance_model_2.evaluate(X_test, y_test)"
      ]
    },
    {
      "cell_type": "code",
      "execution_count": 103,
      "metadata": {
        "colab": {
          "base_uri": "https://localhost:8080/"
        },
        "id": "qPrtLZrvddSG",
        "outputId": "f51ced09-2533-4899-bb4f-4b9d53eab98b"
      },
      "outputs": [
        {
          "data": {
            "text/plain": [
              "(268, 268)"
            ]
          },
          "execution_count": 103,
          "metadata": {},
          "output_type": "execute_result"
        }
      ],
      "source": [
        "len(X_test), len(y_test)"
      ]
    },
    {
      "cell_type": "code",
      "execution_count": 140,
      "metadata": {
        "colab": {
          "base_uri": "https://localhost:8080/"
        },
        "id": "UCANZs87eIv8",
        "outputId": "214bde9e-e9b2-4104-b2fe-b8e6ac926a80"
      },
      "outputs": [
        {
          "name": "stdout",
          "output_type": "stream",
          "text": [
            "Epoch 1/200\n",
            "34/34 [==============================] - 1s 5ms/step - loss: 1376.3302 - mae: 1376.3302\n",
            "Epoch 2/200\n",
            "34/34 [==============================] - 0s 6ms/step - loss: 598.4772 - mae: 598.4772\n",
            "Epoch 3/200\n",
            "34/34 [==============================] - 0s 4ms/step - loss: 200.9528 - mae: 200.9528\n",
            "Epoch 4/200\n",
            "34/34 [==============================] - 0s 4ms/step - loss: 213.2038 - mae: 213.2038\n",
            "Epoch 5/200\n",
            "34/34 [==============================] - 0s 4ms/step - loss: 444.4887 - mae: 444.4887\n",
            "Epoch 6/200\n",
            "34/34 [==============================] - 0s 4ms/step - loss: 820.4113 - mae: 820.4113\n",
            "Epoch 7/200\n",
            "34/34 [==============================] - 0s 4ms/step - loss: 416.2483 - mae: 416.2483\n",
            "Epoch 8/200\n",
            "34/34 [==============================] - 0s 4ms/step - loss: 232.5223 - mae: 232.5223\n",
            "Epoch 9/200\n",
            "34/34 [==============================] - 0s 4ms/step - loss: 259.1342 - mae: 259.1342\n",
            "Epoch 10/200\n",
            "34/34 [==============================] - 0s 3ms/step - loss: 376.7535 - mae: 376.7535\n",
            "Epoch 11/200\n",
            "34/34 [==============================] - 0s 2ms/step - loss: 336.6560 - mae: 336.6560\n",
            "Epoch 12/200\n",
            "34/34 [==============================] - 0s 2ms/step - loss: 429.0096 - mae: 429.0096\n",
            "Epoch 13/200\n",
            "34/34 [==============================] - 0s 3ms/step - loss: 446.6690 - mae: 446.6690\n",
            "Epoch 14/200\n",
            "34/34 [==============================] - 0s 2ms/step - loss: 281.2900 - mae: 281.2900\n",
            "Epoch 15/200\n",
            "34/34 [==============================] - 0s 2ms/step - loss: 167.0384 - mae: 167.0384\n",
            "Epoch 16/200\n",
            "34/34 [==============================] - 0s 3ms/step - loss: 483.6895 - mae: 483.6895\n",
            "Epoch 17/200\n",
            "34/34 [==============================] - 0s 3ms/step - loss: 332.1250 - mae: 332.1250\n",
            "Epoch 18/200\n",
            "34/34 [==============================] - 0s 3ms/step - loss: 372.0100 - mae: 372.0100\n",
            "Epoch 19/200\n",
            "34/34 [==============================] - 0s 3ms/step - loss: 267.8054 - mae: 267.8054\n",
            "Epoch 20/200\n",
            "34/34 [==============================] - 0s 2ms/step - loss: 339.8220 - mae: 339.8220\n",
            "Epoch 21/200\n",
            "34/34 [==============================] - 0s 3ms/step - loss: 471.6574 - mae: 471.6574\n",
            "Epoch 22/200\n",
            "34/34 [==============================] - 0s 2ms/step - loss: 230.6064 - mae: 230.6064\n",
            "Epoch 23/200\n",
            "34/34 [==============================] - 0s 2ms/step - loss: 277.5829 - mae: 277.5829\n",
            "Epoch 24/200\n",
            "34/34 [==============================] - 0s 3ms/step - loss: 164.5769 - mae: 164.5769\n",
            "Epoch 25/200\n",
            "34/34 [==============================] - 0s 2ms/step - loss: 227.8356 - mae: 227.8356\n",
            "Epoch 26/200\n",
            "34/34 [==============================] - 0s 2ms/step - loss: 557.6855 - mae: 557.6855\n",
            "Epoch 27/200\n",
            "34/34 [==============================] - 0s 3ms/step - loss: 264.9439 - mae: 264.9439\n",
            "Epoch 28/200\n",
            "34/34 [==============================] - 0s 3ms/step - loss: 212.4973 - mae: 212.4973\n",
            "Epoch 29/200\n",
            "34/34 [==============================] - 0s 3ms/step - loss: 147.6262 - mae: 147.6262\n",
            "Epoch 30/200\n",
            "34/34 [==============================] - 0s 2ms/step - loss: 279.2852 - mae: 279.2852\n",
            "Epoch 31/200\n",
            "34/34 [==============================] - 0s 3ms/step - loss: 211.0997 - mae: 211.0997\n",
            "Epoch 32/200\n",
            "34/34 [==============================] - 0s 2ms/step - loss: 200.6992 - mae: 200.6992\n",
            "Epoch 33/200\n",
            "34/34 [==============================] - 0s 2ms/step - loss: 620.6809 - mae: 620.6809\n",
            "Epoch 34/200\n",
            "34/34 [==============================] - 0s 2ms/step - loss: 215.8793 - mae: 215.8793\n",
            "Epoch 35/200\n",
            "34/34 [==============================] - 0s 3ms/step - loss: 139.4407 - mae: 139.4407\n",
            "Epoch 36/200\n",
            "34/34 [==============================] - 0s 2ms/step - loss: 175.6936 - mae: 175.6936\n",
            "Epoch 37/200\n",
            "34/34 [==============================] - 0s 2ms/step - loss: 387.6569 - mae: 387.6569\n",
            "Epoch 38/200\n",
            "34/34 [==============================] - 0s 2ms/step - loss: 389.0012 - mae: 389.0012\n",
            "Epoch 39/200\n",
            "34/34 [==============================] - 0s 2ms/step - loss: 275.9048 - mae: 275.9048\n",
            "Epoch 40/200\n",
            "34/34 [==============================] - 0s 3ms/step - loss: 118.1943 - mae: 118.1943\n",
            "Epoch 41/200\n",
            "34/34 [==============================] - 0s 3ms/step - loss: 215.6614 - mae: 215.6614\n",
            "Epoch 42/200\n",
            "34/34 [==============================] - 0s 3ms/step - loss: 154.0919 - mae: 154.0919\n",
            "Epoch 43/200\n",
            "34/34 [==============================] - 0s 2ms/step - loss: 234.3094 - mae: 234.3094\n",
            "Epoch 44/200\n",
            "34/34 [==============================] - 0s 2ms/step - loss: 137.2171 - mae: 137.2171\n",
            "Epoch 45/200\n",
            "34/34 [==============================] - 0s 2ms/step - loss: 280.8719 - mae: 280.8719\n",
            "Epoch 46/200\n",
            "34/34 [==============================] - 0s 3ms/step - loss: 181.7324 - mae: 181.7324\n",
            "Epoch 47/200\n",
            "34/34 [==============================] - 0s 2ms/step - loss: 238.2292 - mae: 238.2292\n",
            "Epoch 48/200\n",
            "34/34 [==============================] - 0s 2ms/step - loss: 312.4747 - mae: 312.4747\n",
            "Epoch 49/200\n",
            "34/34 [==============================] - 0s 2ms/step - loss: 179.0226 - mae: 179.0226\n",
            "Epoch 50/200\n",
            "34/34 [==============================] - 0s 3ms/step - loss: 247.6535 - mae: 247.6535\n",
            "Epoch 51/200\n",
            "34/34 [==============================] - 0s 3ms/step - loss: 161.9536 - mae: 161.9536\n",
            "Epoch 52/200\n",
            "34/34 [==============================] - 0s 2ms/step - loss: 162.2410 - mae: 162.2410\n",
            "Epoch 53/200\n",
            "34/34 [==============================] - 0s 3ms/step - loss: 300.3484 - mae: 300.3484\n",
            "Epoch 54/200\n",
            "34/34 [==============================] - 0s 2ms/step - loss: 325.9244 - mae: 325.9244\n",
            "Epoch 55/200\n",
            "34/34 [==============================] - 0s 2ms/step - loss: 177.8361 - mae: 177.8361\n",
            "Epoch 56/200\n",
            "34/34 [==============================] - 0s 2ms/step - loss: 234.3745 - mae: 234.3745\n",
            "Epoch 57/200\n",
            "34/34 [==============================] - 0s 3ms/step - loss: 320.7924 - mae: 320.7924\n",
            "Epoch 58/200\n",
            "34/34 [==============================] - 0s 2ms/step - loss: 283.6654 - mae: 283.6654\n",
            "Epoch 59/200\n",
            "34/34 [==============================] - 0s 2ms/step - loss: 253.7902 - mae: 253.7902\n",
            "Epoch 60/200\n",
            "34/34 [==============================] - 0s 2ms/step - loss: 145.5666 - mae: 145.5666\n",
            "Epoch 61/200\n",
            "34/34 [==============================] - 0s 2ms/step - loss: 227.4557 - mae: 227.4557\n",
            "Epoch 62/200\n",
            "34/34 [==============================] - 0s 2ms/step - loss: 151.8533 - mae: 151.8533\n",
            "Epoch 63/200\n",
            "34/34 [==============================] - 0s 3ms/step - loss: 93.7887 - mae: 93.7887\n",
            "Epoch 64/200\n",
            "34/34 [==============================] - 0s 2ms/step - loss: 364.8333 - mae: 364.8333\n",
            "Epoch 65/200\n",
            "34/34 [==============================] - 0s 3ms/step - loss: 153.4513 - mae: 153.4513\n",
            "Epoch 66/200\n",
            "34/34 [==============================] - 0s 2ms/step - loss: 157.5781 - mae: 157.5781\n",
            "Epoch 67/200\n",
            "34/34 [==============================] - 0s 2ms/step - loss: 119.7719 - mae: 119.7719\n",
            "Epoch 68/200\n",
            "34/34 [==============================] - 0s 3ms/step - loss: 143.1215 - mae: 143.1215\n",
            "Epoch 69/200\n",
            "34/34 [==============================] - 0s 3ms/step - loss: 108.4679 - mae: 108.4679\n",
            "Epoch 70/200\n",
            "34/34 [==============================] - 0s 2ms/step - loss: 219.9308 - mae: 219.9308\n",
            "Epoch 71/200\n",
            "34/34 [==============================] - 0s 3ms/step - loss: 83.4381 - mae: 83.4381\n",
            "Epoch 72/200\n",
            "34/34 [==============================] - 0s 3ms/step - loss: 174.8699 - mae: 174.8699\n",
            "Epoch 73/200\n",
            "34/34 [==============================] - 0s 3ms/step - loss: 145.9747 - mae: 145.9747\n",
            "Epoch 74/200\n",
            "34/34 [==============================] - 0s 3ms/step - loss: 234.5123 - mae: 234.5123\n",
            "Epoch 75/200\n",
            "34/34 [==============================] - 0s 2ms/step - loss: 153.0256 - mae: 153.0256\n",
            "Epoch 76/200\n",
            "34/34 [==============================] - 0s 2ms/step - loss: 338.2113 - mae: 338.2113\n",
            "Epoch 77/200\n",
            "34/34 [==============================] - 0s 2ms/step - loss: 184.8068 - mae: 184.8068\n",
            "Epoch 78/200\n",
            "34/34 [==============================] - 0s 3ms/step - loss: 122.9379 - mae: 122.9379\n",
            "Epoch 79/200\n",
            "34/34 [==============================] - 0s 3ms/step - loss: 238.4755 - mae: 238.4755\n",
            "Epoch 80/200\n",
            "34/34 [==============================] - 0s 2ms/step - loss: 314.3209 - mae: 314.3209\n",
            "Epoch 81/200\n",
            "34/34 [==============================] - 0s 3ms/step - loss: 195.7141 - mae: 195.7141\n",
            "Epoch 82/200\n",
            "34/34 [==============================] - 0s 2ms/step - loss: 278.4066 - mae: 278.4066\n",
            "Epoch 83/200\n",
            "34/34 [==============================] - 0s 2ms/step - loss: 255.0158 - mae: 255.0158\n",
            "Epoch 84/200\n",
            "34/34 [==============================] - 0s 2ms/step - loss: 181.2374 - mae: 181.2374\n",
            "Epoch 85/200\n",
            "34/34 [==============================] - 0s 2ms/step - loss: 212.3586 - mae: 212.3586\n",
            "Epoch 86/200\n",
            "34/34 [==============================] - 0s 3ms/step - loss: 316.9321 - mae: 316.9321\n",
            "Epoch 87/200\n",
            "34/34 [==============================] - 0s 3ms/step - loss: 181.6320 - mae: 181.6320\n",
            "Epoch 88/200\n",
            "34/34 [==============================] - 0s 3ms/step - loss: 236.6217 - mae: 236.6217\n",
            "Epoch 89/200\n",
            "34/34 [==============================] - 0s 3ms/step - loss: 99.9812 - mae: 99.9812\n",
            "Epoch 90/200\n",
            "34/34 [==============================] - 0s 3ms/step - loss: 132.9868 - mae: 132.9868\n",
            "Epoch 91/200\n",
            "34/34 [==============================] - 0s 3ms/step - loss: 136.8297 - mae: 136.8297\n",
            "Epoch 92/200\n",
            "34/34 [==============================] - 0s 3ms/step - loss: 395.9767 - mae: 395.9767\n",
            "Epoch 93/200\n",
            "34/34 [==============================] - 0s 2ms/step - loss: 248.6508 - mae: 248.6508\n",
            "Epoch 94/200\n",
            "34/34 [==============================] - 0s 3ms/step - loss: 154.7768 - mae: 154.7768\n",
            "Epoch 95/200\n",
            "34/34 [==============================] - 0s 3ms/step - loss: 405.4363 - mae: 405.4363\n",
            "Epoch 96/200\n",
            "34/34 [==============================] - 0s 2ms/step - loss: 416.7663 - mae: 416.7663\n",
            "Epoch 97/200\n",
            "34/34 [==============================] - 0s 2ms/step - loss: 218.9118 - mae: 218.9118\n",
            "Epoch 98/200\n",
            "34/34 [==============================] - 0s 2ms/step - loss: 207.5532 - mae: 207.5532\n",
            "Epoch 99/200\n",
            "34/34 [==============================] - 0s 2ms/step - loss: 154.6941 - mae: 154.6941\n",
            "Epoch 100/200\n",
            "34/34 [==============================] - 0s 3ms/step - loss: 185.4950 - mae: 185.4950\n",
            "Epoch 101/200\n",
            "34/34 [==============================] - 0s 3ms/step - loss: 116.8459 - mae: 116.8459\n",
            "Epoch 102/200\n",
            "34/34 [==============================] - 0s 2ms/step - loss: 325.7564 - mae: 325.7564\n",
            "Epoch 103/200\n",
            "34/34 [==============================] - 0s 3ms/step - loss: 186.0082 - mae: 186.0082\n",
            "Epoch 104/200\n",
            "34/34 [==============================] - 0s 3ms/step - loss: 139.4358 - mae: 139.4358\n",
            "Epoch 105/200\n",
            "34/34 [==============================] - 0s 2ms/step - loss: 148.8353 - mae: 148.8353\n",
            "Epoch 106/200\n",
            "34/34 [==============================] - 0s 3ms/step - loss: 219.5310 - mae: 219.5310\n",
            "Epoch 107/200\n",
            "34/34 [==============================] - 0s 2ms/step - loss: 189.0065 - mae: 189.0065\n",
            "Epoch 108/200\n",
            "34/34 [==============================] - 0s 2ms/step - loss: 155.4248 - mae: 155.4248\n",
            "Epoch 109/200\n",
            "34/34 [==============================] - 0s 3ms/step - loss: 106.7654 - mae: 106.7654\n",
            "Epoch 110/200\n",
            "34/34 [==============================] - 0s 2ms/step - loss: 399.9327 - mae: 399.9327\n",
            "Epoch 111/200\n",
            "34/34 [==============================] - 0s 3ms/step - loss: 283.3756 - mae: 283.3756\n",
            "Epoch 112/200\n",
            "34/34 [==============================] - 0s 3ms/step - loss: 389.6678 - mae: 389.6678\n",
            "Epoch 113/200\n",
            "34/34 [==============================] - 0s 3ms/step - loss: 210.2890 - mae: 210.2890\n",
            "Epoch 114/200\n",
            "34/34 [==============================] - 0s 3ms/step - loss: 183.8015 - mae: 183.8015\n",
            "Epoch 115/200\n",
            "34/34 [==============================] - 0s 2ms/step - loss: 254.8361 - mae: 254.8361\n",
            "Epoch 116/200\n",
            "34/34 [==============================] - 0s 3ms/step - loss: 124.5501 - mae: 124.5501\n",
            "Epoch 117/200\n",
            "34/34 [==============================] - 0s 2ms/step - loss: 136.3364 - mae: 136.3364\n",
            "Epoch 118/200\n",
            "34/34 [==============================] - 0s 2ms/step - loss: 237.6560 - mae: 237.6560\n",
            "Epoch 119/200\n",
            "34/34 [==============================] - 0s 2ms/step - loss: 285.5062 - mae: 285.5062\n",
            "Epoch 120/200\n",
            "34/34 [==============================] - 0s 2ms/step - loss: 249.9593 - mae: 249.9593\n",
            "Epoch 121/200\n",
            "34/34 [==============================] - 0s 3ms/step - loss: 289.0920 - mae: 289.0920\n",
            "Epoch 122/200\n",
            "34/34 [==============================] - 0s 2ms/step - loss: 239.3580 - mae: 239.3580\n",
            "Epoch 123/200\n",
            "34/34 [==============================] - 0s 3ms/step - loss: 238.7034 - mae: 238.7034\n",
            "Epoch 124/200\n",
            "34/34 [==============================] - 0s 2ms/step - loss: 143.2878 - mae: 143.2878\n",
            "Epoch 125/200\n",
            "34/34 [==============================] - 0s 2ms/step - loss: 103.0395 - mae: 103.0395\n",
            "Epoch 126/200\n",
            "34/34 [==============================] - 0s 3ms/step - loss: 167.3906 - mae: 167.3906\n",
            "Epoch 127/200\n",
            "34/34 [==============================] - 0s 3ms/step - loss: 302.0013 - mae: 302.0013\n",
            "Epoch 128/200\n",
            "34/34 [==============================] - 0s 2ms/step - loss: 144.2352 - mae: 144.2352\n",
            "Epoch 129/200\n",
            "34/34 [==============================] - 0s 3ms/step - loss: 209.3131 - mae: 209.3131\n",
            "Epoch 130/200\n",
            "34/34 [==============================] - 0s 2ms/step - loss: 223.0270 - mae: 223.0270\n",
            "Epoch 131/200\n",
            "34/34 [==============================] - 0s 2ms/step - loss: 153.7295 - mae: 153.7295\n",
            "Epoch 132/200\n",
            "34/34 [==============================] - 0s 3ms/step - loss: 127.5923 - mae: 127.5923\n",
            "Epoch 133/200\n",
            "34/34 [==============================] - 0s 2ms/step - loss: 212.5221 - mae: 212.5221\n",
            "Epoch 134/200\n",
            "34/34 [==============================] - 0s 3ms/step - loss: 216.7144 - mae: 216.7144\n",
            "Epoch 135/200\n",
            "34/34 [==============================] - 0s 2ms/step - loss: 212.8698 - mae: 212.8698\n",
            "Epoch 136/200\n",
            "34/34 [==============================] - 0s 2ms/step - loss: 198.3204 - mae: 198.3204\n",
            "Epoch 137/200\n",
            "34/34 [==============================] - 0s 3ms/step - loss: 114.4278 - mae: 114.4278\n",
            "Epoch 138/200\n",
            "34/34 [==============================] - 0s 3ms/step - loss: 251.0910 - mae: 251.0910\n",
            "Epoch 139/200\n",
            "34/34 [==============================] - 0s 2ms/step - loss: 245.6687 - mae: 245.6687\n",
            "Epoch 140/200\n",
            "34/34 [==============================] - 0s 2ms/step - loss: 191.6235 - mae: 191.6235\n",
            "Epoch 141/200\n",
            "34/34 [==============================] - 0s 2ms/step - loss: 174.9377 - mae: 174.9377\n",
            "Epoch 142/200\n",
            "34/34 [==============================] - 0s 3ms/step - loss: 145.4800 - mae: 145.4800\n",
            "Epoch 143/200\n",
            "34/34 [==============================] - 0s 3ms/step - loss: 174.4863 - mae: 174.4863\n",
            "Epoch 144/200\n",
            "34/34 [==============================] - 0s 2ms/step - loss: 183.2170 - mae: 183.2170\n",
            "Epoch 145/200\n",
            "34/34 [==============================] - 0s 3ms/step - loss: 134.1085 - mae: 134.1085\n",
            "Epoch 146/200\n",
            "34/34 [==============================] - 0s 3ms/step - loss: 132.2601 - mae: 132.2601\n",
            "Epoch 147/200\n",
            "34/34 [==============================] - 0s 2ms/step - loss: 122.0050 - mae: 122.0050\n",
            "Epoch 148/200\n",
            "34/34 [==============================] - 0s 3ms/step - loss: 163.7229 - mae: 163.7229\n",
            "Epoch 149/200\n",
            "34/34 [==============================] - 0s 2ms/step - loss: 475.0498 - mae: 475.0498\n",
            "Epoch 150/200\n",
            "34/34 [==============================] - 0s 2ms/step - loss: 286.2584 - mae: 286.2584\n",
            "Epoch 151/200\n",
            "34/34 [==============================] - 0s 2ms/step - loss: 316.1918 - mae: 316.1918\n",
            "Epoch 152/200\n",
            "34/34 [==============================] - 0s 2ms/step - loss: 112.2274 - mae: 112.2274\n",
            "Epoch 153/200\n",
            "34/34 [==============================] - 0s 3ms/step - loss: 133.0653 - mae: 133.0653\n",
            "Epoch 154/200\n",
            "34/34 [==============================] - 0s 3ms/step - loss: 344.3031 - mae: 344.3031\n",
            "Epoch 155/200\n",
            "34/34 [==============================] - 0s 3ms/step - loss: 194.6513 - mae: 194.6513\n",
            "Epoch 156/200\n",
            "34/34 [==============================] - 0s 3ms/step - loss: 145.5630 - mae: 145.5630\n",
            "Epoch 157/200\n",
            "34/34 [==============================] - 0s 3ms/step - loss: 154.4639 - mae: 154.4639\n",
            "Epoch 158/200\n",
            "34/34 [==============================] - 0s 3ms/step - loss: 198.7007 - mae: 198.7007\n",
            "Epoch 159/200\n",
            "34/34 [==============================] - 0s 3ms/step - loss: 136.2458 - mae: 136.2458\n",
            "Epoch 160/200\n",
            "34/34 [==============================] - 0s 3ms/step - loss: 85.3501 - mae: 85.3501\n",
            "Epoch 161/200\n",
            "34/34 [==============================] - 0s 3ms/step - loss: 78.8081 - mae: 78.8081\n",
            "Epoch 162/200\n",
            "34/34 [==============================] - 0s 3ms/step - loss: 155.0435 - mae: 155.0435\n",
            "Epoch 163/200\n",
            "34/34 [==============================] - 0s 3ms/step - loss: 220.8358 - mae: 220.8358\n",
            "Epoch 164/200\n",
            "34/34 [==============================] - 0s 3ms/step - loss: 183.0286 - mae: 183.0286\n",
            "Epoch 165/200\n",
            "34/34 [==============================] - 0s 3ms/step - loss: 157.2874 - mae: 157.2874\n",
            "Epoch 166/200\n",
            "34/34 [==============================] - 0s 3ms/step - loss: 101.5240 - mae: 101.5240\n",
            "Epoch 167/200\n",
            "34/34 [==============================] - 0s 3ms/step - loss: 120.2895 - mae: 120.2895\n",
            "Epoch 168/200\n",
            "34/34 [==============================] - 0s 3ms/step - loss: 144.6250 - mae: 144.6250\n",
            "Epoch 169/200\n",
            "34/34 [==============================] - 0s 2ms/step - loss: 94.6382 - mae: 94.6382\n",
            "Epoch 170/200\n",
            "34/34 [==============================] - 0s 3ms/step - loss: 147.6755 - mae: 147.6755\n",
            "Epoch 171/200\n",
            "34/34 [==============================] - 0s 3ms/step - loss: 134.2271 - mae: 134.2271\n",
            "Epoch 172/200\n",
            "34/34 [==============================] - 0s 3ms/step - loss: 111.5671 - mae: 111.5671\n",
            "Epoch 173/200\n",
            "34/34 [==============================] - 0s 3ms/step - loss: 178.8384 - mae: 178.8384\n",
            "Epoch 174/200\n",
            "34/34 [==============================] - 0s 3ms/step - loss: 184.8559 - mae: 184.8559\n",
            "Epoch 175/200\n",
            "34/34 [==============================] - 0s 2ms/step - loss: 203.5352 - mae: 203.5352\n",
            "Epoch 176/200\n",
            "34/34 [==============================] - 0s 3ms/step - loss: 153.8845 - mae: 153.8845\n",
            "Epoch 177/200\n",
            "34/34 [==============================] - 0s 2ms/step - loss: 157.4867 - mae: 157.4867\n",
            "Epoch 178/200\n",
            "34/34 [==============================] - 0s 3ms/step - loss: 166.6393 - mae: 166.6393\n",
            "Epoch 179/200\n",
            "34/34 [==============================] - 0s 3ms/step - loss: 349.4630 - mae: 349.4630\n",
            "Epoch 180/200\n",
            "34/34 [==============================] - 0s 3ms/step - loss: 511.3737 - mae: 511.3737\n",
            "Epoch 181/200\n",
            "34/34 [==============================] - 0s 3ms/step - loss: 225.1593 - mae: 225.1593\n",
            "Epoch 182/200\n",
            "34/34 [==============================] - 0s 3ms/step - loss: 96.7177 - mae: 96.7177\n",
            "Epoch 183/200\n",
            "34/34 [==============================] - 0s 3ms/step - loss: 71.6024 - mae: 71.6024\n",
            "Epoch 184/200\n",
            "34/34 [==============================] - 0s 3ms/step - loss: 152.6324 - mae: 152.6324\n",
            "Epoch 185/200\n",
            "34/34 [==============================] - 0s 3ms/step - loss: 159.9973 - mae: 159.9973\n",
            "Epoch 186/200\n",
            "34/34 [==============================] - 0s 2ms/step - loss: 170.2155 - mae: 170.2155\n",
            "Epoch 187/200\n",
            "34/34 [==============================] - 0s 3ms/step - loss: 246.9493 - mae: 246.9493\n",
            "Epoch 188/200\n",
            "34/34 [==============================] - 0s 3ms/step - loss: 257.6624 - mae: 257.6624\n",
            "Epoch 189/200\n",
            "34/34 [==============================] - 0s 3ms/step - loss: 153.1751 - mae: 153.1751\n",
            "Epoch 190/200\n",
            "34/34 [==============================] - 0s 3ms/step - loss: 104.7563 - mae: 104.7563\n",
            "Epoch 191/200\n",
            "34/34 [==============================] - 0s 2ms/step - loss: 122.7570 - mae: 122.7570\n",
            "Epoch 192/200\n",
            "34/34 [==============================] - 0s 2ms/step - loss: 114.1148 - mae: 114.1148\n",
            "Epoch 193/200\n",
            "34/34 [==============================] - 0s 3ms/step - loss: 239.9010 - mae: 239.9010\n",
            "Epoch 194/200\n",
            "34/34 [==============================] - 0s 2ms/step - loss: 176.5042 - mae: 176.5042\n",
            "Epoch 195/200\n",
            "34/34 [==============================] - 0s 3ms/step - loss: 171.9936 - mae: 171.9936\n",
            "Epoch 196/200\n",
            "34/34 [==============================] - 0s 3ms/step - loss: 90.7003 - mae: 90.7003\n",
            "Epoch 197/200\n",
            "34/34 [==============================] - 0s 2ms/step - loss: 99.0630 - mae: 99.0630\n",
            "Epoch 198/200\n",
            "34/34 [==============================] - 0s 3ms/step - loss: 137.1176 - mae: 137.1176\n",
            "Epoch 199/200\n",
            "34/34 [==============================] - 0s 3ms/step - loss: 144.7513 - mae: 144.7513\n",
            "Epoch 200/200\n",
            "34/34 [==============================] - 0s 2ms/step - loss: 206.1083 - mae: 206.1083\n"
          ]
        }
      ],
      "source": [
        "tf.random.set_seed(42)\n",
        "\n",
        "insurance_model_3 = tf.keras.Sequential([\n",
        "    tf.keras.layers.Dense(100),\n",
        "    # tf.keras.layers.Dense(50),\n",
        "    tf.keras.layers.Dense(10),\n",
        "    tf.keras.layers.Dense(1)\n",
        "])\n",
        "\n",
        "insurance_model_3.compile(loss=tf.keras.losses.mae,\n",
        "                          optimizer=tf.keras.optimizers.Adam(learning_rate=0.01),\n",
        "                          metrics=['mae'])\n",
        "\n",
        "history = insurance_model_3.fit(X_train, y_train, epochs=200, verbose=1)"
      ]
    },
    {
      "cell_type": "code",
      "execution_count": 141,
      "metadata": {
        "colab": {
          "base_uri": "https://localhost:8080/"
        },
        "id": "UxAwFYqHlOqB",
        "outputId": "9e8e967e-85b4-4d5a-cc95-534f84c9ecab"
      },
      "outputs": [
        {
          "name": "stdout",
          "output_type": "stream",
          "text": [
            "9/9 [==============================] - 0s 2ms/step - loss: 94.4686 - mae: 94.4686\n"
          ]
        },
        {
          "data": {
            "text/plain": [
              "[94.4686050415039, 94.4686050415039]"
            ]
          },
          "execution_count": 141,
          "metadata": {},
          "output_type": "execute_result"
        }
      ],
      "source": [
        "insurance_model_3.evaluate(X_test, y_test)"
      ]
    },
    {
      "cell_type": "code",
      "execution_count": 143,
      "metadata": {
        "colab": {
          "base_uri": "https://localhost:8080/",
          "height": 296
        },
        "id": "r_PDq8qflTR-",
        "outputId": "e2e38372-0704-40bc-85e4-3ab51a9090d7"
      },
      "outputs": [
        {
          "data": {
            "text/plain": [
              "Text(0.5, 0, 'epochs')"
            ]
          },
          "execution_count": 143,
          "metadata": {},
          "output_type": "execute_result"
        },
        {
          "data": {
            "image/png": "[encoded data removed]",
            "text/plain": [
              "<Figure size 432x288 with 1 Axes>"
            ]
          },
          "metadata": {
            "needs_background": "light"
          },
          "output_type": "display_data"
        }
      ],
      "source": [
        "pd.DataFrame(history.history).plot()\n",
        "plt.ylabel('loss')\n",
        "plt.xlabel('epochs')"
      ]
    },
    {
      "cell_type": "markdown",
      "metadata": {
        "id": "1z830hnOloJw"
      },
      "source": [
        "# Preprocessing data (normalization and standardization)"
      ]
    },
    {
      "cell_type": "code",
      "execution_count": 144,
      "metadata": {
        "colab": {
          "base_uri": "https://localhost:8080/",
          "height": 424
        },
        "id": "yKhYAt05opzV",
        "outputId": "0b5b3901-f1de-4393-c80f-655ffc8c99ce"
      },
      "outputs": [
        {
          "data": {
            "text/html": [
              "\n",
              "  <div id=\"df-1f0e68c7-a691-4207-bbc4-2e0be4d01e74\">\n",
              "    <div class=\"colab-df-container\">\n",
              "      <div>\n",
              "<style scoped>\n",
              "    .dataframe tbody tr th:only-of-type {\n",
              "        vertical-align: middle;\n",
              "    }\n",
              "\n",
              "    .dataframe tbody tr th {\n",
              "        vertical-align: top;\n",
              "    }\n",
              "\n",
              "    .dataframe thead th {\n",
              "        text-align: right;\n",
              "    }\n",
              "</style>\n",
              "<table border=\"1\" class=\"dataframe\">\n",
              "  <thead>\n",
              "    <tr style=\"text-align: right;\">\n",
              "      <th></th>\n",
              "      <th>age</th>\n",
              "      <th>sex</th>\n",
              "      <th>bmi</th>\n",
              "      <th>children</th>\n",
              "      <th>smoker</th>\n",
              "      <th>region</th>\n",
              "      <th>charges</th>\n",
              "    </tr>\n",
              "  </thead>\n",
              "  <tbody>\n",
              "    <tr>\n",
              "      <th>0</th>\n",
              "      <td>19</td>\n",
              "      <td>female</td>\n",
              "      <td>27.900</td>\n",
              "      <td>0</td>\n",
              "      <td>yes</td>\n",
              "      <td>southwest</td>\n",
              "      <td>16884.92400</td>\n",
              "    </tr>\n",
              "    <tr>\n",
              "      <th>1</th>\n",
              "      <td>18</td>\n",
              "      <td>male</td>\n",
              "      <td>33.770</td>\n",
              "      <td>1</td>\n",
              "      <td>no</td>\n",
              "      <td>southeast</td>\n",
              "      <td>1725.55230</td>\n",
              "    </tr>\n",
              "    <tr>\n",
              "      <th>2</th>\n",
              "      <td>28</td>\n",
              "      <td>male</td>\n",
              "      <td>33.000</td>\n",
              "      <td>3</td>\n",
              "      <td>no</td>\n",
              "      <td>southeast</td>\n",
              "      <td>4449.46200</td>\n",
              "    </tr>\n",
              "    <tr>\n",
              "      <th>3</th>\n",
              "      <td>33</td>\n",
              "      <td>male</td>\n",
              "      <td>22.705</td>\n",
              "      <td>0</td>\n",
              "      <td>no</td>\n",
              "      <td>northwest</td>\n",
              "      <td>21984.47061</td>\n",
              "    </tr>\n",
              "    <tr>\n",
              "      <th>4</th>\n",
              "      <td>32</td>\n",
              "      <td>male</td>\n",
              "      <td>28.880</td>\n",
              "      <td>0</td>\n",
              "      <td>no</td>\n",
              "      <td>northwest</td>\n",
              "      <td>3866.85520</td>\n",
              "    </tr>\n",
              "    <tr>\n",
              "      <th>...</th>\n",
              "      <td>...</td>\n",
              "      <td>...</td>\n",
              "      <td>...</td>\n",
              "      <td>...</td>\n",
              "      <td>...</td>\n",
              "      <td>...</td>\n",
              "      <td>...</td>\n",
              "    </tr>\n",
              "    <tr>\n",
              "      <th>1333</th>\n",
              "      <td>50</td>\n",
              "      <td>male</td>\n",
              "      <td>30.970</td>\n",
              "      <td>3</td>\n",
              "      <td>no</td>\n",
              "      <td>northwest</td>\n",
              "      <td>10600.54830</td>\n",
              "    </tr>\n",
              "    <tr>\n",
              "      <th>1334</th>\n",
              "      <td>18</td>\n",
              "      <td>female</td>\n",
              "      <td>31.920</td>\n",
              "      <td>0</td>\n",
              "      <td>no</td>\n",
              "      <td>northeast</td>\n",
              "      <td>2205.98080</td>\n",
              "    </tr>\n",
              "    <tr>\n",
              "      <th>1335</th>\n",
              "      <td>18</td>\n",
              "      <td>female</td>\n",
              "      <td>36.850</td>\n",
              "      <td>0</td>\n",
              "      <td>no</td>\n",
              "      <td>southeast</td>\n",
              "      <td>1629.83350</td>\n",
              "    </tr>\n",
              "    <tr>\n",
              "      <th>1336</th>\n",
              "      <td>21</td>\n",
              "      <td>female</td>\n",
              "      <td>25.800</td>\n",
              "      <td>0</td>\n",
              "      <td>no</td>\n",
              "      <td>southwest</td>\n",
              "      <td>2007.94500</td>\n",
              "    </tr>\n",
              "    <tr>\n",
              "      <th>1337</th>\n",
              "      <td>61</td>\n",
              "      <td>female</td>\n",
              "      <td>29.070</td>\n",
              "      <td>0</td>\n",
              "      <td>yes</td>\n",
              "      <td>northwest</td>\n",
              "      <td>29141.36030</td>\n",
              "    </tr>\n",
              "  </tbody>\n",
              "</table>\n",
              "<p>1338 rows × 7 columns</p>\n",
              "</div>\n",
              "      <button class=\"colab-df-convert\" onclick=\"convertToInteractive('df-1f0e68c7-a691-4207-bbc4-2e0be4d01e74')\"\n",
              "              title=\"Convert this dataframe to an interactive table.\"\n",
              "              style=\"display:none;\">\n",
              "        \n",
              "  <svg xmlns=\"http://www.w3.org/2000/svg\" height=\"24px\"viewBox=\"0 0 24 24\"\n",
              "       width=\"24px\">\n",
              "    <path d=\"M0 0h24v24H0V0z\" fill=\"none\"/>\n",
              "    <path d=\"M18.56 5.44l.94 2.06.94-2.06 2.06-.94-2.06-.94-.94-2.06-.94 2.06-2.06.94zm-11 1L8.5 8.5l.94-2.06 2.06-.94-2.06-.94L8.5 2.5l-.94 2.06-2.06.94zm10 10l.94 2.06.94-2.06 2.06-.94-2.06-.94-.94-2.06-.94 2.06-2.06.94z\"/><path d=\"M17.41 7.96l-1.37-1.37c-.4-.4-.92-.59-1.43-.59-.52 0-1.04.2-1.43.59L10.3 9.45l-7.72 7.72c-.78.78-.78 2.05 0 2.83L4 21.41c.39.39.9.59 1.41.59.51 0 1.02-.2 1.41-.59l7.78-7.78 2.81-2.81c.8-.78.8-2.07 0-2.86zM5.41 20L4 18.59l7.72-7.72 1.47 1.35L5.41 20z\"/>\n",
              "  </svg>\n",
              "      </button>\n",
              "      \n",
              "  <style>\n",
              "    .colab-df-container {\n",
              "      display:flex;\n",
              "      flex-wrap:wrap;\n",
              "      gap: 12px;\n",
              "    }\n",
              "\n",
              "    .colab-df-convert {\n",
              "      background-color: #E8F0FE;\n",
              "      border: none;\n",
              "      border-radius: 50%;\n",
              "      cursor: pointer;\n",
              "      display: none;\n",
              "      fill: #1967D2;\n",
              "      height: 32px;\n",
              "      padding: 0 0 0 0;\n",
              "      width: 32px;\n",
              "    }\n",
              "\n",
              "    .colab-df-convert:hover {\n",
              "      background-color: #E2EBFA;\n",
              "      box-shadow: 0px 1px 2px rgba(60, 64, 67, 0.3), 0px 1px 3px 1px rgba(60, 64, 67, 0.15);\n",
              "      fill: #174EA6;\n",
              "    }\n",
              "\n",
              "    [theme=dark] .colab-df-convert {\n",
              "      background-color: #3B4455;\n",
              "      fill: #D2E3FC;\n",
              "    }\n",
              "\n",
              "    [theme=dark] .colab-df-convert:hover {\n",
              "      background-color: #434B5C;\n",
              "      box-shadow: 0px 1px 3px 1px rgba(0, 0, 0, 0.15);\n",
              "      filter: drop-shadow(0px 1px 2px rgba(0, 0, 0, 0.3));\n",
              "      fill: #FFFFFF;\n",
              "    }\n",
              "  </style>\n",
              "\n",
              "      <script>\n",
              "        const buttonEl =\n",
              "          document.querySelector('#df-1f0e68c7-a691-4207-bbc4-2e0be4d01e74 button.colab-df-convert');\n",
              "        buttonEl.style.display =\n",
              "          google.colab.kernel.accessAllowed ? 'block' : 'none';\n",
              "\n",
              "        async function convertToInteractive(key) {\n",
              "          const element = document.querySelector('#df-1f0e68c7-a691-4207-bbc4-2e0be4d01e74');\n",
              "          const dataTable =\n",
              "            await google.colab.kernel.invokeFunction('convertToInteractive',\n",
              "                                                     [key], {});\n",
              "          if (!dataTable) return;\n",
              "\n",
              "          const docLinkHtml = 'Like what you see? Visit the ' +\n",
              "            '<a target=\"_blank\" href=https://colab.research.google.com/notebooks/data_table.ipynb>data table notebook</a>'\n",
              "            + ' to learn more about interactive tables.';\n",
              "          element.innerHTML = '';\n",
              "          dataTable['output_type'] = 'display_data';\n",
              "          await google.colab.output.renderOutput(dataTable, element);\n",
              "          const docLink = document.createElement('div');\n",
              "          docLink.innerHTML = docLinkHtml;\n",
              "          element.appendChild(docLink);\n",
              "        }\n",
              "      </script>\n",
              "    </div>\n",
              "  </div>\n",
              "  "
            ],
            "text/plain": [
              "      age     sex     bmi  children smoker     region      charges\n",
              "0      19  female  27.900         0    yes  southwest  16884.92400\n",
              "1      18    male  33.770         1     no  southeast   1725.55230\n",
              "2      28    male  33.000         3     no  southeast   4449.46200\n",
              "3      33    male  22.705         0     no  northwest  21984.47061\n",
              "4      32    male  28.880         0     no  northwest   3866.85520\n",
              "...   ...     ...     ...       ...    ...        ...          ...\n",
              "1333   50    male  30.970         3     no  northwest  10600.54830\n",
              "1334   18  female  31.920         0     no  northeast   2205.98080\n",
              "1335   18  female  36.850         0     no  southeast   1629.83350\n",
              "1336   21  female  25.800         0     no  southwest   2007.94500\n",
              "1337   61  female  29.070         0    yes  northwest  29141.36030\n",
              "\n",
              "[1338 rows x 7 columns]"
            ]
          },
          "execution_count": 144,
          "metadata": {},
          "output_type": "execute_result"
        }
      ],
      "source": [
        "import pandas as pd\n",
        "import matplotlib.pyplot as plt\n",
        "import tensorflow as tf\n",
        "\n",
        "insurance = pd.read_csv('https://raw.githubusercontent.com/stedy/Machine-Learning-with-R-datasets/master/insurance.csv')\n",
        "insurance"
      ]
    },
    {
      "cell_type": "code",
      "execution_count": 145,
      "metadata": {
        "id": "9nQ39gkOwN-O"
      },
      "outputs": [],
      "source": [
        "# To prepare our data, we can borrow a few classes from Scikit-learn\n",
        "from sklearn.compose import make_column_transformer\n",
        "from sklearn.preprocessing import MinMaxScaler, OneHotEncoder\n",
        "from sklearn.model_selection import train_test_split\n",
        "\n",
        "ct = make_column_transformer(\n",
        "    (MinMaxScaler(), ['age', 'bmi', 'children']),\n",
        "    (OneHotEncoder(handle_unknown='ignore'), ['sex', 'smoker', 'region'])\n",
        ")\n",
        "\n",
        "# Create x and y \n",
        "X = insurance.drop('charges', axis=1)\n",
        "y = insurance['charges']\n",
        "\n",
        "# Build our train and test sets\n",
        "X_train, X_test, y_train, y_test = train_test_split(X, y, test_size=0.2, random_state=42)\n",
        "\n",
        "# fit the column transformer to our training data\n",
        "ct.fit(X_train)\n",
        "\n",
        "# Transform training and test data with mormalization\n",
        "X_train_normal = ct.transform(X_train)\n",
        "X_test_normal = ct.transform(X_test)\n"
      ]
    },
    {
      "cell_type": "code",
      "execution_count": 148,
      "metadata": {
        "colab": {
          "base_uri": "https://localhost:8080/"
        },
        "id": "Wx-Grirsy901",
        "outputId": "8fb42340-265c-42c7-e72b-5e2482221938"
      },
      "outputs": [
        {
          "data": {
            "text/plain": [
              "(array([[0.60869565, 0.10734463, 0.4       , 1.        , 0.        ,\n",
              "         1.        , 0.        , 0.        , 1.        , 0.        ,\n",
              "         0.        ],\n",
              "        [0.63043478, 0.22491256, 0.        , 1.        , 0.        ,\n",
              "         1.        , 0.        , 1.        , 0.        , 0.        ,\n",
              "         0.        ],\n",
              "        [0.73913043, 0.23944041, 0.        , 1.        , 0.        ,\n",
              "         1.        , 0.        , 0.        , 0.        , 1.        ,\n",
              "         0.        ],\n",
              "        [0.45652174, 0.49394673, 1.        , 1.        , 0.        ,\n",
              "         1.        , 0.        , 0.        , 0.        , 1.        ,\n",
              "         0.        ],\n",
              "        [0.7826087 , 0.14823783, 0.6       , 1.        , 0.        ,\n",
              "         1.        , 0.        , 0.        , 1.        , 0.        ,\n",
              "         0.        ]]),       age     sex    bmi  children smoker     region\n",
              " 560    46  female  19.95         2     no  northwest\n",
              " 1285   47  female  24.32         0     no  northeast\n",
              " 1142   52  female  24.86         0     no  southeast\n",
              " 969    39  female  34.32         5     no  southeast\n",
              " 486    54  female  21.47         3     no  northwest)"
            ]
          },
          "execution_count": 148,
          "metadata": {},
          "output_type": "execute_result"
        }
      ],
      "source": [
        "X_train_normal[:5], X_train.head()"
      ]
    },
    {
      "cell_type": "code",
      "execution_count": 149,
      "metadata": {
        "colab": {
          "base_uri": "https://localhost:8080/"
        },
        "id": "FSVvN1NUzAWq",
        "outputId": "12b1f14c-2c47-4b15-cc1e-9b0b158dbf94"
      },
      "outputs": [
        {
          "data": {
            "text/plain": [
              "((1070, 6), (1070, 11))"
            ]
          },
          "execution_count": 149,
          "metadata": {},
          "output_type": "execute_result"
        }
      ],
      "source": [
        "X_train.shape, X_train_normal.shape"
      ]
    },
    {
      "cell_type": "markdown",
      "metadata": {
        "id": "u2Xc0jz9z3AK"
      },
      "source": [
        "Beautiful! our data has been normalized and one hot encoded."
      ]
    },
    {
      "cell_type": "code",
      "execution_count": 158,
      "metadata": {
        "colab": {
          "base_uri": "https://localhost:8080/"
        },
        "id": "LmFn74vt0Czj",
        "outputId": "607fe940-6477-4808-fff5-f77fb82273b3"
      },
      "outputs": [
        {
          "name": "stdout",
          "output_type": "stream",
          "text": [
            "Epoch 1/100\n",
            "34/34 [==============================] - 0s 3ms/step - loss: 13268.4131 - mae: 13268.4131\n",
            "Epoch 2/100\n",
            "34/34 [==============================] - 0s 2ms/step - loss: 11758.2910 - mae: 11758.2910\n",
            "Epoch 3/100\n",
            "34/34 [==============================] - 0s 3ms/step - loss: 8331.9404 - mae: 8331.9404\n",
            "Epoch 4/100\n",
            "34/34 [==============================] - 0s 2ms/step - loss: 7720.1050 - mae: 7720.1050\n",
            "Epoch 5/100\n",
            "34/34 [==============================] - 0s 2ms/step - loss: 7276.6665 - mae: 7276.6665\n",
            "Epoch 6/100\n",
            "34/34 [==============================] - 0s 2ms/step - loss: 6780.6899 - mae: 6780.6899\n",
            "Epoch 7/100\n",
            "34/34 [==============================] - 0s 2ms/step - loss: 6023.8081 - mae: 6023.8081\n",
            "Epoch 8/100\n",
            "34/34 [==============================] - 0s 2ms/step - loss: 4972.7949 - mae: 4972.7949\n",
            "Epoch 9/100\n",
            "34/34 [==============================] - 0s 2ms/step - loss: 4015.7571 - mae: 4015.7571\n",
            "Epoch 10/100\n",
            "34/34 [==============================] - 0s 2ms/step - loss: 3681.2239 - mae: 3681.2239\n",
            "Epoch 11/100\n",
            "34/34 [==============================] - 0s 2ms/step - loss: 3683.4436 - mae: 3683.4436\n",
            "Epoch 12/100\n",
            "34/34 [==============================] - 0s 2ms/step - loss: 3635.0464 - mae: 3635.0464\n",
            "Epoch 13/100\n",
            "34/34 [==============================] - 0s 2ms/step - loss: 3618.4438 - mae: 3618.4438\n",
            "Epoch 14/100\n",
            "34/34 [==============================] - 0s 3ms/step - loss: 3620.9934 - mae: 3620.9934\n",
            "Epoch 15/100\n",
            "34/34 [==============================] - 0s 2ms/step - loss: 3594.1843 - mae: 3594.1843\n",
            "Epoch 16/100\n",
            "34/34 [==============================] - 0s 2ms/step - loss: 3585.3108 - mae: 3585.3108\n",
            "Epoch 17/100\n",
            "34/34 [==============================] - 0s 3ms/step - loss: 3577.6208 - mae: 3577.6208\n",
            "Epoch 18/100\n",
            "34/34 [==============================] - 0s 2ms/step - loss: 3544.6677 - mae: 3544.6677\n",
            "Epoch 19/100\n",
            "34/34 [==============================] - 0s 2ms/step - loss: 3550.7007 - mae: 3550.7007\n",
            "Epoch 20/100\n",
            "34/34 [==============================] - 0s 2ms/step - loss: 3525.6956 - mae: 3525.6956\n",
            "Epoch 21/100\n",
            "34/34 [==============================] - 0s 2ms/step - loss: 3509.4990 - mae: 3509.4990\n",
            "Epoch 22/100\n",
            "34/34 [==============================] - 0s 3ms/step - loss: 3498.5012 - mae: 3498.5012\n",
            "Epoch 23/100\n",
            "34/34 [==============================] - 0s 2ms/step - loss: 3499.1826 - mae: 3499.1826\n",
            "Epoch 24/100\n",
            "34/34 [==============================] - 0s 2ms/step - loss: 3502.0093 - mae: 3502.0093\n",
            "Epoch 25/100\n",
            "34/34 [==============================] - 0s 3ms/step - loss: 3542.2527 - mae: 3542.2527\n",
            "Epoch 26/100\n",
            "34/34 [==============================] - 0s 2ms/step - loss: 3490.4622 - mae: 3490.4622\n",
            "Epoch 27/100\n",
            "34/34 [==============================] - 0s 3ms/step - loss: 3488.6523 - mae: 3488.6523\n",
            "Epoch 28/100\n",
            "34/34 [==============================] - 0s 2ms/step - loss: 3509.6846 - mae: 3509.6846\n",
            "Epoch 29/100\n",
            "34/34 [==============================] - 0s 2ms/step - loss: 3514.2898 - mae: 3514.2898\n",
            "Epoch 30/100\n",
            "34/34 [==============================] - 0s 2ms/step - loss: 3510.9624 - mae: 3510.9624\n",
            "Epoch 31/100\n",
            "34/34 [==============================] - 0s 2ms/step - loss: 3497.9678 - mae: 3497.9678\n",
            "Epoch 32/100\n",
            "34/34 [==============================] - 0s 2ms/step - loss: 3510.8110 - mae: 3510.8110\n",
            "Epoch 33/100\n",
            "34/34 [==============================] - 0s 3ms/step - loss: 3503.7188 - mae: 3503.7188\n",
            "Epoch 34/100\n",
            "34/34 [==============================] - 0s 3ms/step - loss: 3486.2952 - mae: 3486.2952\n",
            "Epoch 35/100\n",
            "34/34 [==============================] - 0s 3ms/step - loss: 3497.2051 - mae: 3497.2051\n",
            "Epoch 36/100\n",
            "34/34 [==============================] - 0s 3ms/step - loss: 3499.9119 - mae: 3499.9119\n",
            "Epoch 37/100\n",
            "34/34 [==============================] - 0s 2ms/step - loss: 3495.1138 - mae: 3495.1138\n",
            "Epoch 38/100\n",
            "34/34 [==============================] - 0s 2ms/step - loss: 3503.3997 - mae: 3503.3997\n",
            "Epoch 39/100\n",
            "34/34 [==============================] - 0s 3ms/step - loss: 3490.6191 - mae: 3490.6191\n",
            "Epoch 40/100\n",
            "34/34 [==============================] - 0s 2ms/step - loss: 3524.3123 - mae: 3524.3123\n",
            "Epoch 41/100\n",
            "34/34 [==============================] - 0s 3ms/step - loss: 3507.4143 - mae: 3507.4143\n",
            "Epoch 42/100\n",
            "34/34 [==============================] - 0s 2ms/step - loss: 3498.5139 - mae: 3498.5139\n",
            "Epoch 43/100\n",
            "34/34 [==============================] - 0s 2ms/step - loss: 3495.1487 - mae: 3495.1487\n",
            "Epoch 44/100\n",
            "34/34 [==============================] - 0s 3ms/step - loss: 3487.4836 - mae: 3487.4836\n",
            "Epoch 45/100\n",
            "34/34 [==============================] - 0s 3ms/step - loss: 3482.6353 - mae: 3482.6353\n",
            "Epoch 46/100\n",
            "34/34 [==============================] - 0s 3ms/step - loss: 3492.4836 - mae: 3492.4836\n",
            "Epoch 47/100\n",
            "34/34 [==============================] - 0s 2ms/step - loss: 3501.1318 - mae: 3501.1318\n",
            "Epoch 48/100\n",
            "34/34 [==============================] - 0s 3ms/step - loss: 3492.9531 - mae: 3492.9531\n",
            "Epoch 49/100\n",
            "34/34 [==============================] - 0s 2ms/step - loss: 3498.1895 - mae: 3498.1895\n",
            "Epoch 50/100\n",
            "34/34 [==============================] - 0s 2ms/step - loss: 3502.6548 - mae: 3502.6548\n",
            "Epoch 51/100\n",
            "34/34 [==============================] - 0s 2ms/step - loss: 3484.0034 - mae: 3484.0034\n",
            "Epoch 52/100\n",
            "34/34 [==============================] - 0s 2ms/step - loss: 3485.2593 - mae: 3485.2593\n",
            "Epoch 53/100\n",
            "34/34 [==============================] - 0s 2ms/step - loss: 3485.8467 - mae: 3485.8467\n",
            "Epoch 54/100\n",
            "34/34 [==============================] - 0s 2ms/step - loss: 3510.9121 - mae: 3510.9121\n",
            "Epoch 55/100\n",
            "34/34 [==============================] - 0s 2ms/step - loss: 3521.6863 - mae: 3521.6863\n",
            "Epoch 56/100\n",
            "34/34 [==============================] - 0s 2ms/step - loss: 3491.0793 - mae: 3491.0793\n",
            "Epoch 57/100\n",
            "34/34 [==============================] - 0s 3ms/step - loss: 3490.5383 - mae: 3490.5383\n",
            "Epoch 58/100\n",
            "34/34 [==============================] - 0s 2ms/step - loss: 3485.6169 - mae: 3485.6169\n",
            "Epoch 59/100\n",
            "34/34 [==============================] - 0s 3ms/step - loss: 3488.2791 - mae: 3488.2791\n",
            "Epoch 60/100\n",
            "34/34 [==============================] - 0s 3ms/step - loss: 3491.9143 - mae: 3491.9143\n",
            "Epoch 61/100\n",
            "34/34 [==============================] - 0s 2ms/step - loss: 3499.6853 - mae: 3499.6853\n",
            "Epoch 62/100\n",
            "34/34 [==============================] - 0s 3ms/step - loss: 3498.6145 - mae: 3498.6145\n",
            "Epoch 63/100\n",
            "34/34 [==============================] - 0s 3ms/step - loss: 3486.3154 - mae: 3486.3154\n",
            "Epoch 64/100\n",
            "34/34 [==============================] - 0s 2ms/step - loss: 3488.9990 - mae: 3488.9990\n",
            "Epoch 65/100\n",
            "34/34 [==============================] - 0s 2ms/step - loss: 3483.0085 - mae: 3483.0085\n",
            "Epoch 66/100\n",
            "34/34 [==============================] - 0s 3ms/step - loss: 3500.3713 - mae: 3500.3713\n",
            "Epoch 67/100\n",
            "34/34 [==============================] - 0s 2ms/step - loss: 3486.5959 - mae: 3486.5959\n",
            "Epoch 68/100\n",
            "34/34 [==============================] - 0s 3ms/step - loss: 3492.5461 - mae: 3492.5461\n",
            "Epoch 69/100\n",
            "34/34 [==============================] - 0s 2ms/step - loss: 3483.8726 - mae: 3483.8726\n",
            "Epoch 70/100\n",
            "34/34 [==============================] - 0s 2ms/step - loss: 3488.0703 - mae: 3488.0703\n",
            "Epoch 71/100\n",
            "34/34 [==============================] - 0s 3ms/step - loss: 3491.6604 - mae: 3491.6604\n",
            "Epoch 72/100\n",
            "34/34 [==============================] - 0s 2ms/step - loss: 3489.0710 - mae: 3489.0710\n",
            "Epoch 73/100\n",
            "34/34 [==============================] - 0s 2ms/step - loss: 3501.3777 - mae: 3501.3777\n",
            "Epoch 74/100\n",
            "34/34 [==============================] - 0s 2ms/step - loss: 3496.6443 - mae: 3496.6443\n",
            "Epoch 75/100\n",
            "34/34 [==============================] - 0s 2ms/step - loss: 3483.0225 - mae: 3483.0225\n",
            "Epoch 76/100\n",
            "34/34 [==============================] - 0s 2ms/step - loss: 3491.2527 - mae: 3491.2527\n",
            "Epoch 77/100\n",
            "34/34 [==============================] - 0s 2ms/step - loss: 3486.5085 - mae: 3486.5085\n",
            "Epoch 78/100\n",
            "34/34 [==============================] - 0s 2ms/step - loss: 3496.1492 - mae: 3496.1492\n",
            "Epoch 79/100\n",
            "34/34 [==============================] - 0s 3ms/step - loss: 3487.7419 - mae: 3487.7419\n",
            "Epoch 80/100\n",
            "34/34 [==============================] - 0s 2ms/step - loss: 3499.3071 - mae: 3499.3071\n",
            "Epoch 81/100\n",
            "34/34 [==============================] - 0s 2ms/step - loss: 3497.4709 - mae: 3497.4709\n",
            "Epoch 82/100\n",
            "34/34 [==============================] - 0s 3ms/step - loss: 3494.2451 - mae: 3494.2451\n",
            "Epoch 83/100\n",
            "34/34 [==============================] - 0s 2ms/step - loss: 3492.3296 - mae: 3492.3296\n",
            "Epoch 84/100\n",
            "34/34 [==============================] - 0s 2ms/step - loss: 3496.3977 - mae: 3496.3977\n",
            "Epoch 85/100\n",
            "34/34 [==============================] - 0s 3ms/step - loss: 3481.8613 - mae: 3481.8613\n",
            "Epoch 86/100\n",
            "34/34 [==============================] - 0s 2ms/step - loss: 3484.9609 - mae: 3484.9609\n",
            "Epoch 87/100\n",
            "34/34 [==============================] - 0s 2ms/step - loss: 3488.8235 - mae: 3488.8235\n",
            "Epoch 88/100\n",
            "34/34 [==============================] - 0s 2ms/step - loss: 3487.2090 - mae: 3487.2090\n",
            "Epoch 89/100\n",
            "34/34 [==============================] - 0s 2ms/step - loss: 3491.2537 - mae: 3491.2537\n",
            "Epoch 90/100\n",
            "34/34 [==============================] - 0s 3ms/step - loss: 3496.6035 - mae: 3496.6035\n",
            "Epoch 91/100\n",
            "34/34 [==============================] - 0s 3ms/step - loss: 3488.7358 - mae: 3488.7358\n",
            "Epoch 92/100\n",
            "34/34 [==============================] - 0s 3ms/step - loss: 3500.8208 - mae: 3500.8208\n",
            "Epoch 93/100\n",
            "34/34 [==============================] - 0s 2ms/step - loss: 3490.3232 - mae: 3490.3232\n",
            "Epoch 94/100\n",
            "34/34 [==============================] - 0s 2ms/step - loss: 3486.9048 - mae: 3486.9048\n",
            "Epoch 95/100\n",
            "34/34 [==============================] - 0s 2ms/step - loss: 3491.8171 - mae: 3491.8171\n",
            "Epoch 96/100\n",
            "34/34 [==============================] - 0s 2ms/step - loss: 3488.5923 - mae: 3488.5923\n",
            "Epoch 97/100\n",
            "34/34 [==============================] - 0s 2ms/step - loss: 3508.1963 - mae: 3508.1963\n",
            "Epoch 98/100\n",
            "34/34 [==============================] - 0s 2ms/step - loss: 3483.3186 - mae: 3483.3186\n",
            "Epoch 99/100\n",
            "34/34 [==============================] - 0s 3ms/step - loss: 3511.5413 - mae: 3511.5413\n",
            "Epoch 100/100\n",
            "34/34 [==============================] - 0s 2ms/step - loss: 3501.8179 - mae: 3501.8179\n"
          ]
        },
        {
          "data": {
            "text/plain": [
              "<keras.callbacks.History at 0x7f8b076eefa0>"
            ]
          },
          "execution_count": 158,
          "metadata": {},
          "output_type": "execute_result"
        }
      ],
      "source": [
        "tf.random.set_seed(42)\n",
        "\n",
        "insurance_model_1 = tf.keras.Sequential([\n",
        "    tf.keras.layers.Dense(10),\n",
        "    tf.keras.layers.Dense(100),\n",
        "    tf.keras.layers.Dense(1)\n",
        "])\n",
        "\n",
        "insurance_model_1.compile(\n",
        "    loss=tf.keras.losses.mae,\n",
        "    optimizer=tf.keras.optimizers.Adam(),\n",
        "    metrics=['mae']\n",
        ")\n",
        "\n",
        "insurance_model_1.fit(X_train_normal, y_train, epochs=100)"
      ]
    },
    {
      "cell_type": "code",
      "execution_count": 159,
      "metadata": {
        "colab": {
          "base_uri": "https://localhost:8080/"
        },
        "id": "h4b3L8Dp0paL",
        "outputId": "4dd9e555-f4ab-4f81-f07a-9087b7be3250"
      },
      "outputs": [
        {
          "name": "stdout",
          "output_type": "stream",
          "text": [
            "9/9 [==============================] - 0s 2ms/step - loss: 3177.2156 - mae: 3177.2156\n"
          ]
        },
        {
          "data": {
            "text/plain": [
              "[3177.215576171875, 3177.215576171875]"
            ]
          },
          "execution_count": 159,
          "metadata": {},
          "output_type": "execute_result"
        }
      ],
      "source": [
        "insurance_model_1.evaluate(X_test_normal, y_test)"
      ]
    },
    {
      "cell_type": "code",
      "execution_count": 161,
      "metadata": {
        "colab": {
          "base_uri": "https://localhost:8080/"
        },
        "id": "G6j01q4O0xkp",
        "outputId": "caac32a6-b896-42d6-d427-c3b44979f323"
      },
      "outputs": [
        {
          "name": "stdout",
          "output_type": "stream",
          "text": [
            "9/9 [==============================] - 0s 2ms/step\n"
          ]
        },
        {
          "data": {
            "text/plain": [
              "array([[ 8955.09   ],\n",
              "       [ 5745.225  ],\n",
              "       [44042.96   ],\n",
              "       [ 9063.712  ],\n",
              "       [32220.574  ],\n",
              "       [ 5533.315  ],\n",
              "       [  953.0847 ],\n",
              "       [13113.884  ],\n",
              "       [ 3329.815  ],\n",
              "       [ 9985.897  ],\n",
              "       [35567.3    ],\n",
              "       [ 7579.621  ],\n",
              "       [ 3958.5427 ],\n",
              "       [40637.434  ],\n",
              "       [43001.805  ],\n",
              "       [40329.89   ],\n",
              "       [10205.106  ],\n",
              "       [40126.184  ],\n",
              "       [ 8323.647  ],\n",
              "       [38560.953  ],\n",
              "       [ 3917.2383 ],\n",
              "       [ 7804.0547 ],\n",
              "       [  619.84656],\n",
              "       [ 2826.5134 ],\n",
              "       [10532.982  ],\n",
              "       [10843.654  ],\n",
              "       [11857.653  ],\n",
              "       [ 4636.5273 ],\n",
              "       [ 9544.464  ],\n",
              "       [  392.43765],\n",
              "       [ 7993.254  ],\n",
              "       [11312.446  ],\n",
              "       [ 1711.8442 ],\n",
              "       [ 4926.302  ],\n",
              "       [ 2835.893  ],\n",
              "       [ 8517.663  ],\n",
              "       [ 1673.639  ],\n",
              "       [ 7581.9336 ],\n",
              "       [41187.914  ],\n",
              "       [36874.195  ],\n",
              "       [ 2885.7986 ],\n",
              "       [ 2247.9968 ],\n",
              "       [11254.107  ],\n",
              "       [11221.086  ],\n",
              "       [ 5388.21   ],\n",
              "       [11332.439  ],\n",
              "       [ 2815.139  ],\n",
              "       [ 3433.8784 ],\n",
              "       [39553.082  ],\n",
              "       [ 4990.7544 ],\n",
              "       [12743.365  ],\n",
              "       [  763.68134],\n",
              "       [ 7735.2344 ],\n",
              "       [  823.50885],\n",
              "       [10514.793  ],\n",
              "       [10274.798  ],\n",
              "       [ 3924.686  ],\n",
              "       [36692.555  ],\n",
              "       [11241.131  ],\n",
              "       [10609.518  ],\n",
              "       [12484.995  ],\n",
              "       [ 5265.9697 ],\n",
              "       [13075.755  ],\n",
              "       [ 7888.9917 ],\n",
              "       [10236.342  ],\n",
              "       [ 3871.5776 ],\n",
              "       [33686.84   ],\n",
              "       [10314.278  ],\n",
              "       [ 2926.9683 ],\n",
              "       [ 1832.6221 ],\n",
              "       [ 6967.8564 ],\n",
              "       [ 9552.524  ],\n",
              "       [ 8687.428  ],\n",
              "       [ 6793.5024 ],\n",
              "       [ 7961.1987 ],\n",
              "       [ 5393.86   ],\n",
              "       [ 4700.7217 ],\n",
              "       [10759.862  ],\n",
              "       [ 4266.0854 ],\n",
              "       [ 8720.931  ],\n",
              "       [ 1065.1405 ],\n",
              "       [43472.934  ],\n",
              "       [ 5113.283  ],\n",
              "       [34891.152  ],\n",
              "       [34040.08   ],\n",
              "       [40582.555  ],\n",
              "       [ 4815.316  ],\n",
              "       [10522.253  ],\n",
              "       [ 8419.15   ],\n",
              "       [11010.979  ],\n",
              "       [14002.885  ],\n",
              "       [43512.426  ],\n",
              "       [40250.848  ],\n",
              "       [ 5104.087  ],\n",
              "       [36117.02   ],\n",
              "       [ 7263.075  ],\n",
              "       [35533.99   ],\n",
              "       [ 1362.5094 ],\n",
              "       [36237.633  ],\n",
              "       [ 6263.879  ],\n",
              "       [ 4510.288  ],\n",
              "       [  861.97723],\n",
              "       [ 6874.3257 ],\n",
              "       [11770.517  ],\n",
              "       [11931.948  ],\n",
              "       [ 1038.929  ],\n",
              "       [ 8020.841  ],\n",
              "       [40229.273  ],\n",
              "       [  603.73553],\n",
              "       [41043.3    ],\n",
              "       [  747.32   ],\n",
              "       [ 3662.2268 ],\n",
              "       [12281.986  ],\n",
              "       [37130.824  ],\n",
              "       [ 9856.308  ],\n",
              "       [ 1411.2434 ],\n",
              "       [11904.129  ],\n",
              "       [38974.86   ],\n",
              "       [ 6511.6484 ],\n",
              "       [ 2320.6675 ],\n",
              "       [ 6057.208  ],\n",
              "       [ 7750.057  ],\n",
              "       [11405.863  ],\n",
              "       [ 2228.7786 ],\n",
              "       [ 4180.5005 ],\n",
              "       [ 8009.183  ],\n",
              "       [ 7898.846  ],\n",
              "       [ 9498.508  ],\n",
              "       [11647.241  ],\n",
              "       [ 2253.3655 ],\n",
              "       [ 4302.9287 ],\n",
              "       [ 6250.388  ],\n",
              "       [ 6228.448  ],\n",
              "       [ 8758.849  ],\n",
              "       [ 6267.061  ],\n",
              "       [11785.678  ],\n",
              "       [ 5169.8022 ],\n",
              "       [37741.47   ],\n",
              "       [39391.625  ],\n",
              "       [37452.547  ],\n",
              "       [ 5597.2153 ],\n",
              "       [10118.817  ],\n",
              "       [ 2730.1008 ],\n",
              "       [11091.512  ],\n",
              "       [ 2012.0377 ],\n",
              "       [40176.27   ],\n",
              "       [ 5343.228  ],\n",
              "       [ 4003.993  ],\n",
              "       [11184.238  ],\n",
              "       [ 5208.929  ],\n",
              "       [42865.17   ],\n",
              "       [ 2261.9004 ],\n",
              "       [  911.77313],\n",
              "       [36376.516  ],\n",
              "       [ 7172.7725 ],\n",
              "       [ 5403.939  ],\n",
              "       [12592.176  ],\n",
              "       [ 8647.016  ],\n",
              "       [32243.062  ],\n",
              "       [38424.523  ],\n",
              "       [12662.674  ],\n",
              "       [ 1513.1774 ],\n",
              "       [12955.572  ],\n",
              "       [ 2052.5    ],\n",
              "       [ 2995.4172 ],\n",
              "       [ 7805.1533 ],\n",
              "       [43899.953  ],\n",
              "       [42417.457  ],\n",
              "       [39401.44   ],\n",
              "       [ 2494.361  ],\n",
              "       [ 8742.194  ],\n",
              "       [ 6660.4946 ],\n",
              "       [ 7085.9316 ],\n",
              "       [ 4341.772  ],\n",
              "       [ 1560.1387 ],\n",
              "       [39283.51   ],\n",
              "       [31628.781  ],\n",
              "       [12888.811  ],\n",
              "       [36074.047  ],\n",
              "       [10904.296  ],\n",
              "       [44096.26   ],\n",
              "       [ 1887.6516 ],\n",
              "       [ 8218.03   ],\n",
              "       [ 5411.91   ],\n",
              "       [ 4747.3896 ],\n",
              "       [ 2769.633  ],\n",
              "       [ 4268.583  ],\n",
              "       [ 3676.8481 ],\n",
              "       [ 9400.054  ],\n",
              "       [10280.055  ],\n",
              "       [ 3203.1511 ],\n",
              "       [ 1279.9835 ],\n",
              "       [ 2041.609  ],\n",
              "       [35982.574  ],\n",
              "       [12288.813  ],\n",
              "       [ 9506.924  ],\n",
              "       [ 1454.8702 ],\n",
              "       [11479.442  ],\n",
              "       [ 1145.4283 ],\n",
              "       [ 8798.658  ],\n",
              "       [ 2766.9634 ],\n",
              "       [40619.863  ],\n",
              "       [ 5004.9546 ],\n",
              "       [ 1679.588  ],\n",
              "       [32615.688  ],\n",
              "       [33936.75   ],\n",
              "       [ 8916.509  ],\n",
              "       [ 2900.712  ],\n",
              "       [ 8696.466  ],\n",
              "       [ 2453.4412 ],\n",
              "       [11419.99   ],\n",
              "       [11003.019  ],\n",
              "       [10297.063  ],\n",
              "       [33471.816  ],\n",
              "       [ 6706.595  ],\n",
              "       [ 4354.2495 ],\n",
              "       [ 4940.4136 ],\n",
              "       [12522.076  ],\n",
              "       [11404.532  ],\n",
              "       [ 5742.9507 ],\n",
              "       [ 2098.619  ],\n",
              "       [ 7969.176  ],\n",
              "       [ 7348.947  ],\n",
              "       [39244.156  ],\n",
              "       [ 1876.2811 ],\n",
              "       [34212.03   ],\n",
              "       [  470.11502],\n",
              "       [ 1021.37506],\n",
              "       [ 9409.418  ],\n",
              "       [10963.171  ],\n",
              "       [ 1492.3756 ],\n",
              "       [ 9095.811  ],\n",
              "       [ 4084.6365 ],\n",
              "       [37898.652  ],\n",
              "       [ 9370.313  ],\n",
              "       [ 8801.714  ],\n",
              "       [ 3677.3591 ],\n",
              "       [ 6798.631  ],\n",
              "       [39405.12   ],\n",
              "       [ 1608.0096 ],\n",
              "       [11732.681  ],\n",
              "       [35422.707  ],\n",
              "       [ 3084.5027 ],\n",
              "       [ 3190.9792 ],\n",
              "       [  765.72034],\n",
              "       [ 2871.135  ],\n",
              "       [ 3960.5037 ],\n",
              "       [ 4472.998  ],\n",
              "       [12403.192  ],\n",
              "       [  402.42166],\n",
              "       [ 1156.0736 ],\n",
              "       [ 7555.9824 ],\n",
              "       [ 3065.0488 ],\n",
              "       [11133.429  ],\n",
              "       [ 1800.2281 ],\n",
              "       [ 3038.9917 ],\n",
              "       [11251.987  ],\n",
              "       [ 3413.2874 ],\n",
              "       [ 8745.554  ],\n",
              "       [ 5959.188  ],\n",
              "       [ 7949.4155 ],\n",
              "       [11849.813  ],\n",
              "       [33831.535  ],\n",
              "       [43509.695  ],\n",
              "       [11353.721  ],\n",
              "       [ 6541.765  ],\n",
              "       [42054.87   ],\n",
              "       [ 9873.327  ]], dtype=float32)"
            ]
          },
          "execution_count": 161,
          "metadata": {},
          "output_type": "execute_result"
        }
      ],
      "source": [
        "insurance_model_1.predict(X_test_normal)"
      ]
    },
    {
      "cell_type": "code",
      "execution_count": null,
      "metadata": {
        "id": "SoKXW2iQ4HTn"
      },
      "outputs": [],
      "source": []
    }
  ],
  "metadata": {
    "accelerator": "GPU",
    "colab": {
      "provenance": []
    },
    "gpuClass": "standard",
    "kernelspec": {
      "display_name": "Python 3.10.5 64-bit",
      "language": "python",
      "name": "python3"
    },
    "language_info": {
      "codemirror_mode": {
        "name": "ipython",
        "version": 3
      },
      "file_extension": ".py",
      "mimetype": "text/x-python",
      "name": "python",
      "nbconvert_exporter": "python",
      "pygments_lexer": "ipython3",
      "version": "3.10.5 (tags/v3.10.5:f377153, Jun  6 2022, 16:14:13) [MSC v.1929 64 bit (AMD64)]"
    },
    "vscode": {
      "interpreter": {
        "hash": "22528b0417921c0685f24afda5acad23ec96e689b9627e6f7773d0637ebd39e1"
      }
    }
  },
  "nbformat": 4,
  "nbformat_minor": 0
}
