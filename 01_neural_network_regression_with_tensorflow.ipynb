{
  "cells": [
    {
      "cell_type": "markdown",
      "metadata": {
        "id": "2r0VYRyR98vd"
      },
      "source": [
        "# Introduction to Regresssion with Neural Networks in TensorFlow\n",
        "\n",
        "There are many definitions for a regressioin problem but in our case, we're going to simplify it: predicting a numerical variable based on some other combination of variables, even shorter... predicting a number"
      ]
    },
    {
      "cell_type": "code",
      "execution_count": null,
      "metadata": {
        "colab": {
          "base_uri": "https://localhost:8080/",
          "height": 36
        },
        "id": "Gqk1BktdP_PK",
        "outputId": "6f38b450-d306-4425-db92-ca71feb319ab"
      },
      "outputs": [],
      "source": [
        "# Import tensorflow\n",
        "import tensorflow as tf\n",
        "\n",
        "tf.__version__"
      ]
    },
    {
      "cell_type": "markdown",
      "metadata": {
        "id": "4WViCKwsQL-7"
      },
      "source": [
        "Creating a data to view and fit"
      ]
    },
    {
      "cell_type": "code",
      "execution_count": null,
      "metadata": {
        "colab": {
          "base_uri": "https://localhost:8080/",
          "height": 286
        },
        "id": "nEQTkt-hQ8pD",
        "outputId": "dfded4ed-93de-4d5f-b7bf-eb9fd8cc1423"
      },
      "outputs": [],
      "source": [
        "import numpy as np\n",
        "import matplotlib.pyplot as plt\n",
        "\n",
        "# Create features\n",
        "X = np.array([-7.0, -4.0, -1.0, 2.0, 5.0, 8.0, 11.0, 14.0])\n",
        "\n",
        "# Create labels\n",
        "y = np.array([3.0, 6.0, 9.0, 12.0, 15.0, 18.0, 21.0, 24.0])\n",
        "\n",
        "#Visualize it\n",
        "plt.scatter(X, y)"
      ]
    },
    {
      "cell_type": "markdown",
      "metadata": {
        "id": "nYn43vJLRcY0"
      },
      "source": [
        "# Input and output shapes"
      ]
    },
    {
      "cell_type": "code",
      "execution_count": null,
      "metadata": {
        "colab": {
          "base_uri": "https://localhost:8080/"
        },
        "id": "COhSfrAcSV9L",
        "outputId": "8a812f71-656d-4eac-dd91-0c2d64a8df9f"
      },
      "outputs": [],
      "source": [
        "# Create a demo tesnor for our housing price prediction problem\n",
        "house_info = tf.constant(['bedroom', 'bathroom', 'garage'])\n",
        "house_price = tf.constant([939700])\n",
        "house_info, house_price"
      ]
    },
    {
      "cell_type": "code",
      "execution_count": null,
      "metadata": {
        "colab": {
          "base_uri": "https://localhost:8080/"
        },
        "id": "c6vvu3AbSsI2",
        "outputId": "9b9b9588-5d10-430f-ee1a-ea63c5df01cd"
      },
      "outputs": [],
      "source": [
        "input_shape = X.shape\n",
        "output_shape = y.shape\n",
        "input_shape, output_shape"
      ]
    },
    {
      "cell_type": "code",
      "execution_count": null,
      "metadata": {
        "colab": {
          "base_uri": "https://localhost:8080/"
        },
        "id": "I5vJdEKAUD7a",
        "outputId": "b0b0477a-2b03-43a5-8604-0ca85a791682"
      },
      "outputs": [],
      "source": [
        "# Turn out NumPy arrays into tensors\n",
        "x = tf.constant(X)\n",
        "y = tf.constant(y)\n",
        "x, y"
      ]
    },
    {
      "cell_type": "code",
      "execution_count": null,
      "metadata": {
        "colab": {
          "base_uri": "https://localhost:8080/"
        },
        "id": "o_vNV2FtVTuk",
        "outputId": "764c839a-296f-47e9-a0f6-9e92819d88f1"
      },
      "outputs": [],
      "source": [
        "input_shape = x[0].shape\n",
        "output_shape = y[0].shape\n",
        "input_shape, output_shape"
      ]
    },
    {
      "cell_type": "code",
      "execution_count": null,
      "metadata": {
        "colab": {
          "base_uri": "https://localhost:8080/",
          "height": 286
        },
        "id": "XLn-WZTEVdl0",
        "outputId": "1bb7f961-c538-4782-f09c-ca140dff5479"
      },
      "outputs": [],
      "source": [
        "plt.scatter(x, y)"
      ]
    },
    {
      "cell_type": "markdown",
      "metadata": {
        "id": "KKmSzhZNVi5H"
      },
      "source": [
        "## Seteps in modelling with Tensor Flow\n",
        "1. Creating a model - define the input and output layers, as well as the hidden layers of a dep learning model\n",
        "2. Comiling a model - define the loss function (in other words, the function which tells our model how wrong it is ) and the optimizer (tells our model how to impore the patterns its learning) and evaluatinon metrics (what we can use to interpret the performance of out model).\n",
        "3. fitting a model - letting the model try to find patterns between x and y (features and labels)."
      ]
    },
    {
      "cell_type": "code",
      "execution_count": null,
      "metadata": {
        "colab": {
          "base_uri": "https://localhost:8080/"
        },
        "id": "fJVtmC5iVnHV",
        "outputId": "723c72ec-85ea-4a1d-b8d4-e8562831a786"
      },
      "outputs": [],
      "source": [
        "tf.random.set_seed(42)\n",
        "\n",
        "# 1. Create a model using the Sequential API\n",
        "model = tf.keras.Sequential([\n",
        "    tf.keras.layers.Dense(1)\n",
        "])\n",
        "\n",
        "# 2. Compile the model\n",
        "model.compile(loss=tf.keras.losses.mae,\n",
        "              optimizer=tf.keras.optimizers.SGD(),\n",
        "              metrics=[\"mae\"]\n",
        "              )\n",
        "\n",
        "# 3. Fit the model\n",
        "model.fit(tf.expand_dims(x, axis=-1), y, epochs=5)\n"
      ]
    },
    {
      "cell_type": "code",
      "execution_count": null,
      "metadata": {
        "colab": {
          "base_uri": "https://localhost:8080/"
        },
        "id": "jH4gMTiVc9tK",
        "outputId": "792417e6-75bb-4d91-d94d-c9785dc2465b"
      },
      "outputs": [],
      "source": [
        "# Check out x and y\n",
        "x, y"
      ]
    },
    {
      "cell_type": "code",
      "execution_count": null,
      "metadata": {
        "colab": {
          "base_uri": "https://localhost:8080/"
        },
        "id": "sInL7F0FtuqA",
        "outputId": "95dead2c-84aa-411a-c5c9-aa235b11c6e5"
      },
      "outputs": [],
      "source": [
        "# Try and make a prediction \n",
        "y_pred = model.predict([17.0])\n",
        "y_pred"
      ]
    },
    {
      "cell_type": "markdown",
      "metadata": {
        "id": "J1fWX3Set0zS"
      },
      "source": [
        "# Improving our model\n",
        "1. Creating a model - increase the number of hidden unitts, within each of hiden layers, change the activatioin function of each layer\n",
        "2. Compiling a model  - optimization function or perhaps the learning rate of the optimization function\n",
        "3. Fiting a model - more epochs or on more data\n",
        "\n",
        "we can imporve our model, by altering the steps we took to create a model"
      ]
    },
    {
      "cell_type": "code",
      "execution_count": null,
      "metadata": {
        "colab": {
          "base_uri": "https://localhost:8080/"
        },
        "id": "KO9HQKkevmCX",
        "outputId": "af54e33b-f22b-413e-8e2e-6d77489d07df"
      },
      "outputs": [],
      "source": [
        "# Lets rebuild our model\n",
        "\n",
        "# 1. Create a model\n",
        "model = tf.keras.Sequential(\n",
        "    [\n",
        "        tf.keras.layers.Dense(1)\n",
        "    ]\n",
        ")\n",
        "\n",
        "# 2. Compile our model\n",
        "model.compile(\n",
        "    optimizer=\"SGD\",\n",
        "    loss=\"mae\",\n",
        "    metrics=[\"mae\"]\n",
        ")\n",
        "\n",
        "# 3. Fiting a modell\n",
        "model.fit(tf.expand_dims(x, axis=-1), y, epochs=100)"
      ]
    },
    {
      "cell_type": "code",
      "execution_count": null,
      "metadata": {
        "colab": {
          "base_uri": "https://localhost:8080/"
        },
        "id": "FOxvx7ti1l0Y",
        "outputId": "1c091e66-d544-458b-c3a7-b81617da2544"
      },
      "outputs": [],
      "source": [
        "x, y"
      ]
    },
    {
      "cell_type": "code",
      "execution_count": null,
      "metadata": {
        "colab": {
          "base_uri": "https://localhost:8080/"
        },
        "id": "vuWr_jF-0DMO",
        "outputId": "d1526742-5d8c-4207-e88f-56538a08f4aa"
      },
      "outputs": [],
      "source": [
        "y_pred = model.predict([17.0])\n",
        "y_pred"
      ]
    },
    {
      "cell_type": "markdown",
      "metadata": {
        "id": "EVvLejBF0XgE"
      },
      "source": [
        "## Trying out by myself"
      ]
    },
    {
      "cell_type": "code",
      "execution_count": null,
      "metadata": {
        "colab": {
          "base_uri": "https://localhost:8080/"
        },
        "id": "PC1RuhqG2Gf7",
        "outputId": "fbd105ce-3fa2-47a8-ef08-e6ebd142a719"
      },
      "outputs": [],
      "source": [
        "try_model = tf.keras.Sequential([\n",
        "    tf.keras.layers.Dense(100, activation=\"relu\"),\n",
        "    tf.keras.layers.Dense(100, activation=\"relu\"),\n",
        "    tf.keras.layers.Dense(100, activation=\"relu\"),\n",
        "    tf.keras.layers.Dense(1)\n",
        "])\n",
        "\n",
        "try_model.compile(\n",
        "    optimizer=tf.keras.optimizers.Adam(lr=0.001),\n",
        "    loss=\"mae\",\n",
        "    metrics=[\"mae\"]\n",
        ")\n",
        "\n",
        "try_model.fit(tf.expand_dims(x, axis=-1), y, epochs=150)"
      ]
    },
    {
      "cell_type": "code",
      "execution_count": null,
      "metadata": {
        "colab": {
          "base_uri": "https://localhost:8080/"
        },
        "id": "r05fIJn226D4",
        "outputId": "2fc25f1b-918a-48b5-89cf-16441d85ad2f"
      },
      "outputs": [],
      "source": [
        "x, y"
      ]
    },
    {
      "cell_type": "code",
      "execution_count": null,
      "metadata": {
        "colab": {
          "base_uri": "https://localhost:8080/"
        },
        "id": "345Pi8RL3KEX",
        "outputId": "a45182dd-65d3-4084-e703-4f5878e3d180"
      },
      "outputs": [],
      "source": [
        "try_model.predict([17.0])"
      ]
    },
    {
      "cell_type": "markdown",
      "metadata": {
        "id": "TGVvb7JD3Onh"
      },
      "source": [
        "## Leta try from daniel point of view"
      ]
    },
    {
      "cell_type": "code",
      "execution_count": null,
      "metadata": {
        "colab": {
          "base_uri": "https://localhost:8080/"
        },
        "id": "eV193SPr4s4z",
        "outputId": "c2815b4b-96e3-4aa4-e482-8b1b324c9dc9"
      },
      "outputs": [],
      "source": [
        "model = tf.keras.Sequential([\n",
        "    # tf.keras.layers.Dense(100, activation=\"relu\"),\n",
        "    tf.keras.layers.Dense(100, activation=None),\n",
        "    tf.keras.layers.Dense(1)\n",
        "])\n",
        "\n",
        "model.compile(\n",
        "    loss=\"mae\",\n",
        "    optimizer=tf.keras.optimizers.Adam(lr=0.1),\n",
        "    metrics=['mae']\n",
        ")\n",
        "\n",
        "model.fit(tf.expand_dims(x, axis=-1), y, epochs=100)"
      ]
    },
    {
      "cell_type": "code",
      "execution_count": null,
      "metadata": {
        "colab": {
          "base_uri": "https://localhost:8080/"
        },
        "id": "qXwlNN1U7EhM",
        "outputId": "9c24c858-22df-43a1-f91c-0483e2066d86"
      },
      "outputs": [],
      "source": [
        "tf.expand_dims(x, axis=-1), x, y"
      ]
    },
    {
      "cell_type": "code",
      "execution_count": null,
      "metadata": {
        "colab": {
          "base_uri": "https://localhost:8080/"
        },
        "id": "Ujk0AXti7Rs1",
        "outputId": "861bce45-1114-4259-a60d-46ef1d17def9"
      },
      "outputs": [],
      "source": [
        "model.predict([17.0])"
      ]
    },
    {
      "cell_type": "markdown",
      "metadata": {
        "id": "DqgS5FmyAUnD"
      },
      "source": [
        "#Evaluting a Model\n",
        "\n",
        "In practice, atypical workflow you'll go through when building newural networks is:\n",
        "\n",
        "Build a model -> fit it -> evaluate it -> tweak a model -> fit it -> evaluate it -> tweak a model -> fit it ->evaluate it .....\n",
        "\n"
      ]
    },
    {
      "cell_type": "markdown",
      "metadata": {
        "id": "LtQTtsQOFZ7G"
      },
      "source": [
        "# When it comes to evaluation... you should visualize\n",
        "\n",
        "Its a good idea to visualize\n",
        "The data - what data are we working with? What dows it look like?"
      ]
    },
    {
      "cell_type": "code",
      "execution_count": null,
      "metadata": {
        "colab": {
          "base_uri": "https://localhost:8080/"
        },
        "id": "zkB-ksuTGEe5",
        "outputId": "58415e36-bf79-4ab4-84a3-a20b1d3c7cec"
      },
      "outputs": [],
      "source": [
        "# Make a bigger dataset\n",
        "X = tf.range(-100, 100, 4)\n",
        "\n",
        "# Make label for the dataset\n",
        "Y = X + 10\n",
        "\n",
        "X, Y"
      ]
    },
    {
      "cell_type": "code",
      "execution_count": null,
      "metadata": {
        "colab": {
          "base_uri": "https://localhost:8080/",
          "height": 282
        },
        "id": "HXIzmG1zqaGa",
        "outputId": "2fd67720-421f-456d-df65-0e44356e998b"
      },
      "outputs": [],
      "source": [
        "#Lets visualize the data\n",
        "plt.scatter(X, Y)"
      ]
    },
    {
      "cell_type": "code",
      "execution_count": null,
      "metadata": {
        "colab": {
          "base_uri": "https://localhost:8080/"
        },
        "id": "OZ8hvc98rh3I",
        "outputId": "bb916e5a-ec5d-4375-f224-c31396de0aa3"
      },
      "outputs": [],
      "source": [
        "X[:80], Y[:20]"
      ]
    },
    {
      "cell_type": "markdown",
      "metadata": {
        "id": "t1Tq4-aysI02"
      },
      "source": [
        "## The 3 set \n",
        "\n",
        "1. Training set - 70-80% of total data you have available.\n",
        "2. Validation set - 10-15% data\n",
        "3. Test set - 10-15% of tatal data available"
      ]
    },
    {
      "cell_type": "code",
      "execution_count": null,
      "metadata": {
        "colab": {
          "base_uri": "https://localhost:8080/"
        },
        "id": "bK6uF2X_s9J3",
        "outputId": "2ad3b666-38ca-4dce-de11-dabdfbab2a23"
      },
      "outputs": [],
      "source": [
        "# Check the lenth of how many samples we have\n",
        "len(X)\n",
        "\n",
        "x_train = X[:int(abs(len(X)/100*80))]\n",
        "y_train = Y[:int(abs(len(Y)/100*80))]\n",
        "\n",
        "x_test = X[40:]\n",
        "y_test = Y[40:]\n",
        "\n",
        "len(x_train), len(x_test)"
      ]
    },
    {
      "cell_type": "markdown",
      "metadata": {
        "id": "ZvZJiGmxtcaT"
      },
      "source": [
        "### Visualing the data\n",
        "\n",
        "Now we've got our data in training and test sets... let's visualize it again!"
      ]
    },
    {
      "cell_type": "code",
      "execution_count": null,
      "metadata": {
        "colab": {
          "base_uri": "https://localhost:8080/",
          "height": 428
        },
        "id": "_3XT-IxJu7qq",
        "outputId": "db33acdd-a25d-4aae-b8f6-5a8505730157"
      },
      "outputs": [],
      "source": [
        "plt.figure(figsize=(10, 7))\n",
        "\n",
        "#Plot training data in blue\n",
        "plt.scatter(x_train, y_train, c='b', label='Training data')\n",
        "\n",
        "# Plot test data in green\n",
        "plt.scatter(x_test, y_test, c='g', label='Testing Data')\n",
        "plt.legend()\n",
        "\n",
        "plt.show()"
      ]
    },
    {
      "cell_type": "code",
      "execution_count": null,
      "metadata": {
        "id": "MP61x0frvW5H"
      },
      "outputs": [],
      "source": [
        "# Lets have a look at how to build the neural network\n",
        "\n",
        "# 1. Create a model\n",
        "model = tf.keras.Sequential([\n",
        "    tf.keras.layers.Dense(1)\n",
        "])\n",
        "\n",
        "# 2. Compile the model\n",
        "model.compile(\n",
        "    loss=tf.keras.losses.mae,\n",
        "    optimizer=tf.keras.optimizers.SGD(),\n",
        "    metrics=['mae']\n",
        ")\n",
        "\n",
        "# 3. Fit the model\n",
        "# model.fit(x_train, y_train, epochs=100)\n",
        "\n"
      ]
    },
    {
      "cell_type": "markdown",
      "metadata": {
        "id": "lC7Tq51xxeXI"
      },
      "source": [
        "## Visualizing the model"
      ]
    },
    {
      "cell_type": "code",
      "execution_count": null,
      "metadata": {
        "colab": {
          "base_uri": "https://localhost:8080/"
        },
        "id": "agjtfsa9xpIi",
        "outputId": "b6bcd6aa-efec-4415-9a45-70a14ba90321"
      },
      "outputs": [],
      "source": [
        "# model.summary() ## this model is not yet build\n",
        "\n",
        "# model.build()\n",
        "X[0], Y[0]"
      ]
    },
    {
      "cell_type": "code",
      "execution_count": null,
      "metadata": {
        "id": "wN6d98ngxtCm"
      },
      "outputs": [],
      "source": [
        "# Lets create a model which automatically by defining the input_shape argument\n",
        "tf.random.set_seed(42)\n",
        "\n",
        "model = tf.keras.Sequential([\n",
        "    tf.keras.layers.Dense(100, input_shape=[1], name='input_layer'),\n",
        "    tf.keras.layers.Dense(100, activation=None, name='hiddin_layer'),\n",
        "    tf.keras.layers.Dense(1, name='output_layer')\n",
        "], name='model_1')\n",
        "\n",
        "model.compile(\n",
        "    loss=tf.keras.losses.mae,\n",
        "    optimizer=tf.keras.optimizers.Adam(lr=0.1),\n",
        "    metrics=['mae']\n",
        ")\n"
      ]
    },
    {
      "cell_type": "code",
      "execution_count": null,
      "metadata": {
        "colab": {
          "base_uri": "https://localhost:8080/"
        },
        "id": "XvqfBHHJzCPJ",
        "outputId": "9599fc08-ac3e-4f86-fcac-3d627a3f7202"
      },
      "outputs": [],
      "source": [
        "model.summary()"
      ]
    },
    {
      "cell_type": "markdown",
      "metadata": {
        "id": "SkfKOjzWzcNP"
      },
      "source": [
        "* Total params - total number of parameters in the model.\n",
        "* Trainable params - parameters (patterns) the model can update as it trains.\n",
        "* Non-trainable params - parameters aren't updated during training (this is typical whwn you bring in already learn patterns or parameters from other models during ** transfer learning **)."
      ]
    },
    {
      "cell_type": "code",
      "execution_count": null,
      "metadata": {
        "colab": {
          "base_uri": "https://localhost:8080/"
        },
        "id": "4cPp_yTczJZw",
        "outputId": "61cbd403-dbef-4cb2-ee45-6a99713db47b"
      },
      "outputs": [],
      "source": [
        "model.fit(x_train, y_train, epochs=100, verbose=0)"
      ]
    },
    {
      "cell_type": "code",
      "execution_count": null,
      "metadata": {
        "colab": {
          "base_uri": "https://localhost:8080/",
          "height": 422
        },
        "id": "vHgnKBH-1Wqz",
        "outputId": "13b94d4b-b6bb-4047-bfb5-d07ed5e05e4b"
      },
      "outputs": [],
      "source": [
        "from tensorflow.keras.utils import plot_model\n",
        "\n",
        "plot_model(model=model, show_shapes=True)"
      ]
    },
    {
      "cell_type": "markdown",
      "metadata": {
        "id": "AS0oXeAZ2bD4"
      },
      "source": [
        "## Visualizing  our model's prediction\n",
        "\n",
        "to visualize prediction, it's a good idea to plot them against the ground truth labels.\n",
        "\n",
        "Often youll see this in the form of y_test or y_true versus y_pred."
      ]
    },
    {
      "cell_type": "code",
      "execution_count": null,
      "metadata": {
        "colab": {
          "base_uri": "https://localhost:8080/"
        },
        "id": "llvbThg35Q85",
        "outputId": "0e2cd653-89f0-4ef8-a1ef-fa73a36fd5e5"
      },
      "outputs": [],
      "source": [
        "# Make some prediction\n",
        "y_pred = model.predict(x_test)\n",
        "y_pred"
      ]
    },
    {
      "cell_type": "code",
      "execution_count": null,
      "metadata": {
        "colab": {
          "base_uri": "https://localhost:8080/"
        },
        "id": "ROMwI_pb6TE-",
        "outputId": "fc34301d-e456-42bd-fd37-a0ee10ab90a5"
      },
      "outputs": [],
      "source": [
        "y_test"
      ]
    },
    {
      "cell_type": "code",
      "execution_count": null,
      "metadata": {
        "id": "h4QcwAND6bCK"
      },
      "outputs": [],
      "source": [
        "# Let's create a plotting function\n",
        "def plot_pred(train_data=x_train,\n",
        "              train_labels=y_train,\n",
        "              test_data=x_test,\n",
        "              test_labels=y_test,\n",
        "              predictions=y_pred):\n",
        "    \"\"\"\n",
        "    Plots training data, test data and compares prediction to ground truth\n",
        "    \"\"\"\n",
        "\n",
        "    plt.figure(figsize=(10, 7))\n",
        "    #Plot training data in blue\n",
        "    plt.scatter(train_data, train_labels, c=\"b\", label=\"Training data\")\n",
        "\n",
        "    # Plot training data in green\n",
        "    plt.scatter(test_data, test_labels, c='g', label=\"Testing data\")\n",
        "\n",
        "    # Plot model's prediction\n",
        "    plt.scatter(test_data, predictions, c='r', label=\"Predictions\")\n",
        "\n",
        "    plt.legend();\n",
        "    \n"
      ]
    },
    {
      "cell_type": "code",
      "execution_count": null,
      "metadata": {
        "colab": {
          "base_uri": "https://localhost:8080/",
          "height": 428
        },
        "id": "HqiHLASj7_8W",
        "outputId": "61cea8d8-0403-4188-8ae4-019c43d81564"
      },
      "outputs": [],
      "source": [
        "plot_pred()"
      ]
    },
    {
      "cell_type": "code",
      "execution_count": null,
      "metadata": {
        "colab": {
          "base_uri": "https://localhost:8080/",
          "height": 428
        },
        "id": "yrzBknEX8BbZ",
        "outputId": "740c9e17-fa7e-4515-95c2-cd911373b17a"
      },
      "outputs": [],
      "source": [
        "\n",
        "plot_pred(x_train, y_train, x_test, y_test, y_pred)"
      ]
    },
    {
      "cell_type": "markdown",
      "metadata": {
        "id": "q_HHp58Z8eI-"
      },
      "source": [
        "#E Evaluting our model's predictions with regression evaluation metrics\n",
        "\n",
        "mani matrics : 1. MAE - mean absolute error\\n\n",
        "               2. MSE - mean square error -> square the average error"
      ]
    },
    {
      "cell_type": "code",
      "execution_count": null,
      "metadata": {
        "colab": {
          "base_uri": "https://localhost:8080/"
        },
        "id": "kELtV1I09Sx5",
        "outputId": "712b12a3-79a4-45aa-e4c9-86a09fa20846"
      },
      "outputs": [],
      "source": [
        "## Regression evaluation\n",
        "model.evaluate(x_test, y_test)"
      ]
    },
    {
      "cell_type": "code",
      "execution_count": null,
      "metadata": {
        "colab": {
          "base_uri": "https://localhost:8080/"
        },
        "id": "HEt2BNFT-_Z4",
        "outputId": "e10d8dc9-cc7f-4ea6-d632-695ad0203649"
      },
      "outputs": [],
      "source": [
        "# Calcultate themean absolute error\n",
        "tf.metrics.mean_absolute_error(tf.reshape(y_test, shape=(10, 1)), tf.reshape(y_pred, shape=(10, 1))).numpy()"
      ]
    },
    {
      "cell_type": "code",
      "execution_count": null,
      "metadata": {
        "colab": {
          "base_uri": "https://localhost:8080/"
        },
        "id": "AKU-edkfA7Nh",
        "outputId": "6586e126-68e2-4a09-cd23-4d9ffb873a5c"
      },
      "outputs": [],
      "source": [
        "tf.squeeze(y_pred)"
      ]
    },
    {
      "cell_type": "code",
      "execution_count": null,
      "metadata": {
        "colab": {
          "base_uri": "https://localhost:8080/"
        },
        "id": "0k2oRg6ZEXQJ",
        "outputId": "5b08dca6-8de6-45cc-aa08-5782caeecc8a"
      },
      "outputs": [],
      "source": [
        "tf.metrics.mean_absolute_error(y_test, tf.squeeze(y_pred))"
      ]
    },
    {
      "cell_type": "code",
      "execution_count": null,
      "metadata": {
        "colab": {
          "base_uri": "https://localhost:8080/"
        },
        "id": "V4XvoJGwEgDP",
        "outputId": "28b29a10-4550-400b-ef06-1582966c07a4"
      },
      "outputs": [],
      "source": [
        "# Calcultaing the mean square error\n",
        "tf.keras.losses.mean_squared_error(y_test, tf.squeeze(y_pred))\n"
      ]
    },
    {
      "cell_type": "code",
      "execution_count": null,
      "metadata": {
        "id": "uuCNjU1AFiaq"
      },
      "outputs": [],
      "source": [
        "tf.random.set_seed(42)\n",
        "\n",
        "model2 = tf.keras.Sequential([\n",
        "    tf.keras.layers.Dense(100, input_shape=[1], name='input_layer'),\n",
        "    tf.keras.layers.Dense(100, activation=None, name='hiddin_layer'),\n",
        "    tf.keras.layers.Dense(1, name='output_layer')\n",
        "], name='model_1')\n",
        "\n",
        "model2.compile(\n",
        "    loss=tf.keras.losses.mean_squared_error,\n",
        "    optimizer=tf.keras.optimizers.Adam(lr=0.1),\n",
        "    metrics=['mean_squared_error']\n",
        ")\n"
      ]
    },
    {
      "cell_type": "code",
      "execution_count": null,
      "metadata": {
        "colab": {
          "base_uri": "https://localhost:8080/"
        },
        "id": "qTufFHkOGZPn",
        "outputId": "19197fdb-0018-48dd-bd44-26ea070b2577"
      },
      "outputs": [],
      "source": [
        "model2.evaluate(x_test, y_test)\n",
        "y_pred = model2.predict(x_test)"
      ]
    },
    {
      "cell_type": "code",
      "execution_count": null,
      "metadata": {
        "colab": {
          "base_uri": "https://localhost:8080/"
        },
        "id": "poUFZEYoHaUg",
        "outputId": "00894069-4999-4b18-e7b2-0bc292c2a3a0"
      },
      "outputs": [],
      "source": [
        "tf.keras.losses.mean_squared_error(y_test, tf.squeeze(y_pred))"
      ]
    },
    {
      "cell_type": "code",
      "execution_count": null,
      "metadata": {
        "colab": {
          "base_uri": "https://localhost:8080/"
        },
        "id": "UqgOMTJoHhbP",
        "outputId": "11269811-77f6-48d4-806a-5008afee459d"
      },
      "outputs": [],
      "source": [
        "tf.metrics.mean_squared_error(y_test, tf.squeeze(y_pred))"
      ]
    },
    {
      "cell_type": "code",
      "execution_count": null,
      "metadata": {
        "id": "6-mzyv70H8ym"
      },
      "outputs": [],
      "source": [
        "# Make some function to resue\n",
        "\n",
        "def mae(y_true, y_pred):\n",
        "    return tf.metrics.mean_absolute_error(y_true=y_true, y_pred=y_pred)\n",
        "\n",
        "def mse(y_true, y_pred):\n",
        "    return tf.metrics.mean_squared_error(y_true=y_true, y_pred=y_pred)\n"
      ]
    },
    {
      "cell_type": "markdown",
      "metadata": {
        "id": "D6F0GhGrJljQ"
      },
      "source": [
        "## tweak it"
      ]
    },
    {
      "cell_type": "code",
      "execution_count": null,
      "metadata": {
        "colab": {
          "base_uri": "https://localhost:8080/"
        },
        "id": "aPoRjOEaK6c3",
        "outputId": "e6d02901-5b69-47c8-a474-48e1b32924f2"
      },
      "outputs": [],
      "source": [
        "# Set random seed\n",
        "tf.random.set_seed(43)\n",
        "\n",
        "model_1 = tf.keras.Sequential([\n",
        "    tf.keras.layers.Dense(1)\n",
        "])\n",
        "\n",
        "model_1.compile(\n",
        "    loss=tf.keras.losses.mae,\n",
        "    optimizer=tf.keras.optimizers.SGD(),\n",
        "    metrics=['mae']\n",
        ")\n",
        "\n",
        "model_1.fit(tf.expand_dims(x_train, axis=-1), y_train, epochs=100, verbose=0)"
      ]
    },
    {
      "cell_type": "code",
      "execution_count": null,
      "metadata": {
        "colab": {
          "base_uri": "https://localhost:8080/",
          "height": 445
        },
        "id": "0F4o-OUNM-S9",
        "outputId": "0b52d7bb-81c5-4c0f-8d7b-257ec5d2b90e"
      },
      "outputs": [],
      "source": [
        "y_pred_1 = model_1.predict(x_test)\n",
        "plot_pred(predictions=y_pred_1)"
      ]
    },
    {
      "cell_type": "code",
      "execution_count": null,
      "metadata": {
        "colab": {
          "base_uri": "https://localhost:8080/"
        },
        "id": "9z-rEemYPiYE",
        "outputId": "94ab7dea-5cb7-4837-bdcd-5a8b97fe5c20"
      },
      "outputs": [],
      "source": [
        "mae_1 = mae(y_test, tf.squeeze(y_pred_1))\n",
        "mse_1 = mse(y_test, tf.squeeze(y_pred_1))\n",
        "\n",
        "mae_1, mse_1"
      ]
    },
    {
      "cell_type": "code",
      "execution_count": null,
      "metadata": {
        "colab": {
          "base_uri": "https://localhost:8080/"
        },
        "id": "pcPlJs4XP9NB",
        "outputId": "8ee4c7e1-901f-4ba4-f366-20c38d0c3a94"
      },
      "outputs": [],
      "source": [
        "## build model2\n",
        "tf.random.set_seed(42)\n",
        "\n",
        "\n",
        "model_2 = tf.keras.Sequential([\n",
        "    tf.keras.layers.Dense(10),\n",
        "    tf.keras.layers.Dense(1)\n",
        "])\n",
        "\n",
        "model_2.compile(\n",
        "    loss=tf.keras.losses.mae,\n",
        "    optimizer=tf.keras.optimizers.SGD(),\n",
        "    metrics=['mse']\n",
        ")\n",
        "\n",
        "model_2.fit(tf.expand_dims(x_train, axis=-1), y_train, epochs=100, verbose=0)"
      ]
    },
    {
      "cell_type": "code",
      "execution_count": null,
      "metadata": {
        "colab": {
          "base_uri": "https://localhost:8080/",
          "height": 445
        },
        "id": "497lAjX6Shrj",
        "outputId": "ce24c537-7408-4c9e-cb82-edd2aabddb06"
      },
      "outputs": [],
      "source": [
        "y_pred_2 = model_2.predict(x_test)\n",
        "plot_pred(predictions=y_pred_2)"
      ]
    },
    {
      "cell_type": "code",
      "execution_count": null,
      "metadata": {
        "colab": {
          "base_uri": "https://localhost:8080/"
        },
        "id": "nlMl9_AcS9f6",
        "outputId": "fa61a6ea-de77-4b6f-a95d-78b7dfa8ef4b"
      },
      "outputs": [],
      "source": [
        "mae_2 = mae(y_test, tf.squeeze(y_pred_2))\n",
        "mse_2 = mse(y_test, tf.squeeze(y_pred_1))\n",
        "\n",
        "mae_2, mse_2"
      ]
    },
    {
      "cell_type": "code",
      "execution_count": null,
      "metadata": {
        "colab": {
          "base_uri": "https://localhost:8080/"
        },
        "id": "G4mKR6QvWR91",
        "outputId": "25531a3c-143c-4066-d8d4-9f73e751ee7e"
      },
      "outputs": [],
      "source": [
        "x_train, y_train"
      ]
    },
    {
      "cell_type": "code",
      "execution_count": null,
      "metadata": {
        "colab": {
          "base_uri": "https://localhost:8080/"
        },
        "id": "X6U9aHyxTf-6",
        "outputId": "7f81b801-7e9e-4034-aae0-01b0fbac5a19"
      },
      "outputs": [],
      "source": [
        "model_2.predict([-100]), model_1.predict([-100])"
      ]
    },
    {
      "cell_type": "markdown",
      "metadata": {
        "id": "HQYnMz7bWJn-"
      },
      "source": [
        "###  Lets Try Model 3"
      ]
    },
    {
      "cell_type": "code",
      "execution_count": null,
      "metadata": {
        "colab": {
          "base_uri": "https://localhost:8080/"
        },
        "id": "MmYJ7etiYEEc",
        "outputId": "3cc81589-7839-48fd-c327-4b2b2846656c"
      },
      "outputs": [],
      "source": [
        "tf.random.set_seed(42)\n",
        "model_3 = tf.keras.Sequential([\n",
        "    tf.keras.layers.Dense(10),\n",
        "    tf.keras.layers.Dense(1)\n",
        "])\n",
        "\n",
        "model_3.compile(\n",
        "    loss=tf.keras.losses.mae,\n",
        "    optimizer=tf.keras.optimizers.SGD(),\n",
        "    metrics=[\"mse\"]\n",
        ")\n",
        "\n",
        "model_3.fit(tf.expand_dims(x_train, axis=-1), y_train, epochs=500, verbose=0)"
      ]
    },
    {
      "cell_type": "code",
      "execution_count": null,
      "metadata": {
        "colab": {
          "base_uri": "https://localhost:8080/",
          "height": 445
        },
        "id": "s7t7tpY_Zmnr",
        "outputId": "dc3cf899-5fc1-4340-9c3a-5bc335fbe06e"
      },
      "outputs": [],
      "source": [
        "\n",
        "y_pred_3 = model_3.predict(x_test)\n",
        "plot_pred(predictions=y_pred_3)"
      ]
    },
    {
      "cell_type": "code",
      "execution_count": null,
      "metadata": {
        "id": "YNcaT3e2aUsF"
      },
      "outputs": [],
      "source": [
        "mse_3 = mse(y_test, tf.squeeze(y_pred))\n",
        "mae_3 = mae(y_test, tf.squeeze(y_pred))"
      ]
    },
    {
      "cell_type": "markdown",
      "metadata": {
        "id": "MJAaie_Bb4kG"
      },
      "source": [
        "## Comparing our models"
      ]
    },
    {
      "cell_type": "code",
      "execution_count": null,
      "metadata": {
        "id": "kUUoJWxfccWT"
      },
      "outputs": [],
      "source": [
        "import pandas as pd\n",
        "\n",
        "model_results = [['Model_1', mae_1.numpy(), mse_1.numpy()], ['Model_2', mae_2.numpy(), mse_2.numpy()], ['Model_3', mae_3.numpy(), mse_3.numpy()]]\n",
        "\n",
        "all_results = pd.DataFrame(model_results, columns=[\"model\", 'mae', 'mse'])"
      ]
    },
    {
      "cell_type": "code",
      "execution_count": null,
      "metadata": {
        "colab": {
          "base_uri": "https://localhost:8080/",
          "height": 143
        },
        "id": "90_XvnabPtF0",
        "outputId": "13965486-a1f3-4ef1-f68b-0c44ab69a056"
      },
      "outputs": [],
      "source": [
        "all_results"
      ]
    },
    {
      "cell_type": "markdown",
      "metadata": {
        "id": "ki49TuQlQcAG"
      },
      "source": [
        "Looks lide model_2 performed the best"
      ]
    },
    {
      "cell_type": "code",
      "execution_count": null,
      "metadata": {
        "colab": {
          "base_uri": "https://localhost:8080/"
        },
        "id": "WUhFBnB7Pv2b",
        "outputId": "9ed4ac86-05c2-4aaf-aec8-13280ebcdcec"
      },
      "outputs": [],
      "source": [
        "model_2.summary()"
      ]
    },
    {
      "cell_type": "markdown",
      "metadata": {
        "id": "oQL4XHwHP_fR"
      },
      "source": [
        "ONe of your main goals should be to minimize the time between your experiments. The more experiments you do, the more things youll figure out which dont work and in turn get closer to figuing out what does work. Remember the machine learning preactioner's moto : \"experiment, experiment, experiment\"."
      ]
    },
    {
      "cell_type": "markdown",
      "metadata": {
        "id": "yKSPNO67Q-3D"
      },
      "source": [
        "# Tracking your experiments\n",
        "\n",
        "ONe really good habit in ML is to track the results of your experiments.\n",
        "\n",
        "Luckily, there are tools to help us!\n",
        "\n",
        "1. TensorBoard - componet the tensorFlow library\n",
        "2. Weights and Biases - tool for tracking all kinds of ml experiments \n"
      ]
    },
    {
      "cell_type": "markdown",
      "metadata": {
        "id": "DpE3_XxjRw3y"
      },
      "source": [
        "# Saving our models"
      ]
    },
    {
      "cell_type": "code",
      "execution_count": null,
      "metadata": {
        "id": "bSV3gMzqTv5B"
      },
      "outputs": [],
      "source": [
        "#save model using save model format\n",
        "\n",
        "# model_2.save(\"Saved_Model/model_1_saveFormat\")"
      ]
    },
    {
      "cell_type": "code",
      "execution_count": null,
      "metadata": {
        "id": "YCnmHOYeUjCh"
      },
      "outputs": [],
      "source": [
        "# model_2.save(\"Saved_Model/model_1_saveFormatHDF5.h5\")"
      ]
    },
    {
      "cell_type": "code",
      "execution_count": 2,
      "metadata": {},
      "outputs": [],
      "source": [
        "#Loading in the save model\n",
        "import tensorflow as tf"
      ]
    },
    {
      "cell_type": "code",
      "execution_count": 3,
      "metadata": {},
      "outputs": [
        {
          "name": "stdout",
          "output_type": "stream",
          "text": [
            "Model: \"sequential_6\"\n",
            "_________________________________________________________________\n",
            " Layer (type)                Output Shape              Param #   \n",
            "=================================================================\n",
            " dense_10 (Dense)            (None, 10)                20        \n",
            "                                                                 \n",
            " dense_11 (Dense)            (None, 1)                 11        \n",
            "                                                                 \n",
            "=================================================================\n",
            "Total params: 31\n",
            "Trainable params: 31\n",
            "Non-trainable params: 0\n",
            "_________________________________________________________________\n"
          ]
        }
      ],
      "source": [
        "load_saveModel_format = tf.keras.models.load_model('Saved_Model/model_1_saveFormat')\n",
        "load_saveModel_format.summary()"
      ]
    },
    {
      "cell_type": "code",
      "execution_count": 4,
      "metadata": {},
      "outputs": [
        {
          "name": "stdout",
          "output_type": "stream",
          "text": [
            "Model: \"sequential_6\"\n",
            "_________________________________________________________________\n",
            " Layer (type)                Output Shape              Param #   \n",
            "=================================================================\n",
            " dense_10 (Dense)            (None, 10)                20        \n",
            "                                                                 \n",
            " dense_11 (Dense)            (None, 1)                 11        \n",
            "                                                                 \n",
            "=================================================================\n",
            "Total params: 31\n",
            "Trainable params: 31\n",
            "Non-trainable params: 0\n",
            "_________________________________________________________________\n"
          ]
        }
      ],
      "source": [
        "load_saveModel_HDF5 = load_saveModel_HDF5 = tf.keras.models.load_model('Saved_Model/model_1_saveFormatHDF5.h5')\n",
        "load_saveModel_HDF5.summary()"
      ]
    },
    {
      "cell_type": "markdown",
      "metadata": {},
      "source": []
    },
    {
      "cell_type": "code",
      "execution_count": 5,
      "metadata": {},
      "outputs": [
        {
          "ename": "NameError",
          "evalue": "name 'model_2' is not defined",
          "output_type": "error",
          "traceback": [
            "\u001b[1;31m---------------------------------------------------------------------------\u001b[0m",
            "\u001b[1;31mNameError\u001b[0m                                 Traceback (most recent call last)",
            "\u001b[1;32mr:\\DeepLearning\\01_neural_network_regression_with_tensorflow.ipynb Cell 88\u001b[0m in \u001b[0;36m<cell line: 1>\u001b[1;34m()\u001b[0m\n\u001b[1;32m----> <a href='vscode-notebook-cell:/r%3A/DeepLearning/01_neural_network_regression_with_tensorflow.ipynb#Y151sZmlsZQ%3D%3D?line=0'>1</a>\u001b[0m model_2_preds \u001b[39m=\u001b[39m model_2\u001b[39m.\u001b[39mpredict(x_test)\n\u001b[0;32m      <a href='vscode-notebook-cell:/r%3A/DeepLearning/01_neural_network_regression_with_tensorflow.ipynb#Y151sZmlsZQ%3D%3D?line=1'>2</a>\u001b[0m loaded_model \u001b[39m=\u001b[39m load_saveModel_format\u001b[39m.\u001b[39mpredict(x_test)\n\u001b[0;32m      <a href='vscode-notebook-cell:/r%3A/DeepLearning/01_neural_network_regression_with_tensorflow.ipynb#Y151sZmlsZQ%3D%3D?line=3'>4</a>\u001b[0m model_2_preds \u001b[39m==\u001b[39m loaded_model\n",
            "\u001b[1;31mNameError\u001b[0m: name 'model_2' is not defined"
          ]
        }
      ],
      "source": [
        "model_2_preds = model_2.predict(x_test)\n",
        "loaded_model = load_saveModel_format.predict(x_test)\n",
        "\n",
        "model_2_preds == loaded_model"
      ]
    },
    {
      "cell_type": "code",
      "execution_count": 6,
      "metadata": {},
      "outputs": [
        {
          "ename": "NameError",
          "evalue": "name 'x_test' is not defined",
          "output_type": "error",
          "traceback": [
            "\u001b[1;31m---------------------------------------------------------------------------\u001b[0m",
            "\u001b[1;31mNameError\u001b[0m                                 Traceback (most recent call last)",
            "\u001b[1;32mr:\\DeepLearning\\01_neural_network_regression_with_tensorflow.ipynb Cell 89\u001b[0m in \u001b[0;36m<cell line: 1>\u001b[1;34m()\u001b[0m\n\u001b[1;32m----> <a href='vscode-notebook-cell:/r%3A/DeepLearning/01_neural_network_regression_with_tensorflow.ipynb#Y155sZmlsZQ%3D%3D?line=0'>1</a>\u001b[0m loaded_h5model \u001b[39m=\u001b[39m load_saveModel_HDF5\u001b[39m.\u001b[39mpredict(x_test)\n\u001b[0;32m      <a href='vscode-notebook-cell:/r%3A/DeepLearning/01_neural_network_regression_with_tensorflow.ipynb#Y155sZmlsZQ%3D%3D?line=3'>4</a>\u001b[0m model_2_preds \u001b[39m==\u001b[39m loaded_h5model\n",
            "\u001b[1;31mNameError\u001b[0m: name 'x_test' is not defined"
          ]
        }
      ],
      "source": [
        "loaded_h5model = load_saveModel_HDF5.predict(x_test)\n",
        "\n",
        "\n",
        "model_2_preds == loaded_h5model"
      ]
    },
    {
      "cell_type": "code",
      "execution_count": 7,
      "metadata": {},
      "outputs": [],
      "source": [
        "## Download a model from Google Colab"
      ]
    },
    {
      "cell_type": "code",
      "execution_count": 8,
      "metadata": {},
      "outputs": [],
      "source": [
        "# A larger example\n",
        "import pandas as pd\n",
        "import matplotlib.pyplot as plt"
      ]
    },
    {
      "cell_type": "code",
      "execution_count": 9,
      "metadata": {},
      "outputs": [
        {
          "data": {
            "text/html": [
              "<div>\n",
              "<style scoped>\n",
              "    .dataframe tbody tr th:only-of-type {\n",
              "        vertical-align: middle;\n",
              "    }\n",
              "\n",
              "    .dataframe tbody tr th {\n",
              "        vertical-align: top;\n",
              "    }\n",
              "\n",
              "    .dataframe thead th {\n",
              "        text-align: right;\n",
              "    }\n",
              "</style>\n",
              "<table border=\"1\" class=\"dataframe\">\n",
              "  <thead>\n",
              "    <tr style=\"text-align: right;\">\n",
              "      <th></th>\n",
              "      <th>age</th>\n",
              "      <th>sex</th>\n",
              "      <th>bmi</th>\n",
              "      <th>children</th>\n",
              "      <th>smoker</th>\n",
              "      <th>region</th>\n",
              "      <th>charges</th>\n",
              "    </tr>\n",
              "  </thead>\n",
              "  <tbody>\n",
              "    <tr>\n",
              "      <th>0</th>\n",
              "      <td>19</td>\n",
              "      <td>female</td>\n",
              "      <td>27.900</td>\n",
              "      <td>0</td>\n",
              "      <td>yes</td>\n",
              "      <td>southwest</td>\n",
              "      <td>16884.92400</td>\n",
              "    </tr>\n",
              "    <tr>\n",
              "      <th>1</th>\n",
              "      <td>18</td>\n",
              "      <td>male</td>\n",
              "      <td>33.770</td>\n",
              "      <td>1</td>\n",
              "      <td>no</td>\n",
              "      <td>southeast</td>\n",
              "      <td>1725.55230</td>\n",
              "    </tr>\n",
              "    <tr>\n",
              "      <th>2</th>\n",
              "      <td>28</td>\n",
              "      <td>male</td>\n",
              "      <td>33.000</td>\n",
              "      <td>3</td>\n",
              "      <td>no</td>\n",
              "      <td>southeast</td>\n",
              "      <td>4449.46200</td>\n",
              "    </tr>\n",
              "    <tr>\n",
              "      <th>3</th>\n",
              "      <td>33</td>\n",
              "      <td>male</td>\n",
              "      <td>22.705</td>\n",
              "      <td>0</td>\n",
              "      <td>no</td>\n",
              "      <td>northwest</td>\n",
              "      <td>21984.47061</td>\n",
              "    </tr>\n",
              "    <tr>\n",
              "      <th>4</th>\n",
              "      <td>32</td>\n",
              "      <td>male</td>\n",
              "      <td>28.880</td>\n",
              "      <td>0</td>\n",
              "      <td>no</td>\n",
              "      <td>northwest</td>\n",
              "      <td>3866.85520</td>\n",
              "    </tr>\n",
              "    <tr>\n",
              "      <th>...</th>\n",
              "      <td>...</td>\n",
              "      <td>...</td>\n",
              "      <td>...</td>\n",
              "      <td>...</td>\n",
              "      <td>...</td>\n",
              "      <td>...</td>\n",
              "      <td>...</td>\n",
              "    </tr>\n",
              "    <tr>\n",
              "      <th>1333</th>\n",
              "      <td>50</td>\n",
              "      <td>male</td>\n",
              "      <td>30.970</td>\n",
              "      <td>3</td>\n",
              "      <td>no</td>\n",
              "      <td>northwest</td>\n",
              "      <td>10600.54830</td>\n",
              "    </tr>\n",
              "    <tr>\n",
              "      <th>1334</th>\n",
              "      <td>18</td>\n",
              "      <td>female</td>\n",
              "      <td>31.920</td>\n",
              "      <td>0</td>\n",
              "      <td>no</td>\n",
              "      <td>northeast</td>\n",
              "      <td>2205.98080</td>\n",
              "    </tr>\n",
              "    <tr>\n",
              "      <th>1335</th>\n",
              "      <td>18</td>\n",
              "      <td>female</td>\n",
              "      <td>36.850</td>\n",
              "      <td>0</td>\n",
              "      <td>no</td>\n",
              "      <td>southeast</td>\n",
              "      <td>1629.83350</td>\n",
              "    </tr>\n",
              "    <tr>\n",
              "      <th>1336</th>\n",
              "      <td>21</td>\n",
              "      <td>female</td>\n",
              "      <td>25.800</td>\n",
              "      <td>0</td>\n",
              "      <td>no</td>\n",
              "      <td>southwest</td>\n",
              "      <td>2007.94500</td>\n",
              "    </tr>\n",
              "    <tr>\n",
              "      <th>1337</th>\n",
              "      <td>61</td>\n",
              "      <td>female</td>\n",
              "      <td>29.070</td>\n",
              "      <td>0</td>\n",
              "      <td>yes</td>\n",
              "      <td>northwest</td>\n",
              "      <td>29141.36030</td>\n",
              "    </tr>\n",
              "  </tbody>\n",
              "</table>\n",
              "<p>1338 rows × 7 columns</p>\n",
              "</div>"
            ],
            "text/plain": [
              "      age     sex     bmi  children smoker     region      charges\n",
              "0      19  female  27.900         0    yes  southwest  16884.92400\n",
              "1      18    male  33.770         1     no  southeast   1725.55230\n",
              "2      28    male  33.000         3     no  southeast   4449.46200\n",
              "3      33    male  22.705         0     no  northwest  21984.47061\n",
              "4      32    male  28.880         0     no  northwest   3866.85520\n",
              "...   ...     ...     ...       ...    ...        ...          ...\n",
              "1333   50    male  30.970         3     no  northwest  10600.54830\n",
              "1334   18  female  31.920         0     no  northeast   2205.98080\n",
              "1335   18  female  36.850         0     no  southeast   1629.83350\n",
              "1336   21  female  25.800         0     no  southwest   2007.94500\n",
              "1337   61  female  29.070         0    yes  northwest  29141.36030\n",
              "\n",
              "[1338 rows x 7 columns]"
            ]
          },
          "execution_count": 9,
          "metadata": {},
          "output_type": "execute_result"
        }
      ],
      "source": [
        "insurance = pd.read_csv('https://raw.githubusercontent.com/stedy/Machine-Learning-with-R-datasets/master/insurance.csv')\n",
        "insurance"
      ]
    },
    {
      "cell_type": "code",
      "execution_count": 10,
      "metadata": {},
      "outputs": [
        {
          "data": {
            "text/plain": [
              "(dtype('O'), dtype('int64'))"
            ]
          },
          "execution_count": 10,
          "metadata": {},
          "output_type": "execute_result"
        }
      ],
      "source": [
        "# model = tf.keras.Seq....\n",
        "insurance['sex'].dtype, insurance['age'].dtype"
      ]
    },
    {
      "cell_type": "code",
      "execution_count": 11,
      "metadata": {},
      "outputs": [
        {
          "data": {
            "text/html": [
              "<div>\n",
              "<style scoped>\n",
              "    .dataframe tbody tr th:only-of-type {\n",
              "        vertical-align: middle;\n",
              "    }\n",
              "\n",
              "    .dataframe tbody tr th {\n",
              "        vertical-align: top;\n",
              "    }\n",
              "\n",
              "    .dataframe thead th {\n",
              "        text-align: right;\n",
              "    }\n",
              "</style>\n",
              "<table border=\"1\" class=\"dataframe\">\n",
              "  <thead>\n",
              "    <tr style=\"text-align: right;\">\n",
              "      <th></th>\n",
              "      <th>age</th>\n",
              "      <th>sex</th>\n",
              "      <th>bmi</th>\n",
              "      <th>children</th>\n",
              "      <th>smoker</th>\n",
              "      <th>region</th>\n",
              "      <th>charges</th>\n",
              "    </tr>\n",
              "  </thead>\n",
              "  <tbody>\n",
              "    <tr>\n",
              "      <th>0</th>\n",
              "      <td>19</td>\n",
              "      <td>female</td>\n",
              "      <td>27.900</td>\n",
              "      <td>0</td>\n",
              "      <td>yes</td>\n",
              "      <td>southwest</td>\n",
              "      <td>16884.92400</td>\n",
              "    </tr>\n",
              "    <tr>\n",
              "      <th>1</th>\n",
              "      <td>18</td>\n",
              "      <td>male</td>\n",
              "      <td>33.770</td>\n",
              "      <td>1</td>\n",
              "      <td>no</td>\n",
              "      <td>southeast</td>\n",
              "      <td>1725.55230</td>\n",
              "    </tr>\n",
              "    <tr>\n",
              "      <th>2</th>\n",
              "      <td>28</td>\n",
              "      <td>male</td>\n",
              "      <td>33.000</td>\n",
              "      <td>3</td>\n",
              "      <td>no</td>\n",
              "      <td>southeast</td>\n",
              "      <td>4449.46200</td>\n",
              "    </tr>\n",
              "    <tr>\n",
              "      <th>3</th>\n",
              "      <td>33</td>\n",
              "      <td>male</td>\n",
              "      <td>22.705</td>\n",
              "      <td>0</td>\n",
              "      <td>no</td>\n",
              "      <td>northwest</td>\n",
              "      <td>21984.47061</td>\n",
              "    </tr>\n",
              "    <tr>\n",
              "      <th>4</th>\n",
              "      <td>32</td>\n",
              "      <td>male</td>\n",
              "      <td>28.880</td>\n",
              "      <td>0</td>\n",
              "      <td>no</td>\n",
              "      <td>northwest</td>\n",
              "      <td>3866.85520</td>\n",
              "    </tr>\n",
              "  </tbody>\n",
              "</table>\n",
              "</div>"
            ],
            "text/plain": [
              "   age     sex     bmi  children smoker     region      charges\n",
              "0   19  female  27.900         0    yes  southwest  16884.92400\n",
              "1   18    male  33.770         1     no  southeast   1725.55230\n",
              "2   28    male  33.000         3     no  southeast   4449.46200\n",
              "3   33    male  22.705         0     no  northwest  21984.47061\n",
              "4   32    male  28.880         0     no  northwest   3866.85520"
            ]
          },
          "execution_count": 11,
          "metadata": {},
          "output_type": "execute_result"
        }
      ],
      "source": [
        "insurance_temp = insurance\n",
        "insurance_temp.head()"
      ]
    },
    {
      "cell_type": "code",
      "execution_count": 12,
      "metadata": {},
      "outputs": [
        {
          "data": {
            "text/html": [
              "<div>\n",
              "<style scoped>\n",
              "    .dataframe tbody tr th:only-of-type {\n",
              "        vertical-align: middle;\n",
              "    }\n",
              "\n",
              "    .dataframe tbody tr th {\n",
              "        vertical-align: top;\n",
              "    }\n",
              "\n",
              "    .dataframe thead th {\n",
              "        text-align: right;\n",
              "    }\n",
              "</style>\n",
              "<table border=\"1\" class=\"dataframe\">\n",
              "  <thead>\n",
              "    <tr style=\"text-align: right;\">\n",
              "      <th></th>\n",
              "      <th>age</th>\n",
              "      <th>bmi</th>\n",
              "      <th>children</th>\n",
              "      <th>charges</th>\n",
              "      <th>sex_female</th>\n",
              "      <th>sex_male</th>\n",
              "      <th>smoker_no</th>\n",
              "      <th>smoker_yes</th>\n",
              "      <th>region_northeast</th>\n",
              "      <th>region_northwest</th>\n",
              "      <th>region_southeast</th>\n",
              "      <th>region_southwest</th>\n",
              "    </tr>\n",
              "  </thead>\n",
              "  <tbody>\n",
              "    <tr>\n",
              "      <th>0</th>\n",
              "      <td>19</td>\n",
              "      <td>27.900</td>\n",
              "      <td>0</td>\n",
              "      <td>16884.92400</td>\n",
              "      <td>1</td>\n",
              "      <td>0</td>\n",
              "      <td>0</td>\n",
              "      <td>1</td>\n",
              "      <td>0</td>\n",
              "      <td>0</td>\n",
              "      <td>0</td>\n",
              "      <td>1</td>\n",
              "    </tr>\n",
              "    <tr>\n",
              "      <th>1</th>\n",
              "      <td>18</td>\n",
              "      <td>33.770</td>\n",
              "      <td>1</td>\n",
              "      <td>1725.55230</td>\n",
              "      <td>0</td>\n",
              "      <td>1</td>\n",
              "      <td>1</td>\n",
              "      <td>0</td>\n",
              "      <td>0</td>\n",
              "      <td>0</td>\n",
              "      <td>1</td>\n",
              "      <td>0</td>\n",
              "    </tr>\n",
              "    <tr>\n",
              "      <th>2</th>\n",
              "      <td>28</td>\n",
              "      <td>33.000</td>\n",
              "      <td>3</td>\n",
              "      <td>4449.46200</td>\n",
              "      <td>0</td>\n",
              "      <td>1</td>\n",
              "      <td>1</td>\n",
              "      <td>0</td>\n",
              "      <td>0</td>\n",
              "      <td>0</td>\n",
              "      <td>1</td>\n",
              "      <td>0</td>\n",
              "    </tr>\n",
              "    <tr>\n",
              "      <th>3</th>\n",
              "      <td>33</td>\n",
              "      <td>22.705</td>\n",
              "      <td>0</td>\n",
              "      <td>21984.47061</td>\n",
              "      <td>0</td>\n",
              "      <td>1</td>\n",
              "      <td>1</td>\n",
              "      <td>0</td>\n",
              "      <td>0</td>\n",
              "      <td>1</td>\n",
              "      <td>0</td>\n",
              "      <td>0</td>\n",
              "    </tr>\n",
              "    <tr>\n",
              "      <th>4</th>\n",
              "      <td>32</td>\n",
              "      <td>28.880</td>\n",
              "      <td>0</td>\n",
              "      <td>3866.85520</td>\n",
              "      <td>0</td>\n",
              "      <td>1</td>\n",
              "      <td>1</td>\n",
              "      <td>0</td>\n",
              "      <td>0</td>\n",
              "      <td>1</td>\n",
              "      <td>0</td>\n",
              "      <td>0</td>\n",
              "    </tr>\n",
              "  </tbody>\n",
              "</table>\n",
              "</div>"
            ],
            "text/plain": [
              "   age     bmi  children      charges  sex_female  sex_male  smoker_no  \\\n",
              "0   19  27.900         0  16884.92400           1         0          0   \n",
              "1   18  33.770         1   1725.55230           0         1          1   \n",
              "2   28  33.000         3   4449.46200           0         1          1   \n",
              "3   33  22.705         0  21984.47061           0         1          1   \n",
              "4   32  28.880         0   3866.85520           0         1          1   \n",
              "\n",
              "   smoker_yes  region_northeast  region_northwest  region_southeast  \\\n",
              "0           1                 0                 0                 0   \n",
              "1           0                 0                 0                 1   \n",
              "2           0                 0                 0                 1   \n",
              "3           0                 0                 1                 0   \n",
              "4           0                 0                 1                 0   \n",
              "\n",
              "   region_southwest  \n",
              "0                 1  \n",
              "1                 0  \n",
              "2                 0  \n",
              "3                 0  \n",
              "4                 0  "
            ]
          },
          "execution_count": 12,
          "metadata": {},
          "output_type": "execute_result"
        }
      ],
      "source": [
        "insurance_one_hot = pd.get_dummies(insurance)\n",
        "insurance_one_hot.head()"
      ]
    },
    {
      "cell_type": "code",
      "execution_count": null,
      "metadata": {},
      "outputs": [],
      "source": []
    },
    {
      "cell_type": "code",
      "execution_count": 13,
      "metadata": {},
      "outputs": [],
      "source": [
        "# Create x and y values (featrues and labels)\n",
        "# Create trainin and test sets\n",
        "# Building a neural network"
      ]
    },
    {
      "cell_type": "code",
      "execution_count": 14,
      "metadata": {},
      "outputs": [
        {
          "data": {
            "text/plain": [
              "(      age     bmi  children      charges  sex_female  sex_male  smoker_no  \\\n",
              " 0      19  27.900         0  16884.92400           1         0          0   \n",
              " 1      18  33.770         1   1725.55230           0         1          1   \n",
              " 2      28  33.000         3   4449.46200           0         1          1   \n",
              " 3      33  22.705         0  21984.47061           0         1          1   \n",
              " 4      32  28.880         0   3866.85520           0         1          1   \n",
              " ...   ...     ...       ...          ...         ...       ...        ...   \n",
              " 1333   50  30.970         3  10600.54830           0         1          1   \n",
              " 1334   18  31.920         0   2205.98080           1         0          1   \n",
              " 1335   18  36.850         0   1629.83350           1         0          1   \n",
              " 1336   21  25.800         0   2007.94500           1         0          1   \n",
              " 1337   61  29.070         0  29141.36030           1         0          0   \n",
              " \n",
              "       smoker_yes  region_northeast  region_northwest  region_southeast  \\\n",
              " 0              1                 0                 0                 0   \n",
              " 1              0                 0                 0                 1   \n",
              " 2              0                 0                 0                 1   \n",
              " 3              0                 0                 1                 0   \n",
              " 4              0                 0                 1                 0   \n",
              " ...          ...               ...               ...               ...   \n",
              " 1333           0                 0                 1                 0   \n",
              " 1334           0                 1                 0                 0   \n",
              " 1335           0                 0                 0                 1   \n",
              " 1336           0                 0                 0                 0   \n",
              " 1337           1                 0                 1                 0   \n",
              " \n",
              "       region_southwest  \n",
              " 0                    1  \n",
              " 1                    0  \n",
              " 2                    0  \n",
              " 3                    0  \n",
              " 4                    0  \n",
              " ...                ...  \n",
              " 1333                 0  \n",
              " 1334                 0  \n",
              " 1335                 0  \n",
              " 1336                 1  \n",
              " 1337                 0  \n",
              " \n",
              " [1338 rows x 12 columns],\n",
              " 0       16884.92400\n",
              " 1        1725.55230\n",
              " 2        4449.46200\n",
              " 3       21984.47061\n",
              " 4        3866.85520\n",
              "            ...     \n",
              " 1333    10600.54830\n",
              " 1334     2205.98080\n",
              " 1335     1629.83350\n",
              " 1336     2007.94500\n",
              " 1337    29141.36030\n",
              " Name: charges, Length: 1338, dtype: float64)"
            ]
          },
          "execution_count": 14,
          "metadata": {},
          "output_type": "execute_result"
        }
      ],
      "source": [
        "y = insurance_one_hot['charges']\n",
        "# y = tf.constant(y)\n",
        "insurance_one_hot.drop('charges', axis=1)\n",
        "x = insurance_one_hot\n",
        "# x = tf.constant(x)\n",
        "x, y"
      ]
    },
    {
      "cell_type": "code",
      "execution_count": 18,
      "metadata": {},
      "outputs": [
        {
          "ename": "ModuleNotFoundError",
          "evalue": "No module named 'sklearn'",
          "output_type": "error",
          "traceback": [
            "\u001b[1;31m---------------------------------------------------------------------------\u001b[0m",
            "\u001b[1;31mModuleNotFoundError\u001b[0m                       Traceback (most recent call last)",
            "\u001b[1;32mr:\\DeepLearning\\01_neural_network_regression_with_tensorflow.ipynb Cell 99\u001b[0m in \u001b[0;36m<cell line: 1>\u001b[1;34m()\u001b[0m\n\u001b[1;32m----> <a href='vscode-notebook-cell:/r%3A/DeepLearning/01_neural_network_regression_with_tensorflow.ipynb#Y204sZmlsZQ%3D%3D?line=0'>1</a>\u001b[0m \u001b[39mfrom\u001b[39;00m \u001b[39msklearn\u001b[39;00m\u001b[39m.\u001b[39;00m\u001b[39mmodel_selection\u001b[39;00m \u001b[39mimport\u001b[39;00m train_test_split\n",
            "\u001b[1;31mModuleNotFoundError\u001b[0m: No module named 'sklearn'"
          ]
        }
      ],
      "source": [
        "from sklearn.model_selection import train_test_split"
      ]
    },
    {
      "cell_type": "code",
      "execution_count": 17,
      "metadata": {},
      "outputs": [
        {
          "data": {
            "text/plain": [
              "<keras.callbacks.History at 0x21ba010e7a0>"
            ]
          },
          "execution_count": 17,
          "metadata": {},
          "output_type": "execute_result"
        }
      ],
      "source": [
        "insurance_model_1 = tf.keras.Sequential([\n",
        "    tf.keras.layers.Dense(10),\n",
        "    tf.keras.layers.Dense(1)\n",
        "])\n",
        "\n",
        "insurance_model_1.compile(\n",
        "    loss=tf.keras.losses.mae,\n",
        "    optimizer=tf.keras.optimizers.SGD(),\n",
        "    metrics=['mae']\n",
        ")\n",
        "\n",
        "insurance_model_1.fit(x, y, epochs=100, verbose=0)"
      ]
    },
    {
      "cell_type": "code",
      "execution_count": null,
      "metadata": {},
      "outputs": [],
      "source": [
        "insurance_model_1.predict(x[-1])"
      ]
    },
    {
      "cell_type": "code",
      "execution_count": 1,
      "metadata": {},
      "outputs": [
        {
          "ename": "ModuleNotFoundError",
          "evalue": "No module named 'sklearn'",
          "output_type": "error",
          "traceback": [
            "\u001b[1;31m---------------------------------------------------------------------------\u001b[0m",
            "\u001b[1;31mModuleNotFoundError\u001b[0m                       Traceback (most recent call last)",
            "\u001b[1;32mr:\\DeepLearning\\01_neural_network_regression_with_tensorflow.ipynb Cell 102\u001b[0m in \u001b[0;36m<cell line: 1>\u001b[1;34m()\u001b[0m\n\u001b[1;32m----> <a href='vscode-notebook-cell:/r%3A/DeepLearning/01_neural_network_regression_with_tensorflow.ipynb#Y203sZmlsZQ%3D%3D?line=0'>1</a>\u001b[0m \u001b[39mimport\u001b[39;00m \u001b[39msklearn\u001b[39;00m\n",
            "\u001b[1;31mModuleNotFoundError\u001b[0m: No module named 'sklearn'"
          ]
        }
      ],
      "source": [
        "import sklearn\n"
      ]
    },
    {
      "cell_type": "code",
      "execution_count": null,
      "metadata": {},
      "outputs": [],
      "source": []
    }
  ],
  "metadata": {
    "accelerator": "GPU",
    "colab": {
      "provenance": []
    },
    "gpuClass": "standard",
    "kernelspec": {
      "display_name": "Python 3.10.5 64-bit",
      "language": "python",
      "name": "python3"
    },
    "language_info": {
      "codemirror_mode": {
        "name": "ipython",
        "version": 3
      },
      "file_extension": ".py",
      "mimetype": "text/x-python",
      "name": "python",
      "nbconvert_exporter": "python",
      "pygments_lexer": "ipython3",
      "version": "3.10.5"
    },
    "vscode": {
      "interpreter": {
        "hash": "22528b0417921c0685f24afda5acad23ec96e689b9627e6f7773d0637ebd39e1"
      }
    }
  },
  "nbformat": 4,
  "nbformat_minor": 0
}
